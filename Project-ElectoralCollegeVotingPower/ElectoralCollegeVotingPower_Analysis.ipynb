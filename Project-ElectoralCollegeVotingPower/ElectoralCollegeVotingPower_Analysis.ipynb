{
 "cells": [
  {
   "cell_type": "markdown",
   "source": [
    "# Electoral College Voting Power Analysis\n",
    "\n",
    "This project analyzes the voting power of each state in the United States based on the Electoral College system. The goal is to highlight the discrepancies in voting power depending on the state in which a voter resides, demonstrating how this system contradicts the philosophy of \"one person, one vote.\"\n",
    "\n",
    "## Objectives\n",
    "- Quantify the voting power of each state's citizens based on their electoral votes and population.\n",
    "- Visualize the differences in voting power among states.\n",
    "- Discuss the implications of these discrepancies on democratic principles and election outcomes.\n"
   ],
   "metadata": {
    "collapsed": false
   }
  },
  {
   "cell_type": "markdown",
   "source": [
    "## Importing Required Libraries\n",
    "Let's start by importing the necessary libraries for data collection, analysis, and visualization."
   ],
   "metadata": {
    "collapsed": false
   }
  },
  {
   "cell_type": "code",
   "execution_count": null,
   "outputs": [],
   "source": [
    "# Install required packages\n",
    "from bs4 import BeautifulSoup\n",
    "import pandas as pd\n",
    "import requests\n",
    "import geopandas as gpd\n",
    "import plotly.express as px\n",
    "import json\n",
    "from shapely.geometry import MultiPolygon, Polygon\n",
    "from shapely.affinity import scale, translate\n",
    "\n",
    "pd.set_option('display.max_columns', None)"
   ],
   "metadata": {
    "collapsed": false,
    "pycharm": {
     "is_executing": true
    }
   }
  },
  {
   "cell_type": "markdown",
   "source": [
    "## Data Collection\n",
    "\n",
    "### Electoral Votes\n",
    "We will collect the number of electoral votes for each state from the National Archives using BeautifulSoup. HTML scraping is needed to find the table on the page and extract the text results for cleaning. The strings are split by the dash delimiter to create the state and votes columns, stripped of whitespace. Then a simple regex pattern extracts the numbers from the votes strings and converts them to integers."
   ],
   "metadata": {
    "collapsed": false
   }
  },
  {
   "cell_type": "code",
   "execution_count": null,
   "outputs": [],
   "source": [
    "electoral_college_url = \"https://www.archives.gov/electoral-college/allocation\"\n",
    "r = requests.get(electoral_college_url)\n",
    "html_doc = r.text\n",
    "soup = BeautifulSoup(html_doc, 'html.parser')\n",
    "\n",
    "# Find the table body\n",
    "table = soup.find('tbody')\n",
    "\n",
    "# Initialize a list to store the rows of data\n",
    "data = []\n",
    "\n",
    "# Find table rows and table data within the table\n",
    "for tr in table.find_all('tr'):\n",
    "    row = []\n",
    "    for td in tr.find_all('td'):\n",
    "        row.append(td.text.strip())\n",
    "    data.append(row)\n",
    "\n",
    "# Convert the list of lists (rows) into individual list elements\n",
    "state_votes = [element for list in data for element in list]\n",
    "\n",
    "# Convert list elements into a df\n",
    "ec_df = pd.DataFrame(state_votes)\n",
    "\n",
    "# Split string 'Alabama - 9 votes' into 'Alabama' and '9 votes'\n",
    "split_states = ec_df[0].str.split(\"-\", expand=True)\n",
    "ec_df = ec_df.assign(state=split_states[0].str.strip(), votes=split_states[1].str.strip())\n",
    "\n",
    "# Remove votes from string and convert to integer\n",
    "pattern = r'(\\d+)'\n",
    "ec_df['votes'] = ec_df['votes'].str.extract(pattern).astype(int)\n",
    "\n",
    "# Drop original column, keeping only state and vote columns, and save as electoral votes df\n",
    "electoral_votes = ec_df.drop(columns=[0])\n",
    "#print(electoral_votes)"
   ],
   "metadata": {
    "collapsed": false,
    "pycharm": {
     "is_executing": true
    }
   }
  },
  {
   "cell_type": "markdown",
   "source": [
    "The results of electoral_votes appears like this:\n",
    "| state        | votes |\n",
    "|--------------|:-----:|\n",
    "| Alabama      | 9     |\n",
    "| Kentucky     | 8     |\n",
    "| North Dakota | 3     |\n",
    "| Alaska       | 3     |\n",
    "| Louisiana    | 8     |\n",
    "\n",
    "### Census Population\n",
    "Next, we will gather the latest population estimates for each state from the United States Census Bureau. This data is already in good form and needs few manipulations. We also merge the datasets together, drop unnecessary columns, and scale the population into millions."
   ],
   "metadata": {
    "collapsed": false
   }
  },
  {
   "cell_type": "code",
   "execution_count": null,
   "outputs": [],
   "source": [
    "## Gather Census Population ##\n",
    "census_url = 'https://www2.census.gov/programs-surveys/popest/datasets/2020-2023/state/totals/NST-EST2023-ALLDATA.csv'\n",
    "census_df = pd.read_csv(census_url)\n",
    "\n",
    "# Retain only relevant columns\n",
    "census_df = census_df[['NAME', 'POPESTIMATE2023']]\n",
    "\n",
    "# Filter to only states present in the electoral college dataset\n",
    "states_df = census_df[census_df['NAME'].isin(electoral_votes['state'])]\n",
    "\n",
    "# Merge into one df based on state name\n",
    "merged_df = electoral_votes.merge(states_df, left_on='state', right_on='NAME')\n",
    "\n",
    "# Drop unnecessary column and rename population column for consistency\n",
    "df = merged_df.drop(columns=['NAME']).rename(columns={'POPESTIMATE2023': 'population_2023'})\n",
    "\n",
    "# Scale the population into millions for readability\n",
    "df['pop_mlns'] = df['population_2023']/1000000"
   ],
   "metadata": {
    "collapsed": false
   }
  },
  {
   "cell_type": "markdown",
   "source": [
    "## Calculating Voting Power\n",
    "We will now calculate the voting power for each state by dividing the number of electoral votes by the population in millions of each state stored as the votes per million people. While this metric can be used to understand voting power for each individual in each state, we also want to compare the results between states and use it for color scaling. To assist with this, the average of every state's votes per million people is taken as the baseline for scale. This average is 2.17 electoral votes per million people as of 2023."
   ],
   "metadata": {
    "collapsed": false
   }
  },
  {
   "cell_type": "code",
   "execution_count": null,
   "outputs": [],
   "source": [
    "# Calculate the electoral votes per million people\n",
    "df['votes_per_mln_people'] = round(df['votes']/df['pop_mlns'], 2)\n",
    "\n",
    "# Determine a baseline of average electoral votes per million people and calculate the % of each state over or under\n",
    "avg_vote = df['votes_per_mln_people'].mean()\n",
    "df['voting_power_over_avg'] = round((df['votes_per_mln_people'] - avg_vote)/avg_vote * 100, 1)\n",
    "\n",
    "#print(df)"
   ],
   "metadata": {
    "collapsed": false
   }
  },
  {
   "cell_type": "markdown",
   "source": [
    "The results of df appears like this:\n",
    "| state        | votes | population_2023 | pop_mlns | votes_per_mln_people | voting_power_over_avg |\n",
    "|--------------|:-----:|:---------------:|:--------:|:--------------------:|:---------------------:|\n",
    "| Alabama      | 9     | 5108468         | 5.108468 | 1.76                 | -18.9                 |\n",
    "| Kentucky     | 8     | 4526154         | 4.526154 | 1.77                 | -18.4                 |\n",
    "| North Dakota | 3     | 783926          | 0.783926 | 3.83                 | 76.6                  |\n",
    "| Alaska       | 3     | 733406          | 0.733406 | 4.09                 | 88.6                  |\n",
    "| Louisiana    | 8     | 4573749         | 4.573749 | 1.75                 | -19.3                 |\n",
    "\n",
    "## Visualization\n",
    "We will create visualizations to show the voting power distribution across the United States using geopandas and a shapefile from the US Census."
   ],
   "metadata": {
    "collapsed": false
   }
  },
  {
   "cell_type": "code",
   "execution_count": null,
   "outputs": [],
   "source": [
    "## Load US Shapefile ##\n",
    "us_url = 'https://www2.census.gov/geo/tiger/GENZ2018/shp/cb_2018_us_state_20m.zip'\n",
    "gdf = gpd.read_file(us_url)\n",
    "#print(gdf)\n",
    "\n",
    "# Merge shapefile with calculated df\n",
    "merged = gdf.merge(df, left_on='NAME', right_on='state')"
   ],
   "metadata": {
    "collapsed": false
   }
  },
  {
   "cell_type": "markdown",
   "source": [
    "To better visualize Alaska and Hawaii, we'll transform their coordinates to bring them closer to the continental US and scale their size. Because the labels plotted on top of the states have their own geocoordinates, these must be remapped to use for later."
   ],
   "metadata": {
    "collapsed": false
   }
  },
  {
   "cell_type": "code",
   "execution_count": null,
   "outputs": [],
   "source": [
    "# Custom function to transform the coordinates of Alaska and Hawaii\n",
    "def transform_state_geometry(geometry, scale_factor, x_offset, y_offset):\n",
    "    if isinstance(geometry, MultiPolygon):\n",
    "        return MultiPolygon([translate(scale(part, xfact=scale_factor, yfact=scale_factor, origin='center'), xoff=x_offset, yoff=y_offset) for part in geometry.geoms])\n",
    "    elif isinstance(geometry, Polygon):\n",
    "        return translate(scale(geometry, xfact=scale_factor, yfact=scale_factor, origin='center'), xoff=x_offset, yoff=y_offset)\n",
    "    else:\n",
    "        raise TypeError(f\"Geometry type {type(geometry)} is not supported for transformation.\")\n",
    "\n",
    "# Apply transformations to Alaska and Hawaii to move them closer to the continent\n",
    "for idx, row in merged.iterrows():\n",
    "    if row['STUSPS'] == 'AK':\n",
    "        merged.at[idx, 'geometry'] = transform_state_geometry(row['geometry'], 0.35, 20, -10)\n",
    "    elif row['STUSPS'] == 'HI':\n",
    "        merged.at[idx, 'geometry'] = transform_state_geometry(row['geometry'], 1.2, 30, 10)\n",
    "\n",
    "# Recalculate the representative points for label placement\n",
    "merged['rep_point'] = merged['geometry'].apply(lambda geom: geom.representative_point().coords[:][0])"
   ],
   "metadata": {
    "collapsed": false
   }
  },
  {
   "cell_type": "markdown",
   "source": [
    "We will now create a choropleth map to visualize the voting power distribution. The map will be scaled to highlight the differences in voting power among states. Since several states are severe outliers, such as Wyoming, Vermont, and DC, a color scale using quantiles is necessary. Otherwise, a majority of the states will appear around average (white). Another custom color scale is necessary to be able to center the color spectrum at 0 and still consider the outliers."
   ],
   "metadata": {
    "collapsed": false
   }
  },
  {
   "cell_type": "code",
   "execution_count": null,
   "outputs": [],
   "source": [
    "# Calculate the 5th and 95th percentiles for color scaling, dealing with outliers\n",
    "voting_power_percentiles = merged['voting_power_over_avg'].quantile([0.05, 0.95])\n",
    "vmin, vmax = voting_power_percentiles[0.05], voting_power_percentiles[0.95]\n",
    "\n",
    "# Define custom color scale to center at 0\n",
    "color_scale = [\n",
    "    [0, 'red'],\n",
    "    [0.5 * (1 + vmin / vmax), 'white'],\n",
    "    [1, 'blue']\n",
    "]\n",
    "\n",
    "merged_geojson = json.loads(merged.to_json())"
   ],
   "metadata": {
    "collapsed": false
   }
  },
  {
   "cell_type": "markdown",
   "source": [
    "Some changes are needed to improve the readability of the map. Labels of the electoral votes per million people are added to the states, details are added to the hovering pane, color scales are added, the map is zoomed in, and the map is centered using latitude and longitude. We also add a title, the average votes that we use for scale as the subtitle, and the top 5 and bottom 5 states by voting power are added underneath the title."
   ],
   "metadata": {
    "collapsed": false
   }
  },
  {
   "cell_type": "code",
   "execution_count": null,
   "outputs": [],
   "source": [
    "# Plot figure\n",
    "fig = px.choropleth(\n",
    "    merged,\n",
    "    geojson=merged_geojson,\n",
    "    locations=merged.index,\n",
    "    color='voting_power_over_avg',\n",
    "    hover_name='NAME',\n",
    "    hover_data={'population_2023': True, 'votes': True, 'voting_power_over_avg': True, 'STUSPS': False},\n",
    "    color_continuous_scale=color_scale,\n",
    "    range_color=(vmin, vmax),\n",
    "    labels={\n",
    "        'population_2023': 'Population (2023)',\n",
    "        'votes': 'Electoral Votes',\n",
    "        'voting_power_over_avg': 'Percentage Difference from Average (%)'\n",
    "    }\n",
    ")\n",
    "\n",
    "# Add state labels\n",
    "for i, row in merged.iterrows():\n",
    "    fig.add_scattergeo(\n",
    "        locationmode='USA-states',\n",
    "        lon=[row['rep_point'][0]],\n",
    "        lat=[row['rep_point'][1]],\n",
    "        text=row[\"votes_per_mln_people\"],\n",
    "        mode='text',\n",
    "        textfont=dict(size=10, color='black', family=\"Arial\", weight=\"bold\"),\n",
    "        showlegend=False,\n",
    "        hovertext=f'{row[\"votes_per_mln_people\"]} Electoral Votes per Million People',\n",
    "        hoverinfo='text'\n",
    "    )\n",
    "\n",
    "# Adjust centering and scaling of map\n",
    "fig.update_geos(\n",
    "    projection_scale=5,\n",
    "    center=dict(lat=40, lon=-100),\n",
    "    visible=False\n",
    ")\n",
    "\n",
    "fig.update_layout(\n",
    "    title={\n",
    "        'text': f\"Voting Power per Million People by State<br><sup>Average Electoral Votes per Million People: {avg_vote:.2f}</sup>\",\n",
    "        'x':0.5\n",
    "    }\n",
    ")\n",
    "\n",
    "# Identify the top 5 and bottom 5 states based on their voting power\n",
    "top_5_states = merged.nlargest(5, 'votes_per_mln_people')\n",
    "bottom_5_states = merged.nsmallest(5, 'votes_per_mln_people')\n",
    "\n",
    "# Add annotation of the top/bottom 5 states for the plot\n",
    "top_5_text = \"<br>\".join([f\"{row['STUSPS']}: {row['votes_per_mln_people']} votes/million | {row['voting_power_over_avg']}%\" for idx, row in top_5_states.iterrows()])\n",
    "bottom_5_text = \"<br>\".join([f\"{row['STUSPS']}: {row['votes_per_mln_people']} votes/million | {row['voting_power_over_avg']}%\" for idx, row in bottom_5_states.iterrows()])\n",
    "\n",
    "annotations = [\n",
    "    dict(\n",
    "        x=0.45,\n",
    "        y=0.95,\n",
    "        xref='paper',\n",
    "        yref='paper',\n",
    "        text=f\"<b>Top 5 States</b><br>{top_5_text}\",\n",
    "        showarrow=False,\n",
    "        align='center'\n",
    "    ),\n",
    "    dict(\n",
    "        x=0.75,\n",
    "        y=0.95,\n",
    "        xref='paper',\n",
    "        yref='paper',\n",
    "        text=f\"<b>Bottom 5 States</b><br>{bottom_5_text}\",\n",
    "        showarrow=False,\n",
    "        align='center'\n",
    "    )\n",
    "]\n",
    "\n",
    "fig.update_layout(annotations=annotations)\n",
    "\n",
    "fig.show()"
   ],
   "metadata": {
    "collapsed": false
   }
  },
  {
   "cell_type": "markdown",
   "source": [
    "The resulting map displays the United States with each state highlighted in a bolder red color for the least amount of electoral votes per person (least voting power), bolder blue color for largest votes per person (largest voting power), and towards white when near the national average of 2.17 electoral votes per million people. Each state has a label showing its number of electoral votes per million people. When hovered, it provides additional text explaining this. When the state itself is hovered over (not the label), details about the state's population, number of electoral votes, and the percentage above or below the national average are displayed.\n",
    "\n",
    "In result, we see that some states provide significantly more voting power to each individual than others. For example, Wyoming provides 5.14 electoral votes per million people (137% above the average), whereas Texas provides 1.31 electoral votes per million people (33.6% below the average). There is an observable pattern where state population and voting power are inversely related. California, Texas, Florida, New York, and Florida are amongst the highest populations with the lowest voting power. This is not always the case, and is more apparent where population is much higher or lower than the average.\n",
    "\n",
    "## Final Note\n",
    "The Electoral College was originally established to ensure that presidential candidates represented the interests of states with smaller populations, preventing them from being overshadowed by more populous states. This system allocates a fixed number of electoral votes to each state, based on its representation in Congress (the sum of its Senators and Representatives). However, this arrangement has significant implications for the principle of \"one person, one vote.\"\n",
    "\n",
    "In recent presidential elections, there have been instances where the candidate who won the popular vote did not win the presidency due to the distribution of electoral votes. This discrepancy highlights how the voting power of individuals can vary greatly depending on the state in which they reside. For example, a vote in a smaller state like Wyoming carries more weight in the Electoral College than a vote in a larger state like California. This uneven distribution of voting power raises questions about the fairness and democratic nature of the Electoral College system, as it can lead to election outcomes that do not reflect the popular will of the nation.\n",
    "\n"
   ],
   "metadata": {
    "collapsed": false
   }
  },
  {
   "cell_type": "markdown",
   "source": [],
   "metadata": {
    "collapsed": false
   }
  }
 ],
 "metadata": {
  "kernelspec": {
   "display_name": "Python 3",
   "language": "python",
   "name": "python3"
  },
  "language_info": {
   "codemirror_mode": {
    "name": "ipython",
    "version": 2
   },
   "file_extension": ".py",
   "mimetype": "text/x-python",
   "name": "python",
   "nbconvert_exporter": "python",
   "pygments_lexer": "ipython2",
   "version": "2.7.6"
  }
 },
 "nbformat": 4,
 "nbformat_minor": 0
}

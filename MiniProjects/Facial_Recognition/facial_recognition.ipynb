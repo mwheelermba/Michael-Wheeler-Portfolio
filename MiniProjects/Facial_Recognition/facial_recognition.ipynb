{
 "cells": [
  {
   "cell_type": "code",
   "execution_count": 16,
   "metadata": {
    "collapsed": true
   },
   "outputs": [
    {
     "name": "stdout",
     "output_type": "stream",
     "text": [
      "          0         1         2         3         4         5         6  \\\n",
      "0 -2.061987  0.581320 -0.249115 -0.631340 -1.359899  0.751619 -0.029364   \n",
      "1 -0.796838 -0.667228 -0.107889  0.019755 -0.686348  0.912779  0.463412   \n",
      "2  5.376779  1.142695  2.543111 -2.727212  0.272785 -0.972187  1.111221   \n",
      "3  7.029235  1.242883 -2.628079  1.224479 -1.141370 -1.620647  0.205890   \n",
      "4  5.484822  6.752706 -4.291114  1.740412 -1.603087 -1.075175  1.919936   \n",
      "\n",
      "          7         8         9  ...       141       142       143       144  \\\n",
      "0  1.610456  0.341402  1.286709  ... -0.356844 -0.016488 -0.228473  0.258134   \n",
      "1 -0.238308 -0.294023  0.215470  ... -0.037243 -0.012105 -0.351285 -0.034968   \n",
      "2  1.645502 -2.556968 -0.648781  ...  0.157441 -0.333875 -0.303720 -0.085975   \n",
      "3  1.567561  0.736200  0.010782  ...  0.051040 -0.068796  0.141841 -0.227999   \n",
      "4 -0.197615  1.030596  1.451936  ...  0.034412  0.265141  0.226000  0.032064   \n",
      "\n",
      "        145       146       147       148       149  Label  \n",
      "0  0.046834  0.135742 -0.068297  0.022038  0.090003      1  \n",
      "1  0.192314 -0.015406 -0.089117  0.023588 -0.019998      1  \n",
      "2  0.171346  0.128577 -0.118262  0.045881 -0.190158      1  \n",
      "3  0.046044  0.013643 -0.125893  0.146396  0.013320      1  \n",
      "4 -0.113654  0.059126 -0.216803  0.025849  0.020456      1  \n",
      "\n",
      "[5 rows x 151 columns]\n"
     ]
    }
   ],
   "source": [
    "# Import required libraries\n",
    "import pandas as pd\n",
    "from sklearn.pipeline import Pipeline\n",
    "from sklearn.preprocessing import StandardScaler\n",
    "from sklearn.model_selection import GridSearchCV, KFold, train_test_split\n",
    "from sklearn.metrics import accuracy_score, precision_score, recall_score, f1_score, confusion_matrix\n",
    "import seaborn as sns\n",
    "import matplotlib.pyplot as plt\n",
    "from sklearn.neighbors import KNeighborsClassifier\n",
    "from sklearn.linear_model import LogisticRegression\n",
    "from sklearn.tree import DecisionTreeClassifier\n",
    "import numpy as np\n",
    "from sklearn.metrics import classification_report, confusion_matrix\n",
    "\n",
    "# Read the CSV file\n",
    "df = pd.read_csv(\"lfw_arnie_nonarnie.csv\")\n",
    "print(df.head())\n",
    "\n",
    "seed = 21"
   ]
  },
  {
   "cell_type": "markdown",
   "source": [
    "The dataset contains data that is already standardized and has had its dimension reduced using Principal Component Analysis. Therefore, we can jump right into the modeling."
   ],
   "metadata": {
    "collapsed": false
   }
  },
  {
   "cell_type": "code",
   "execution_count": 17,
   "outputs": [],
   "source": [
    "# Seperate the predictor and class label\n",
    "X = df.drop('Label', axis=1)\n",
    "y = df['Label']\n",
    "\n",
    "# Split the data into training and testing sets using stratify to balance the class\n",
    "X_train, X_test, y_train, y_test = train_test_split(X, y, test_size=0.2, random_state=21, stratify=y)"
   ],
   "metadata": {
    "collapsed": false
   }
  },
  {
   "cell_type": "markdown",
   "source": [
    "This project calls for pipelines for three classification models. The three that I have chosen are Logistic Regression, K-Neighbors Classifier, and Decision Tree Classifier."
   ],
   "metadata": {
    "collapsed": false
   }
  },
  {
   "cell_type": "code",
   "execution_count": 18,
   "outputs": [],
   "source": [
    "# Instantiate classification models\n",
    "models = {\n",
    "    'Logistic Regression': LogisticRegression(random_state=seed),\n",
    "    'KNN': KNeighborsClassifier(),\n",
    "    'Decision Tree': DecisionTreeClassifier(random_state=seed)\n",
    "}\n",
    "\n",
    "# Create parameter grid for Cross Validation & Hyperparameter Tuning\n",
    "param_grid = [\n",
    "    {\n",
    "        'classifier': [LogisticRegression(random_state=seed)],\n",
    "        'classifier__C': np.arange(0.001, 1.1, 0.1)\n",
    "    },\n",
    "    {\n",
    "        'classifier': [KNeighborsClassifier()],\n",
    "        'classifier__n_neighbors': np.arange(1, 25, 3)\n",
    "    },\n",
    "    {\n",
    "        'classifier': [DecisionTreeClassifier(random_state=seed)],\n",
    "        'classifier__max_depth': [None, 10, 20]\n",
    "    }\n",
    "]\n",
    "\n",
    "# Cross Validation\n",
    "kf = KFold(n_splits=5, random_state=seed, shuffle=True)\n",
    "\n",
    "# Create blank dictionary to store model results\n",
    "best_models= {}"
   ],
   "metadata": {
    "collapsed": false
   }
  },
  {
   "cell_type": "markdown",
   "source": [
    "Now that the models, parameters, and cross validation is all instantiated, we can loop the pipelines for each model and its varying parameters to determine which model and its parameters perform the best.\n",
    "\n",
    "The metric of interest for this project is accuracy, so we'll use the grid_search.best_score_ value to find the model's accuracy."
   ],
   "metadata": {
    "collapsed": false
   }
  },
  {
   "cell_type": "code",
   "execution_count": 19,
   "outputs": [
    {
     "name": "stdout",
     "output_type": "stream",
     "text": [
      "GridSearchCV(cv=KFold(n_splits=5, random_state=21, shuffle=True),\n",
      "             estimator=Pipeline(steps=[('scaler', StandardScaler()),\n",
      "                                       ('classifier',\n",
      "                                        LogisticRegression(random_state=21))]),\n",
      "             param_grid=[{'classifier': [LogisticRegression(C=0.201,\n",
      "                                                            random_state=21)],\n",
      "                          'classifier__C': array([1.000e-03, 1.010e-01, 2.010e-01, 3.010e-01, 4.010e-01, 5.010e-01,\n",
      "       6.010e-01, 7.010e-01, 8.010e-01, 9.010e-01, 1.001e+00])},\n",
      "                         {'classifier': [KNeighborsClassifier()],\n",
      "                          'classifier__n_neighbors': array([ 1,  4,  7, 10, 13, 16, 19, 22])},\n",
      "                         {'classifier': [DecisionTreeClassifier(random_state=21)],\n",
      "                          'classifier__max_depth': [None, 10, 20]}])\n",
      "Logistic Regression: Best Parameters: {'classifier': LogisticRegression(C=0.201, random_state=21), 'classifier__C': 0.201}, Best CV Score: 0.8019354838709678\n",
      "GridSearchCV(cv=KFold(n_splits=5, random_state=21, shuffle=True),\n",
      "             estimator=Pipeline(steps=[('scaler', StandardScaler()),\n",
      "                                       ('classifier', KNeighborsClassifier())]),\n",
      "             param_grid=[{'classifier': [LogisticRegression(C=0.201,\n",
      "                                                            random_state=21)],\n",
      "                          'classifier__C': array([1.000e-03, 1.010e-01, 2.010e-01, 3.010e-01, 4.010e-01, 5.010e-01,\n",
      "       6.010e-01, 7.010e-01, 8.010e-01, 9.010e-01, 1.001e+00])},\n",
      "                         {'classifier': [KNeighborsClassifier()],\n",
      "                          'classifier__n_neighbors': array([ 1,  4,  7, 10, 13, 16, 19, 22])},\n",
      "                         {'classifier': [DecisionTreeClassifier(random_state=21)],\n",
      "                          'classifier__max_depth': [None, 10, 20]}])\n",
      "KNN: Best Parameters: {'classifier': LogisticRegression(C=0.201, random_state=21), 'classifier__C': 0.201}, Best CV Score: 0.8019354838709678\n",
      "GridSearchCV(cv=KFold(n_splits=5, random_state=21, shuffle=True),\n",
      "             estimator=Pipeline(steps=[('scaler', StandardScaler()),\n",
      "                                       ('classifier',\n",
      "                                        DecisionTreeClassifier(random_state=21))]),\n",
      "             param_grid=[{'classifier': [LogisticRegression(C=0.201,\n",
      "                                                            random_state=21)],\n",
      "                          'classifier__C': array([1.000e-03, 1.010e-01, 2.010e-01, 3.010e-01, 4.010e-01, 5.010e-01,\n",
      "       6.010e-01, 7.010e-01, 8.010e-01, 9.010e-01, 1.001e+00])},\n",
      "                         {'classifier': [KNeighborsClassifier()],\n",
      "                          'classifier__n_neighbors': array([ 1,  4,  7, 10, 13, 16, 19, 22])},\n",
      "                         {'classifier': [DecisionTreeClassifier(random_state=21)],\n",
      "                          'classifier__max_depth': [None, 10, 20]}])\n",
      "Decision Tree: Best Parameters: {'classifier': LogisticRegression(C=0.201, random_state=21), 'classifier__C': 0.201}, Best CV Score: 0.8019354838709678\n"
     ]
    }
   ],
   "source": [
    "for model_name, model in models.items():\n",
    "    steps = [\n",
    "        ('scaler', StandardScaler()),\n",
    "        ('classifier', model)\n",
    "    ]\n",
    "    pipeline = Pipeline(steps)\n",
    "    grid_search = GridSearchCV(pipeline, param_grid, cv=kf)\n",
    "    grid_search.fit(X_train, y_train)\n",
    "    print(grid_search)\n",
    "\n",
    "    best_models[model_name] = {\n",
    "        'best_estimator': grid_search.best_estimator_,\n",
    "        'best_params': grid_search.best_params_,\n",
    "        'best_score': grid_search.best_score_\n",
    "    }\n",
    "    print(f\"{model_name}: Best Parameters: {grid_search.best_params_}, Best CV Score: {grid_search.best_score_}\")"
   ],
   "metadata": {
    "collapsed": false
   }
  },
  {
   "cell_type": "markdown",
   "source": [
    "Next, we'll grab the best model and its score from our dictionary of results."
   ],
   "metadata": {
    "collapsed": false
   }
  },
  {
   "cell_type": "code",
   "execution_count": 20,
   "outputs": [
    {
     "name": "stdout",
     "output_type": "stream",
     "text": [
      "Pipeline(steps=[('scaler', StandardScaler()),\n",
      "                ('classifier', LogisticRegression(C=0.201, random_state=21))])\n",
      "0.8019354838709678\n"
     ]
    }
   ],
   "source": [
    "best_model_name = max(best_models, key=lambda k: best_models[k]['best_score'])\n",
    "best_model_info = best_models[best_model_name]\n",
    "best_model_cv_score = best_model_info['best_score']\n",
    "best_model = best_model_info['best_estimator']\n",
    "print(best_model)\n",
    "print(best_model_cv_score)"
   ],
   "metadata": {
    "collapsed": false
   }
  },
  {
   "cell_type": "markdown",
   "source": [
    "We can see that the best model is a Logistic Regression classification model with an accuracy score of 80.19%.\n",
    "\n",
    "Now we'll use this model on the test set."
   ],
   "metadata": {
    "collapsed": false
   }
  },
  {
   "cell_type": "code",
   "execution_count": 21,
   "outputs": [
    {
     "name": "stdout",
     "output_type": "stream",
     "text": [
      "              precision    recall  f1-score   support\n",
      "\n",
      "           0       0.81      1.00      0.90        30\n",
      "           1       1.00      0.12      0.22         8\n",
      "\n",
      "    accuracy                           0.82        38\n",
      "   macro avg       0.91      0.56      0.56        38\n",
      "weighted avg       0.85      0.82      0.75        38\n",
      "\n"
     ]
    }
   ],
   "source": [
    "new_model = best_model\n",
    "new_model.fit(X_train, y_train)\n",
    "y_pred = new_model.predict(X_test)\n",
    "\n",
    "class_report = classification_report(y_test, y_pred)\n",
    "print(class_report)"
   ],
   "metadata": {
    "collapsed": false
   }
  },
  {
   "cell_type": "markdown",
   "source": [
    "The accuracy of this model on the test set appears to be 82%. Let's examine a confusion matrix."
   ],
   "metadata": {
    "collapsed": false
   }
  },
  {
   "cell_type": "code",
   "execution_count": 22,
   "outputs": [
    {
     "data": {
      "text/plain": "<Figure size 640x480 with 2 Axes>",
      "image/png": "[encoded data removed]"
     },
     "metadata": {},
     "output_type": "display_data"
    }
   ],
   "source": [
    "conf_matrix = confusion_matrix(y_test, y_pred)\n",
    "\n",
    "TN = conf_matrix[0,0]\n",
    "TP = conf_matrix[1,1]\n",
    "FN = conf_matrix[1,0]\n",
    "FP = conf_matrix[0,1]\n",
    "\n",
    "sns.heatmap(conf_matrix, annot=True, fmt='d', cmap='Blues', xticklabels=['Predicted False', 'Predicted True'], yticklabels=['Actual False', 'Actual True'])\n",
    "plt.xlabel('Predicted')\n",
    "plt.ylabel('Actual')\n",
    "plt.title('Confusion Matrix')\n",
    "plt.show()"
   ],
   "metadata": {
    "collapsed": false
   }
  },
  {
   "cell_type": "markdown",
   "source": [
    "And finally, let's print the score results."
   ],
   "metadata": {
    "collapsed": false
   }
  },
  {
   "cell_type": "code",
   "execution_count": 23,
   "outputs": [
    {
     "name": "stdout",
     "output_type": "stream",
     "text": [
      "                 Model  Accuracy  Precision  Recall        F1\n",
      "0  Logistic Regression  0.815789        1.0   0.125  0.222222\n"
     ]
    }
   ],
   "source": [
    "accuracy = (TN + TP) / (TN + TP + FN + FP)\n",
    "recall = TP / (FN + TP)\n",
    "precision = TP / (FP + TP)\n",
    "f1 = 2 * ((precision * recall) / (precision + recall))\n",
    "\n",
    "acc_results = {\n",
    "    'Model': [best_model_name],\n",
    "    'Accuracy': [accuracy],\n",
    "    'Precision': [precision],\n",
    "    'Recall': [recall],\n",
    "    'F1': [f1]\n",
    "}\n",
    "\n",
    "results_df = pd.DataFrame(acc_results)\n",
    "print(results_df)"
   ],
   "metadata": {
    "collapsed": false
   }
  },
  {
   "cell_type": "markdown",
   "source": [
    "## Results\n",
    "The best model is the Decision Tree with an accuracy score of 81.58%, which exceeds the 80% threshold. Based on the confusion matrix results, the model is great at predicting who is not Arnold. Given the 0.125 recall score, it isn't as accurate with identifying Arnold."
   ],
   "metadata": {
    "collapsed": false
   }
  },
  {
   "cell_type": "code",
   "execution_count": 23,
   "outputs": [],
   "source": [],
   "metadata": {
    "collapsed": false
   }
  }
 ],
 "metadata": {
  "kernelspec": {
   "display_name": "Python 3",
   "language": "python",
   "name": "python3"
  },
  "language_info": {
   "codemirror_mode": {
    "name": "ipython",
    "version": 2
   },
   "file_extension": ".py",
   "mimetype": "text/x-python",
   "name": "python",
   "nbconvert_exporter": "python",
   "pygments_lexer": "ipython2",
   "version": "2.7.6"
  }
 },
 "nbformat": 4,
 "nbformat_minor": 0
}

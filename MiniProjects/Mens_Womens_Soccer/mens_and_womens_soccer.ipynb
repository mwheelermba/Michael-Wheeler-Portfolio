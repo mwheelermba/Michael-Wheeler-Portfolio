{
 "cells": [
  {
   "cell_type": "code",
   "execution_count": 37,
   "metadata": {
    "collapsed": true
   },
   "outputs": [],
   "source": [
    "# Import the necessary packages\n",
    "import pandas as pd\n",
    "import matplotlib.pyplot as plt\n",
    "import seaborn as sns\n",
    "import pingouin\n",
    "import numpy as np"
   ]
  },
  {
   "cell_type": "code",
   "execution_count": 38,
   "outputs": [
    {
     "name": "stdout",
     "output_type": "stream",
     "text": [
      "   Unnamed: 0        date home_team away_team  home_score  away_score  \\\n",
      "0           0  1872-11-30  Scotland   England           0           0   \n",
      "1           1  1873-03-08   England  Scotland           4           2   \n",
      "2           2  1874-03-07  Scotland   England           2           1   \n",
      "3           3  1875-03-06   England  Scotland           2           2   \n",
      "4           4  1876-03-04  Scotland   England           3           0   \n",
      "\n",
      "  tournament  \n",
      "0   Friendly  \n",
      "1   Friendly  \n",
      "2   Friendly  \n",
      "3   Friendly  \n",
      "4   Friendly  \n"
     ]
    }
   ],
   "source": [
    "pd.set_option('display.max_columns', None)\n",
    "\n",
    "men = pd.read_csv('men_results.csv')\n",
    "print(men.head())"
   ],
   "metadata": {
    "collapsed": false
   }
  },
  {
   "cell_type": "code",
   "execution_count": 39,
   "outputs": [
    {
     "name": "stdout",
     "output_type": "stream",
     "text": [
      "   Unnamed: 0        date home_team  away_team  home_score  away_score  \\\n",
      "0           0  1969-11-01     Italy     France           1           0   \n",
      "1           1  1969-11-01   Denmark    England           4           3   \n",
      "2           2  1969-11-02   England     France           2           0   \n",
      "3           3  1969-11-02     Italy    Denmark           3           1   \n",
      "4           4  1975-08-25  Thailand  Australia           3           2   \n",
      "\n",
      "         tournament  \n",
      "0              Euro  \n",
      "1              Euro  \n",
      "2              Euro  \n",
      "3              Euro  \n",
      "4  AFC Championship  \n"
     ]
    }
   ],
   "source": [
    "women = pd.read_csv('women_results.csv')\n",
    "print(women.head())"
   ],
   "metadata": {
    "collapsed": false
   }
  },
  {
   "cell_type": "markdown",
   "source": [
    "Let's quickly review the data and confirm that there are no illogical or missing entries starting with the men's soccer data."
   ],
   "metadata": {
    "collapsed": false
   }
  },
  {
   "cell_type": "code",
   "execution_count": 40,
   "outputs": [
    {
     "name": "stdout",
     "output_type": "stream",
     "text": [
      "<class 'pandas.core.frame.DataFrame'>\n",
      "RangeIndex: 44353 entries, 0 to 44352\n",
      "Data columns (total 7 columns):\n",
      " #   Column      Non-Null Count  Dtype \n",
      "---  ------      --------------  ----- \n",
      " 0   Unnamed: 0  44353 non-null  int64 \n",
      " 1   date        44353 non-null  object\n",
      " 2   home_team   44353 non-null  object\n",
      " 3   away_team   44353 non-null  object\n",
      " 4   home_score  44353 non-null  int64 \n",
      " 5   away_score  44353 non-null  int64 \n",
      " 6   tournament  44353 non-null  object\n",
      "dtypes: int64(3), object(4)\n",
      "memory usage: 2.4+ MB\n",
      "None\n",
      "         Unnamed: 0    home_score    away_score\n",
      "count  44353.000000  44353.000000  44353.000000\n",
      "mean   22176.000000      1.740559      1.178793\n",
      "std    12803.752581      1.748722      1.394580\n",
      "min        0.000000      0.000000      0.000000\n",
      "25%    11088.000000      1.000000      0.000000\n",
      "50%    22176.000000      1.000000      1.000000\n",
      "75%    33264.000000      2.000000      2.000000\n",
      "max    44352.000000     31.000000     21.000000\n"
     ]
    }
   ],
   "source": [
    "print(men.info())\n",
    "print(men.describe())"
   ],
   "metadata": {
    "collapsed": false
   }
  },
  {
   "cell_type": "markdown",
   "source": [
    "Scores are all positive and there are no missing values."
   ],
   "metadata": {
    "collapsed": false
   }
  },
  {
   "cell_type": "code",
   "execution_count": 41,
   "outputs": [
    {
     "name": "stdout",
     "output_type": "stream",
     "text": [
      "<class 'pandas.core.frame.DataFrame'>\n",
      "RangeIndex: 4884 entries, 0 to 4883\n",
      "Data columns (total 7 columns):\n",
      " #   Column      Non-Null Count  Dtype \n",
      "---  ------      --------------  ----- \n",
      " 0   Unnamed: 0  4884 non-null   int64 \n",
      " 1   date        4884 non-null   object\n",
      " 2   home_team   4884 non-null   object\n",
      " 3   away_team   4884 non-null   object\n",
      " 4   home_score  4884 non-null   int64 \n",
      " 5   away_score  4884 non-null   int64 \n",
      " 6   tournament  4884 non-null   object\n",
      "dtypes: int64(3), object(4)\n",
      "memory usage: 267.2+ KB\n",
      "None\n",
      "        Unnamed: 0   home_score   away_score\n",
      "count  4884.000000  4884.000000  4884.000000\n",
      "mean   2441.500000     2.272727     1.431409\n",
      "std    1410.033688     2.736377     1.974651\n",
      "min       0.000000     0.000000     0.000000\n",
      "25%    1220.750000     0.000000     0.000000\n",
      "50%    2441.500000     1.000000     1.000000\n",
      "75%    3662.250000     3.000000     2.000000\n",
      "max    4883.000000    24.000000    24.000000\n"
     ]
    }
   ],
   "source": [
    "print(women.info())\n",
    "print(women.describe())"
   ],
   "metadata": {
    "collapsed": false
   }
  },
  {
   "cell_type": "markdown",
   "source": [
    "The same is true for the women's set. However, there is a remarkable difference in how many records were kept. Men's data goes back to 1872 whereas women's goes back to 1969. Since we are only interested in data since 2002, we'll refine both sets."
   ],
   "metadata": {
    "collapsed": false
   }
  },
  {
   "cell_type": "code",
   "execution_count": 42,
   "outputs": [
    {
     "name": "stdout",
     "output_type": "stream",
     "text": [
      "Count of men's games: 19490\n",
      "Count of women's games: 3519\n"
     ]
    }
   ],
   "source": [
    "men_recent = men[men['date'] >= '2002-01-01']\n",
    "women_recent = women[women['date'] >= '2002-01-01']\n",
    "\n",
    "print(f\"Count of men's games: {len(men_recent)}\")\n",
    "print(f\"Count of women's games: {len(women_recent)}\")"
   ],
   "metadata": {
    "collapsed": false
   }
  },
  {
   "cell_type": "markdown",
   "source": [
    "We are only interested in the FIFA World Cup scores, so we will need to refine our datasets further."
   ],
   "metadata": {
    "collapsed": false
   }
  },
  {
   "cell_type": "code",
   "execution_count": 43,
   "outputs": [
    {
     "name": "stdout",
     "output_type": "stream",
     "text": [
      "Count of men's games: 384\n",
      "Count of women's games: 200\n"
     ]
    }
   ],
   "source": [
    "men_fifa = men_recent[men_recent['tournament'] == 'FIFA World Cup'].copy()\n",
    "women_fifa = women_recent[women_recent['tournament'] == 'FIFA World Cup'].copy()\n",
    "\n",
    "print(f\"Count of men's games: {len(men_fifa)}\")\n",
    "print(f\"Count of women's games: {len(women_fifa)}\")"
   ],
   "metadata": {
    "collapsed": false
   }
  },
  {
   "cell_type": "markdown",
   "source": [
    "We're left with 584 games in total. Now, since we want to compare the number of goals scored between men's and women's soccer matches, we will create a new attribute called goals to store the total goals scored in each game."
   ],
   "metadata": {
    "collapsed": false
   }
  },
  {
   "cell_type": "code",
   "execution_count": 44,
   "outputs": [
    {
     "name": "stdout",
     "output_type": "stream",
     "text": [
      "Average men's goals: 2.5130208333333335\n",
      "Average of women's goals: 2.98\n"
     ]
    }
   ],
   "source": [
    "men_fifa['goals'] = men_fifa['home_score'] + men_fifa['away_score']\n",
    "women_fifa['goals'] = women_fifa['home_score'] + women_fifa['away_score']\n",
    "\n",
    "print(f\"Average men's goals: {men_fifa['goals'].mean()}\")\n",
    "print(f\"Average of women's goals: {women_fifa['goals'].mean()}\")"
   ],
   "metadata": {
    "collapsed": false
   }
  },
  {
   "cell_type": "markdown",
   "source": [
    "Judging by the average, it looks like women's FIFA matches score more goals on average than men's. However, we'll next test whether this difference is statistically significant. Let's first visualize our distribution of goals scored to understand the distribution's structure."
   ],
   "metadata": {
    "collapsed": false
   }
  },
  {
   "cell_type": "code",
   "execution_count": 45,
   "outputs": [
    {
     "data": {
      "text/plain": "<Figure size 640x480 with 1 Axes>",
      "image/png": "[encoded data removed]"
     },
     "metadata": {},
     "output_type": "display_data"
    }
   ],
   "source": [
    "sns.histplot(data=men_fifa, x='goals', color='red', label='Men', kde=True, binwidth=1)\n",
    "sns.histplot(data=women_fifa, x='goals', color='blue', label='Women', kde=True, alpha=0.5, binwidth=1)\n",
    "plt.legend()\n",
    "plt.show()"
   ],
   "metadata": {
    "collapsed": false
   }
  },
  {
   "cell_type": "markdown",
   "source": [
    "We can observe the longer tail in women's scoring that indicates the higher scoring difference, and the taller columns indicating more men's games observed. The distribution is not normal, so we will use a parametric test to determine the statistical significance. I've chosen a **Wilcoxon-Mann-Whitney** test using pingouin for this problem.\n",
    "\n",
    "Our null hypothesis is that the mean number of goals scored in women's matches is the same as mens, and our alternative hypothesis is that the women's score more than men, so we'll instantiate the test as a one-sided right-tailed test."
   ],
   "metadata": {
    "collapsed": false
   }
  },
  {
   "cell_type": "code",
   "execution_count": 46,
   "outputs": [
    {
     "name": "stdout",
     "output_type": "stream",
     "text": [
      "{'p_val': 0.005106609825443641, 'result': 'reject'}\n"
     ]
    }
   ],
   "source": [
    "# Create a series for each of the goal sets.\n",
    "men_goals = men_fifa['goals']\n",
    "women_goals = women_fifa['goals']\n",
    "\n",
    "# Set the test to greater\n",
    "mwu = pingouin.mwu(x=women_goals, y=men_goals, alternative='greater')\n",
    "p_val = mwu['p-val'][0]\n",
    "\n",
    "alpha = 0.1\n",
    "if p_val < alpha:\n",
    "    result = 'reject'\n",
    "else:\n",
    "    result = 'fail to reject'\n",
    "\n",
    "result_dict = {\"p_val\": p_val, \"result\": result}\n",
    "print(result_dict)"
   ],
   "metadata": {
    "collapsed": false
   }
  },
  {
   "cell_type": "markdown",
   "source": [
    "## Result\n",
    "Our significance level was 10% (alpha = 0.1) and the p_value was 0.005, so we can reject the null hypothesis.\n",
    "\n",
    "Rejecting the null hypothesis indicates that there is statistically significant evidence to conclude that women's matches have more goals than men's matches in FIFA World Cup since 2002. This finding could be due to several factors, such as differences in playing style, defensive strategies, or other game dynamics between men's and women's football."
   ],
   "metadata": {
    "collapsed": false
   }
  }
 ],
 "metadata": {
  "kernelspec": {
   "display_name": "Python 3",
   "language": "python",
   "name": "python3"
  },
  "language_info": {
   "codemirror_mode": {
    "name": "ipython",
    "version": 2
   },
   "file_extension": ".py",
   "mimetype": "text/x-python",
   "name": "python",
   "nbconvert_exporter": "python",
   "pygments_lexer": "ipython2",
   "version": "2.7.6"
  }
 },
 "nbformat": 4,
 "nbformat_minor": 0
}

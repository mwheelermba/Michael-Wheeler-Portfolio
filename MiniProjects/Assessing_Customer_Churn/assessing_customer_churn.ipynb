{
 "cells": [
  {
   "cell_type": "code",
   "execution_count": 56,
   "metadata": {
    "collapsed": true
   },
   "outputs": [],
   "source": [
    "# Import libraries and methods/functions\n",
    "import pandas as pd\n",
    "from sklearn.preprocessing import StandardScaler, OneHotEncoder\n",
    "from sklearn.model_selection import train_test_split\n",
    "from sklearn.linear_model import LogisticRegression\n",
    "from sklearn.ensemble import RandomForestClassifier\n",
    "from sklearn.metrics import classification_report, confusion_matrix\n",
    "import seaborn as sns\n",
    "import matplotlib.pyplot as plt"
   ]
  },
  {
   "cell_type": "markdown",
   "source": [
    "## Demographics Dataset"
   ],
   "metadata": {
    "collapsed": false
   }
  },
  {
   "cell_type": "code",
   "execution_count": 57,
   "outputs": [
    {
     "name": "stdout",
     "output_type": "stream",
     "text": [
      "   customer_id telecom_partner gender  age             state       city  \\\n",
      "0        15169          Airtel      F   26  Himachal Pradesh      Delhi   \n",
      "1       149207          Airtel      F   74       Uttarakhand  Hyderabad   \n",
      "2       148119          Airtel      F   54         Jharkhand    Chennai   \n",
      "3       187288    Reliance Jio      M   29             Bihar  Hyderabad   \n",
      "4        14016        Vodafone      M   45          Nagaland  Bangalore   \n",
      "\n",
      "   pincode registration_event  num_dependents  estimated_salary  \n",
      "0   667173         2020-03-16               4             85979  \n",
      "1   313997         2022-01-16               0             69445  \n",
      "2   549925         2022-01-11               2             75949  \n",
      "3   230636         2022-07-26               3             34272  \n",
      "4   188036         2020-03-11               4             34157  \n"
     ]
    }
   ],
   "source": [
    "demo = pd.read_csv('telecom_demographics.csv')\n",
    "print(demo.head())"
   ],
   "metadata": {
    "collapsed": false
   }
  },
  {
   "cell_type": "markdown",
   "source": [
    "## Telecom Usage Dataset"
   ],
   "metadata": {
    "collapsed": false
   }
  },
  {
   "cell_type": "code",
   "execution_count": 58,
   "outputs": [
    {
     "name": "stdout",
     "output_type": "stream",
     "text": [
      "   customer_id  calls_made  sms_sent  data_used  churn\n",
      "0        15169          75        21       4532      1\n",
      "1       149207          35        38        723      1\n",
      "2       148119          70        47       4688      1\n",
      "3       187288          95        32      10241      1\n",
      "4        14016          66        23       5246      1\n"
     ]
    }
   ],
   "source": [
    "usage = pd.read_csv('telecom_usage.csv')\n",
    "print(usage.head())"
   ],
   "metadata": {
    "collapsed": false
   }
  },
  {
   "cell_type": "markdown",
   "source": [
    "To analyze the full list of features available for churned customers, we'll merge the dataframes on the shared customer id."
   ],
   "metadata": {
    "collapsed": false
   }
  },
  {
   "cell_type": "code",
   "execution_count": 59,
   "outputs": [
    {
     "name": "stdout",
     "output_type": "stream",
     "text": [
      "   customer_id telecom_partner gender  age             state       city  \\\n",
      "0        15169          Airtel      F   26  Himachal Pradesh      Delhi   \n",
      "1       149207          Airtel      F   74       Uttarakhand  Hyderabad   \n",
      "2       148119          Airtel      F   54         Jharkhand    Chennai   \n",
      "3       187288    Reliance Jio      M   29             Bihar  Hyderabad   \n",
      "4        14016        Vodafone      M   45          Nagaland  Bangalore   \n",
      "\n",
      "   pincode registration_event  num_dependents  estimated_salary  calls_made  \\\n",
      "0   667173         2020-03-16               4             85979          75   \n",
      "1   313997         2022-01-16               0             69445          35   \n",
      "2   549925         2022-01-11               2             75949          70   \n",
      "3   230636         2022-07-26               3             34272          95   \n",
      "4   188036         2020-03-11               4             34157          66   \n",
      "\n",
      "   sms_sent  data_used  churn  \n",
      "0        21       4532      1  \n",
      "1        38        723      1  \n",
      "2        47       4688      1  \n",
      "3        32      10241      1  \n",
      "4        23       5246      1  \n"
     ]
    }
   ],
   "source": [
    "churn_df = demo.merge(usage, on='customer_id')\n",
    "print(churn_df.head())"
   ],
   "metadata": {
    "collapsed": false
   }
  },
  {
   "cell_type": "markdown",
   "source": [
    "We'll next describe and inspect the merged dataframe."
   ],
   "metadata": {
    "collapsed": false
   }
  },
  {
   "cell_type": "code",
   "execution_count": 60,
   "outputs": [
    {
     "name": "stdout",
     "output_type": "stream",
     "text": [
      "<class 'pandas.core.frame.DataFrame'>\n",
      "Int64Index: 6500 entries, 0 to 6499\n",
      "Data columns (total 14 columns):\n",
      " #   Column              Non-Null Count  Dtype \n",
      "---  ------              --------------  ----- \n",
      " 0   customer_id         6500 non-null   int64 \n",
      " 1   telecom_partner     6500 non-null   object\n",
      " 2   gender              6500 non-null   object\n",
      " 3   age                 6500 non-null   int64 \n",
      " 4   state               6500 non-null   object\n",
      " 5   city                6500 non-null   object\n",
      " 6   pincode             6500 non-null   int64 \n",
      " 7   registration_event  6500 non-null   object\n",
      " 8   num_dependents      6500 non-null   int64 \n",
      " 9   estimated_salary    6500 non-null   int64 \n",
      " 10  calls_made          6500 non-null   int64 \n",
      " 11  sms_sent            6500 non-null   int64 \n",
      " 12  data_used           6500 non-null   int64 \n",
      " 13  churn               6500 non-null   int64 \n",
      "dtypes: int64(9), object(5)\n",
      "memory usage: 761.7+ KB\n",
      "None\n",
      "         customer_id          age        pincode  num_dependents  \\\n",
      "count    6500.000000  6500.000000    6500.000000     6500.000000   \n",
      "mean   121035.576923    46.108615  548955.907077        1.982308   \n",
      "std     70353.990092    16.443712  259874.312026        1.404659   \n",
      "min        47.000000    18.000000  100045.000000        0.000000   \n",
      "25%     60125.750000    32.000000  321550.000000        1.000000   \n",
      "50%    120470.500000    46.000000  550163.500000        2.000000   \n",
      "75%    181420.750000    60.000000  775155.500000        3.000000   \n",
      "max    243505.000000    74.000000  999740.000000        4.000000   \n",
      "\n",
      "       estimated_salary   calls_made     sms_sent     data_used        churn  \n",
      "count       6500.000000  6500.000000  6500.000000   6500.000000  6500.000000  \n",
      "mean       85529.193385    49.789538    24.257846   5000.956308     0.200462  \n",
      "std        37545.639180    29.799221    14.650736   2940.611928     0.400377  \n",
      "min        20001.000000   -10.000000    -5.000000   -969.000000     0.000000  \n",
      "25%        52905.000000    25.000000    12.000000   2493.750000     0.000000  \n",
      "50%        85286.500000    50.000000    25.000000   4975.500000     0.000000  \n",
      "75%       118817.500000    75.000000    37.000000   7504.250000     0.000000  \n",
      "max       149977.000000   108.000000    53.000000  10919.000000     1.000000  \n"
     ]
    }
   ],
   "source": [
    "print(churn_df.info())\n",
    "print(churn_df.describe())"
   ],
   "metadata": {
    "collapsed": false
   }
  },
  {
   "cell_type": "markdown",
   "source": [
    "We can see that there are no missing values in the dataset. However, there are negative values in the calls_made, sms_sent, and data_used columns, which is improbable."
   ],
   "metadata": {
    "collapsed": false
   }
  },
  {
   "cell_type": "code",
   "execution_count": 61,
   "outputs": [
    {
     "name": "stdout",
     "output_type": "stream",
     "text": [
      "494\n"
     ]
    }
   ],
   "source": [
    "neg_cols = ['calls_made', 'sms_sent', 'data_used']\n",
    "\n",
    "neg_values = churn_df[churn_df[neg_cols] < 0].any(axis=1)\n",
    "print(neg_values.sum())"
   ],
   "metadata": {
    "collapsed": false
   }
  },
  {
   "cell_type": "markdown",
   "source": [
    "494 rows contain invalid data. These rows have been dropped."
   ],
   "metadata": {
    "collapsed": false
   }
  },
  {
   "cell_type": "code",
   "execution_count": 62,
   "outputs": [
    {
     "name": "stdout",
     "output_type": "stream",
     "text": [
      "         customer_id          age        pincode  num_dependents  \\\n",
      "count    6006.000000  6006.000000    6006.000000     6006.000000   \n",
      "mean   121293.031968    45.999334  549732.513487        1.981352   \n",
      "std     70298.899930    16.402951  259947.265743        1.403808   \n",
      "min        47.000000    18.000000  100045.000000        0.000000   \n",
      "25%     60411.250000    32.000000  322094.500000        1.000000   \n",
      "50%    120490.000000    46.000000  551589.000000        2.000000   \n",
      "75%    181683.750000    60.000000  776290.000000        3.000000   \n",
      "max    243505.000000    74.000000  999740.000000        4.000000   \n",
      "\n",
      "       estimated_salary   calls_made     sms_sent     data_used        churn  \n",
      "count       6006.000000  6006.000000  6006.000000   6006.000000  6006.000000  \n",
      "mean       85710.897602    51.184316    24.892607   5130.820180     0.198635  \n",
      "std        37561.812626    28.783347    14.199986   2846.166545     0.399006  \n",
      "min        20001.000000     0.000000     0.000000      7.000000     0.000000  \n",
      "25%        53046.000000    27.000000    12.000000   2694.250000     0.000000  \n",
      "50%        85578.500000    51.000000    25.000000   5117.500000     0.000000  \n",
      "75%       118949.000000    76.000000    37.000000   7562.750000     0.000000  \n",
      "max       149977.000000   108.000000    53.000000  10919.000000     1.000000  \n"
     ]
    }
   ],
   "source": [
    "churn_df_no_neg = churn_df[~neg_values]\n",
    "print(churn_df_no_neg.describe())"
   ],
   "metadata": {
    "collapsed": false
   }
  },
  {
   "cell_type": "markdown",
   "source": [
    "If we had the date that the customer churned, we could use the registration date to identify how long a churned customer lasted with a company before churning. However, without this data, using the registration date in the model is not beneficial. A customer could have registered 10 years ago and churned the next day. Their 10-year *tenure* value is not representative of their actual tenure. Therefore, registration_date is being removed from the dataset."
   ],
   "metadata": {
    "collapsed": false
   }
  },
  {
   "cell_type": "code",
   "execution_count": 63,
   "outputs": [],
   "source": [
    "#churn_df_no_neg = churn_df_no_neg.drop(columns=['registration_event'])"
   ],
   "metadata": {
    "collapsed": false
   }
  },
  {
   "cell_type": "markdown",
   "source": [
    "It was previously observed that there are 5 categorical columns: telecom_partner, gender, state, city, and registration_event. These are one-hot encoded using pd.get_dummies to prepare them for a classification model."
   ],
   "metadata": {
    "collapsed": false
   }
  },
  {
   "cell_type": "markdown",
   "source": [],
   "metadata": {
    "collapsed": false
   }
  },
  {
   "cell_type": "code",
   "execution_count": 64,
   "outputs": [
    {
     "name": "stdout",
     "output_type": "stream",
     "text": [
      "   customer_id  age  pincode  num_dependents  estimated_salary  calls_made  \\\n",
      "0        15169   26   667173               4             85979          75   \n",
      "1       149207   74   313997               0             69445          35   \n",
      "2       148119   54   549925               2             75949          70   \n",
      "3       187288   29   230636               3             34272          95   \n",
      "4        14016   45   188036               4             34157          66   \n",
      "\n",
      "   sms_sent  data_used  churn  telecom_partner_Airtel  ...  \\\n",
      "0        21       4532      1                       1  ...   \n",
      "1        38        723      1                       1  ...   \n",
      "2        47       4688      1                       1  ...   \n",
      "3        32      10241      1                       0  ...   \n",
      "4        23       5246      1                       0  ...   \n",
      "\n",
      "   registration_event_2023-04-24  registration_event_2023-04-25  \\\n",
      "0                              0                              0   \n",
      "1                              0                              0   \n",
      "2                              0                              0   \n",
      "3                              0                              0   \n",
      "4                              0                              0   \n",
      "\n",
      "   registration_event_2023-04-26  registration_event_2023-04-27  \\\n",
      "0                              0                              0   \n",
      "1                              0                              0   \n",
      "2                              0                              0   \n",
      "3                              0                              0   \n",
      "4                              0                              0   \n",
      "\n",
      "   registration_event_2023-04-28  registration_event_2023-04-29  \\\n",
      "0                              0                              0   \n",
      "1                              0                              0   \n",
      "2                              0                              0   \n",
      "3                              0                              0   \n",
      "4                              0                              0   \n",
      "\n",
      "   registration_event_2023-04-30  registration_event_2023-05-01  \\\n",
      "0                              0                              0   \n",
      "1                              0                              0   \n",
      "2                              0                              0   \n",
      "3                              0                              0   \n",
      "4                              0                              0   \n",
      "\n",
      "   registration_event_2023-05-02  registration_event_2023-05-03  \n",
      "0                              0                              0  \n",
      "1                              0                              0  \n",
      "2                              0                              0  \n",
      "3                              0                              0  \n",
      "4                              0                              0  \n",
      "\n",
      "[5 rows x 1261 columns]\n"
     ]
    }
   ],
   "source": [
    "churn_df_onehot = pd.get_dummies(churn_df_no_neg, columns=['telecom_partner', 'gender', 'state', 'city', 'registration_event'])\n",
    "print(churn_df_onehot.head())"
   ],
   "metadata": {
    "collapsed": false
   }
  },
  {
   "cell_type": "markdown",
   "source": [
    "Now that the dataset is ready, we establish our features, scale the features, split the sets, and begin modeling."
   ],
   "metadata": {
    "collapsed": false
   }
  },
  {
   "cell_type": "code",
   "execution_count": 65,
   "outputs": [],
   "source": [
    "features = churn_df_onehot.drop(columns=['customer_id', 'churn'], axis=1)\n",
    "target = churn_df_onehot['churn']\n",
    "\n",
    "scaler = StandardScaler()\n",
    "features_scaled = scaler.fit_transform(features)\n",
    "\n",
    "X_train, X_test, y_train, y_test = train_test_split(features_scaled, target, test_size=0.2, random_state=42)"
   ],
   "metadata": {
    "collapsed": false
   }
  },
  {
   "cell_type": "markdown",
   "source": [
    "This project is interested to know whether the Random Forest or Logistic Regression classifier performs better, so we will only instantiate those two models. Our scoring metric will be the accuracy score."
   ],
   "metadata": {
    "collapsed": false
   }
  },
  {
   "cell_type": "code",
   "execution_count": 66,
   "outputs": [],
   "source": [
    "# Logistic Regression\n",
    "logreg = LogisticRegression(random_state=42)\n",
    "logreg.fit(X_train, y_train)\n",
    "logreg_pred = logreg.predict(X_test)\n",
    "\n",
    "# Random Forest Classifier\n",
    "rf = RandomForestClassifier(random_state=42)\n",
    "rf.fit(X_train, y_train)\n",
    "rf_pred = rf.predict(X_test)"
   ],
   "metadata": {
    "collapsed": false
   }
  },
  {
   "cell_type": "markdown",
   "source": [
    "We'll create and plot the confusion matrix, and use it to determine the accuracy."
   ],
   "metadata": {
    "collapsed": false
   }
  },
  {
   "cell_type": "markdown",
   "source": [
    "## Logistic Regression"
   ],
   "metadata": {
    "collapsed": false
   }
  },
  {
   "cell_type": "code",
   "execution_count": 67,
   "outputs": [
    {
     "name": "stdout",
     "output_type": "stream",
     "text": [
      "0.6946755407653911\n"
     ]
    },
    {
     "data": {
      "text/plain": "<Figure size 640x480 with 2 Axes>",
      "image/png": "[encoded data removed]"
     },
     "metadata": {},
     "output_type": "display_data"
    }
   ],
   "source": [
    "lr_conf_matrix = confusion_matrix(y_test, logreg_pred)\n",
    "logreg_acc = (lr_conf_matrix[0,0] + lr_conf_matrix[1,1]) / (lr_conf_matrix[0,0] + lr_conf_matrix[1,1] + lr_conf_matrix[0,1] + lr_conf_matrix[1,0])\n",
    "print(logreg_acc)\n",
    "\n",
    "sns.heatmap(lr_conf_matrix, annot=True, fmt='d', cmap='Blues', xticklabels=['Predicted False', 'Predicted True'], yticklabels=['Actual False', 'Actual True'])\n",
    "plt.xlabel('Predicted')\n",
    "plt.ylabel('Actual')\n",
    "plt.title('Confusion Matrix')\n",
    "plt.show()"
   ],
   "metadata": {
    "collapsed": false
   }
  },
  {
   "cell_type": "markdown",
   "source": [
    "## Random Forest Classifier"
   ],
   "metadata": {
    "collapsed": false
   }
  },
  {
   "cell_type": "code",
   "execution_count": 68,
   "outputs": [
    {
     "name": "stdout",
     "output_type": "stream",
     "text": [
      "0.7778702163061564\n"
     ]
    },
    {
     "data": {
      "text/plain": "<Figure size 640x480 with 2 Axes>",
      "image/png": "[encoded data removed]"
     },
     "metadata": {},
     "output_type": "display_data"
    }
   ],
   "source": [
    "rf_conf_matrix = confusion_matrix(y_test, rf_pred)\n",
    "rf_acc = (rf_conf_matrix[0,0] + rf_conf_matrix[1,1]) / (rf_conf_matrix[0,0] + rf_conf_matrix[1,1] + rf_conf_matrix[0,1] + rf_conf_matrix[1,0])\n",
    "print(rf_acc)\n",
    "\n",
    "sns.heatmap(rf_conf_matrix, annot=True, fmt='d', cmap='Blues', xticklabels=['Predicted False', 'Predicted True'], yticklabels=['Actual False', 'Actual True'])\n",
    "plt.xlabel('Predicted')\n",
    "plt.ylabel('Actual')\n",
    "plt.title('Confusion Matrix')\n",
    "plt.show()"
   ],
   "metadata": {
    "collapsed": false
   }
  },
  {
   "cell_type": "markdown",
   "source": [
    "## Results\n",
    "The Random Forest Classifier has a higher accuracy score, suggesting that it performs better. Looking at the confusion matrix, it's important to consider the business context behind predicting customer churn. This model almost exclusively predicted that customers would not churn. This might be desired if the cost of retention is extremely high. However, we might be more interested to identify a customer that will churn at the expense of additional false positives. This is typically the case with churn models, so accuracy is likely a poor metric to utilize for this business case. We might be better served to gauge the performance of the model using recall."
   ],
   "metadata": {
    "collapsed": false
   }
  },
  {
   "cell_type": "code",
   "execution_count": 68,
   "outputs": [],
   "source": [],
   "metadata": {
    "collapsed": false
   }
  }
 ],
 "metadata": {
  "kernelspec": {
   "display_name": "Python 3",
   "language": "python",
   "name": "python3"
  },
  "language_info": {
   "codemirror_mode": {
    "name": "ipython",
    "version": 2
   },
   "file_extension": ".py",
   "mimetype": "text/x-python",
   "name": "python",
   "nbconvert_exporter": "python",
   "pygments_lexer": "ipython2",
   "version": "2.7.6"
  }
 },
 "nbformat": 4,
 "nbformat_minor": 0
}

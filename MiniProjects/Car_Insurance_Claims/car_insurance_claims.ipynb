{
 "cells": [
  {
   "cell_type": "code",
   "execution_count": 18,
   "metadata": {
    "collapsed": true
   },
   "outputs": [],
   "source": [
    "# Import required modules\n",
    "import pandas as pd\n",
    "from statsmodels.formula.api import logit\n",
    "import matplotlib.pyplot as plt\n",
    "import seaborn as sns"
   ]
  },
  {
   "cell_type": "markdown",
   "source": [
    "The method for this project will be to loop a simple logistic regression model for each column to identify the best predictor of whether a customer will put in a claim or not based on the accuracy of each column's results."
   ],
   "metadata": {
    "collapsed": false
   }
  },
  {
   "cell_type": "code",
   "execution_count": 19,
   "outputs": [
    {
     "name": "stdout",
     "output_type": "stream",
     "text": [
      "       id  age  gender driving_experience    education         income  \\\n",
      "0  569520    3       0               0-9y  high school    upper class   \n",
      "1  750365    0       1               0-9y         none        poverty   \n",
      "2  199901    0       0               0-9y  high school  working class   \n",
      "3  478866    0       1               0-9y   university  working class   \n",
      "4  731664    1       1             10-19y         none  working class   \n",
      "\n",
      "   credit_score  vehicle_ownership vehicle_year  married  children  \\\n",
      "0      0.629027                1.0   after 2015      0.0       1.0   \n",
      "1      0.357757                0.0  before 2015      0.0       0.0   \n",
      "2      0.493146                1.0  before 2015      0.0       0.0   \n",
      "3      0.206013                1.0  before 2015      0.0       1.0   \n",
      "4      0.388366                1.0  before 2015      0.0       0.0   \n",
      "\n",
      "   postal_code  annual_mileage vehicle_type  speeding_violations  duis  \\\n",
      "0        10238         12000.0        sedan                    0     0   \n",
      "1        10238         16000.0        sedan                    0     0   \n",
      "2        10238         11000.0        sedan                    0     0   \n",
      "3        32765         11000.0        sedan                    0     0   \n",
      "4        32765         12000.0        sedan                    2     0   \n",
      "\n",
      "   past_accidents  outcome  \n",
      "0               0      0.0  \n",
      "1               0      1.0  \n",
      "2               0      0.0  \n",
      "3               0      0.0  \n",
      "4               1      1.0  \n"
     ]
    }
   ],
   "source": [
    "df = pd.read_csv('car_insurance.csv')\n",
    "print(df.head())"
   ],
   "metadata": {
    "collapsed": false
   }
  },
  {
   "cell_type": "markdown",
   "source": [
    "Let's review the datasets quality."
   ],
   "metadata": {
    "collapsed": false
   }
  },
  {
   "cell_type": "code",
   "execution_count": 20,
   "outputs": [
    {
     "name": "stdout",
     "output_type": "stream",
     "text": [
      "<class 'pandas.core.frame.DataFrame'>\n",
      "RangeIndex: 10000 entries, 0 to 9999\n",
      "Data columns (total 18 columns):\n",
      " #   Column               Non-Null Count  Dtype  \n",
      "---  ------               --------------  -----  \n",
      " 0   id                   10000 non-null  int64  \n",
      " 1   age                  10000 non-null  int64  \n",
      " 2   gender               10000 non-null  int64  \n",
      " 3   driving_experience   10000 non-null  object \n",
      " 4   education            10000 non-null  object \n",
      " 5   income               10000 non-null  object \n",
      " 6   credit_score         9018 non-null   float64\n",
      " 7   vehicle_ownership    10000 non-null  float64\n",
      " 8   vehicle_year         10000 non-null  object \n",
      " 9   married              10000 non-null  float64\n",
      " 10  children             10000 non-null  float64\n",
      " 11  postal_code          10000 non-null  int64  \n",
      " 12  annual_mileage       9043 non-null   float64\n",
      " 13  vehicle_type         10000 non-null  object \n",
      " 14  speeding_violations  10000 non-null  int64  \n",
      " 15  duis                 10000 non-null  int64  \n",
      " 16  past_accidents       10000 non-null  int64  \n",
      " 17  outcome              10000 non-null  float64\n",
      "dtypes: float64(6), int64(7), object(5)\n",
      "memory usage: 1.4+ MB\n",
      "None\n",
      "                  id           age        gender  credit_score  \\\n",
      "count   10000.000000  10000.000000  10000.000000   9018.000000   \n",
      "mean   500521.906800      1.489500      0.499000      0.515813   \n",
      "std    290030.768758      1.025278      0.500024      0.137688   \n",
      "min       101.000000      0.000000      0.000000      0.053358   \n",
      "25%    249638.500000      1.000000      0.000000      0.417191   \n",
      "50%    501777.000000      1.000000      0.000000      0.525033   \n",
      "75%    753974.500000      2.000000      1.000000      0.618312   \n",
      "max    999976.000000      3.000000      1.000000      0.960819   \n",
      "\n",
      "       vehicle_ownership       married      children   postal_code  \\\n",
      "count       10000.000000  10000.000000  10000.000000  10000.000000   \n",
      "mean            0.697000      0.498200      0.688800  19864.548400   \n",
      "std             0.459578      0.500022      0.463008  18915.613855   \n",
      "min             0.000000      0.000000      0.000000  10238.000000   \n",
      "25%             0.000000      0.000000      0.000000  10238.000000   \n",
      "50%             1.000000      0.000000      1.000000  10238.000000   \n",
      "75%             1.000000      1.000000      1.000000  32765.000000   \n",
      "max             1.000000      1.000000      1.000000  92101.000000   \n",
      "\n",
      "       annual_mileage  speeding_violations         duis  past_accidents  \\\n",
      "count     9043.000000         10000.000000  10000.00000    10000.000000   \n",
      "mean     11697.003207             1.482900      0.23920        1.056300   \n",
      "std       2818.434528             2.241966      0.55499        1.652454   \n",
      "min       2000.000000             0.000000      0.00000        0.000000   \n",
      "25%      10000.000000             0.000000      0.00000        0.000000   \n",
      "50%      12000.000000             0.000000      0.00000        0.000000   \n",
      "75%      14000.000000             2.000000      0.00000        2.000000   \n",
      "max      22000.000000            22.000000      6.00000       15.000000   \n",
      "\n",
      "            outcome  \n",
      "count  10000.000000  \n",
      "mean       0.313300  \n",
      "std        0.463858  \n",
      "min        0.000000  \n",
      "25%        0.000000  \n",
      "50%        0.000000  \n",
      "75%        1.000000  \n",
      "max        1.000000  \n"
     ]
    }
   ],
   "source": [
    "print(df.info())\n",
    "print(df.describe())"
   ],
   "metadata": {
    "collapsed": false
   }
  },
  {
   "cell_type": "markdown",
   "source": [
    "The data appears to already be in good condition with most everything already encoded. However, there are nearly 1,000 missing values in the credit score and annual mileage columns, so we will impute those using the median."
   ],
   "metadata": {
    "collapsed": false
   }
  },
  {
   "cell_type": "code",
   "execution_count": 21,
   "outputs": [
    {
     "name": "stdout",
     "output_type": "stream",
     "text": [
      "       id  age  gender driving_experience    education         income  \\\n",
      "0  569520    3       0               0-9y  high school    upper class   \n",
      "1  750365    0       1               0-9y         none        poverty   \n",
      "2  199901    0       0               0-9y  high school  working class   \n",
      "3  478866    0       1               0-9y   university  working class   \n",
      "4  731664    1       1             10-19y         none  working class   \n",
      "\n",
      "   credit_score  vehicle_ownership vehicle_year  married  children  \\\n",
      "0      0.629027                1.0   after 2015      0.0       1.0   \n",
      "1      0.357757                0.0  before 2015      0.0       0.0   \n",
      "2      0.493146                1.0  before 2015      0.0       0.0   \n",
      "3      0.206013                1.0  before 2015      0.0       1.0   \n",
      "4      0.388366                1.0  before 2015      0.0       0.0   \n",
      "\n",
      "   postal_code  annual_mileage vehicle_type  speeding_violations  duis  \\\n",
      "0        10238         12000.0        sedan                    0     0   \n",
      "1        10238         16000.0        sedan                    0     0   \n",
      "2        10238         11000.0        sedan                    0     0   \n",
      "3        32765         11000.0        sedan                    0     0   \n",
      "4        32765         12000.0        sedan                    2     0   \n",
      "\n",
      "   past_accidents  outcome  \n",
      "0               0      0.0  \n",
      "1               0      1.0  \n",
      "2               0      0.0  \n",
      "3               0      0.0  \n",
      "4               1      1.0  \n"
     ]
    }
   ],
   "source": [
    "df = df.fillna({'credit_score': df['credit_score'].median(), 'annual_mileage': df['annual_mileage'].median()})\n",
    "\n",
    "print(df.head())"
   ],
   "metadata": {
    "collapsed": false
   }
  },
  {
   "cell_type": "markdown",
   "source": [
    "Next, we'll remove the outcome and id columns. We'll also create an empty list for calculating the accuracies of each column."
   ],
   "metadata": {
    "collapsed": false
   }
  },
  {
   "cell_type": "code",
   "execution_count": 22,
   "outputs": [],
   "source": [
    "columns = [col for col in df.columns if col not in ['id', 'outcome']]\n",
    "\n",
    "accuracies = []"
   ],
   "metadata": {
    "collapsed": false
   }
  },
  {
   "cell_type": "markdown",
   "source": [
    "Now we will create the logistic regression loop that calculates the accuracy of each column and stores it in the list."
   ],
   "metadata": {
    "collapsed": false
   }
  },
  {
   "cell_type": "code",
   "execution_count": 23,
   "outputs": [
    {
     "name": "stdout",
     "output_type": "stream",
     "text": [
      "Optimization terminated successfully.\n",
      "         Current function value: 0.511794\n",
      "         Iterations 6\n",
      "Optimization terminated successfully.\n",
      "         Current function value: 0.615951\n",
      "         Iterations 5\n",
      "Optimization terminated successfully.\n",
      "         Current function value: 0.467092\n",
      "         Iterations 8\n",
      "Optimization terminated successfully.\n",
      "         Current function value: 0.603742\n",
      "         Iterations 5\n",
      "Optimization terminated successfully.\n",
      "         Current function value: 0.531499\n",
      "         Iterations 6\n",
      "Optimization terminated successfully.\n",
      "         Current function value: 0.572649\n",
      "         Iterations 5\n",
      "Optimization terminated successfully.\n",
      "         Current function value: 0.552412\n",
      "         Iterations 5\n",
      "Optimization terminated successfully.\n",
      "         Current function value: 0.572668\n",
      "         Iterations 6\n",
      "Optimization terminated successfully.\n",
      "         Current function value: 0.586659\n",
      "         Iterations 5\n",
      "Optimization terminated successfully.\n",
      "         Current function value: 0.595431\n",
      "         Iterations 5\n",
      "Optimization terminated successfully.\n",
      "         Current function value: 0.617345\n",
      "         Iterations 5\n",
      "Optimization terminated successfully.\n",
      "         Current function value: 0.605605\n",
      "         Iterations 5\n",
      "Optimization terminated successfully.\n",
      "         Current function value: 0.621700\n",
      "         Iterations 5\n",
      "Optimization terminated successfully.\n",
      "         Current function value: 0.558922\n",
      "         Iterations 7\n",
      "Optimization terminated successfully.\n",
      "         Current function value: 0.598699\n",
      "         Iterations 6\n",
      "Optimization terminated successfully.\n",
      "         Current function value: 0.549220\n",
      "         Iterations 7\n",
      "[['age', 0.7747], ['gender', 0.6867], ['driving_experience', 0.7771], ['education', 0.6867], ['income', 0.7425], ['credit_score', 0.7053], ['vehicle_ownership', 0.7351], ['vehicle_year', 0.6867], ['married', 0.6867], ['children', 0.6867], ['postal_code', 0.6867], ['annual_mileage', 0.6904], ['vehicle_type', 0.6867], ['speeding_violations', 0.6867], ['duis', 0.6867], ['past_accidents', 0.6867]]\n"
     ]
    }
   ],
   "source": [
    "for col in columns:\n",
    "    model = logit(f'outcome ~ {col}', data=df).fit()\n",
    "    conf_matrix = model.pred_table()\n",
    "    accuracy = (conf_matrix[0,0] + conf_matrix[1,1]) / (conf_matrix[0,1] + conf_matrix[0,0] + conf_matrix[1,1] + conf_matrix[1,0])\n",
    "    accuracies.append([col, accuracy])\n",
    "\n",
    "print(accuracies)"
   ],
   "metadata": {
    "collapsed": false
   }
  },
  {
   "cell_type": "markdown",
   "source": [
    "Now we need to create a dataframe to make the results more readable, sort by the accuracy, and select the column that has the best accuracy score."
   ],
   "metadata": {
    "collapsed": false
   }
  },
  {
   "cell_type": "code",
   "execution_count": 24,
   "outputs": [
    {
     "name": "stdout",
     "output_type": "stream",
     "text": [
      "                feature  accuracy\n",
      "2    driving_experience    0.7771\n",
      "0                   age    0.7747\n",
      "4                income    0.7425\n",
      "6     vehicle_ownership    0.7351\n",
      "5          credit_score    0.7053\n",
      "11       annual_mileage    0.6904\n",
      "1                gender    0.6867\n",
      "3             education    0.6867\n",
      "7          vehicle_year    0.6867\n",
      "8               married    0.6867\n",
      "9              children    0.6867\n",
      "10          postal_code    0.6867\n",
      "12         vehicle_type    0.6867\n",
      "13  speeding_violations    0.6867\n",
      "14                 duis    0.6867\n",
      "15       past_accidents    0.6867\n"
     ]
    },
    {
     "data": {
      "text/plain": "<Figure size 640x480 with 1 Axes>",
      "image/png": "[encoded data removed]"
     },
     "metadata": {},
     "output_type": "display_data"
    }
   ],
   "source": [
    "df_accuracies = pd.DataFrame(accuracies, columns=['feature', 'accuracy'])\n",
    "df_sorted = df_accuracies.sort_values('accuracy', ascending=False)\n",
    "print(df_sorted)\n",
    "\n",
    "sns.barplot(data=df_sorted, x='feature', y='accuracy', color='blue')\n",
    "plt.xticks(rotation=90)\n",
    "plt.show()"
   ],
   "metadata": {
    "collapsed": false
   }
  },
  {
   "cell_type": "code",
   "execution_count": 25,
   "outputs": [
    {
     "name": "stdout",
     "output_type": "stream",
     "text": [
      "         best_feature  best_accuracy\n",
      "2  driving_experience         0.7771\n"
     ]
    }
   ],
   "source": [
    "best_feature_df = df_sorted.iloc[[0]]\n",
    "best_feature_df = best_feature_df.rename(columns={'feature': 'best_feature', 'accuracy': 'best_accuracy'})\n",
    "print(best_feature_df)"
   ],
   "metadata": {
    "collapsed": false
   }
  },
  {
   "cell_type": "markdown",
   "source": [
    "## Results\n",
    "Age and driving experience are essentially tied, however driving experience appears to be the most important feature in predicting whether a car insurance claim will be filed with an accuracy score of 77.71%."
   ],
   "metadata": {
    "collapsed": false
   }
  }
 ],
 "metadata": {
  "kernelspec": {
   "display_name": "Python 3",
   "language": "python",
   "name": "python3"
  },
  "language_info": {
   "codemirror_mode": {
    "name": "ipython",
    "version": 2
   },
   "file_extension": ".py",
   "mimetype": "text/x-python",
   "name": "python",
   "nbconvert_exporter": "python",
   "pygments_lexer": "ipython2",
   "version": "2.7.6"
  }
 },
 "nbformat": 4,
 "nbformat_minor": 0
}

{
 "cells": [
  {
   "cell_type": "code",
   "execution_count": 30,
   "metadata": {
    "collapsed": true
   },
   "outputs": [
    {
     "name": "stdout",
     "output_type": "stream",
     "text": [
      "   culmen_length_mm  culmen_depth_mm  flipper_length_mm  body_mass_g     sex\n",
      "0              39.1             18.7              181.0       3750.0    MALE\n",
      "1              39.5             17.4              186.0       3800.0  FEMALE\n",
      "2              40.3             18.0              195.0       3250.0  FEMALE\n",
      "3              36.7             19.3              193.0       3450.0  FEMALE\n",
      "4              39.3             20.6              190.0       3650.0    MALE\n"
     ]
    }
   ],
   "source": [
    "# Import Required Packages\n",
    "import pandas as pd\n",
    "import matplotlib.pyplot as plt\n",
    "from sklearn.cluster import KMeans\n",
    "from sklearn.preprocessing import StandardScaler\n",
    "import seaborn as sns\n",
    "from sklearn.decomposition import PCA\n",
    "import plotly.express as px\n",
    "import numpy as np\n",
    "\n",
    "# Loading and examining the dataset\n",
    "penguins_df = pd.read_csv(\"penguins.csv\")\n",
    "print(penguins_df.head())"
   ]
  },
  {
   "cell_type": "markdown",
   "source": [
    "Since we'll be using a clustering algorithm, let's first inspect the data to make sure it is valid before preprocessing."
   ],
   "metadata": {
    "collapsed": false
   }
  },
  {
   "cell_type": "code",
   "execution_count": 31,
   "outputs": [
    {
     "name": "stdout",
     "output_type": "stream",
     "text": [
      "<class 'pandas.core.frame.DataFrame'>\n",
      "RangeIndex: 332 entries, 0 to 331\n",
      "Data columns (total 5 columns):\n",
      " #   Column             Non-Null Count  Dtype  \n",
      "---  ------             --------------  -----  \n",
      " 0   culmen_length_mm   332 non-null    float64\n",
      " 1   culmen_depth_mm    332 non-null    float64\n",
      " 2   flipper_length_mm  332 non-null    float64\n",
      " 3   body_mass_g        332 non-null    float64\n",
      " 4   sex                332 non-null    object \n",
      "dtypes: float64(4), object(1)\n",
      "memory usage: 13.1+ KB\n",
      "None\n",
      "       culmen_length_mm  culmen_depth_mm  flipper_length_mm  body_mass_g\n",
      "count        332.000000       332.000000         332.000000   332.000000\n",
      "mean          44.021084        17.153012         200.975904  4206.475904\n",
      "std            5.452462         1.960275          14.035971   806.361278\n",
      "min           32.100000        13.100000         172.000000  2700.000000\n",
      "25%           39.500000        15.600000         190.000000  3550.000000\n",
      "50%           44.700000        17.300000         197.000000  4025.000000\n",
      "75%           48.625000        18.700000         213.000000  4781.250000\n",
      "max           59.600000        21.500000         231.000000  6300.000000\n"
     ]
    }
   ],
   "source": [
    "print(penguins_df.info())\n",
    "print(penguins_df.describe())"
   ],
   "metadata": {
    "collapsed": false
   }
  },
  {
   "cell_type": "markdown",
   "source": [
    "There is no missing data and the values appear logically consistent. The sex attribute is the only categorical attribute, so we will one-hot encoded it."
   ],
   "metadata": {
    "collapsed": false
   }
  },
  {
   "cell_type": "code",
   "execution_count": 32,
   "outputs": [
    {
     "name": "stdout",
     "output_type": "stream",
     "text": [
      "   culmen_length_mm  culmen_depth_mm  flipper_length_mm  body_mass_g  MALE\n",
      "0              39.1             18.7              181.0       3750.0     1\n",
      "1              39.5             17.4              186.0       3800.0     0\n",
      "2              40.3             18.0              195.0       3250.0     0\n",
      "3              36.7             19.3              193.0       3450.0     0\n",
      "4              39.3             20.6              190.0       3650.0     1\n"
     ]
    }
   ],
   "source": [
    "pg_dummies = pd.get_dummies(penguins_df['sex'], drop_first=True)\n",
    "pg_dummies = pd.concat([penguins_df, pg_dummies], axis=1)\n",
    "pg_dummies = pg_dummies.drop('sex', axis=1)\n",
    "print(pg_dummies.head())"
   ],
   "metadata": {
    "collapsed": false
   }
  },
  {
   "cell_type": "markdown",
   "source": [
    "Next, we will need to scale the data since the features are on significantly different scales."
   ],
   "metadata": {
    "collapsed": false
   }
  },
  {
   "cell_type": "code",
   "execution_count": 33,
   "outputs": [],
   "source": [
    "scaler = StandardScaler()\n",
    "scaler.fit(pg_dummies)\n",
    "StandardScaler(copy=True, with_mean=True, with_std=True)\n",
    "pg_scaled = scaler.transform(pg_dummies)"
   ],
   "metadata": {
    "collapsed": false
   }
  },
  {
   "cell_type": "markdown",
   "source": [
    "Let's identify the ideal number of clusters by using an elbow plot."
   ],
   "metadata": {
    "collapsed": false
   }
  },
  {
   "cell_type": "code",
   "execution_count": 34,
   "outputs": [
    {
     "data": {
      "text/plain": "<Figure size 640x480 with 1 Axes>",
      "image/png": "[encoded data removed]"
     },
     "metadata": {},
     "output_type": "display_data"
    }
   ],
   "source": [
    "inertias = []\n",
    "ks = range(1, 12)\n",
    "for k in ks:\n",
    "    model = KMeans(n_clusters=k, n_init=10)\n",
    "    model.fit(pg_scaled)\n",
    "    inertias.append(model.inertia_)\n",
    "plt.plot(ks, inertias, '-o')\n",
    "plt.show()"
   ],
   "metadata": {
    "collapsed": false
   }
  },
  {
   "cell_type": "markdown",
   "source": [
    "k=4 is a reasonable selection for the ideal number of clusters. We'll use k=4 for the KMeans algorithm parameter."
   ],
   "metadata": {
    "collapsed": false
   }
  },
  {
   "cell_type": "code",
   "execution_count": 35,
   "outputs": [
    {
     "name": "stdout",
     "output_type": "stream",
     "text": [
      "   culmen_length_mm  culmen_depth_mm  flipper_length_mm  body_mass_g  MALE  \\\n",
      "0              39.1             18.7              181.0       3750.0     1   \n",
      "1              39.5             17.4              186.0       3800.0     0   \n",
      "2              40.3             18.0              195.0       3250.0     0   \n",
      "3              36.7             19.3              193.0       3450.0     0   \n",
      "4              39.3             20.6              190.0       3650.0     1   \n",
      "\n",
      "   label  \n",
      "0      2  \n",
      "1      0  \n",
      "2      0  \n",
      "3      0  \n",
      "4      2  \n"
     ]
    }
   ],
   "source": [
    "model = KMeans(n_clusters=4, n_init=10)\n",
    "labels = model.fit_predict(pg_scaled)\n",
    "pg_dummies['label'] = labels\n",
    "print(pg_dummies.head())"
   ],
   "metadata": {
    "collapsed": false
   }
  },
  {
   "cell_type": "markdown",
   "source": [
    "We've confirmed that the cluster labels are added to the original dataset. Now we can group our penguins together and identify their biostatistics."
   ],
   "metadata": {
    "collapsed": false
   }
  },
  {
   "cell_type": "code",
   "execution_count": 36,
   "outputs": [
    {
     "name": "stdout",
     "output_type": "stream",
     "text": [
      "       culmen_length_mm  culmen_depth_mm  flipper_length_mm  body_mass_g  MALE\n",
      "label                                                                         \n",
      "0             40.217757        17.611215         189.046729  3419.158879   0.0\n",
      "1             49.473770        15.718033         221.540984  5484.836066   1.0\n",
      "2             43.878302        19.111321         194.764151  4006.603774   1.0\n",
      "3             45.563793        14.237931         212.706897  4679.741379   0.0\n"
     ]
    }
   ],
   "source": [
    "stat_penguins = pg_dummies.groupby('label').mean()\n",
    "print(stat_penguins)"
   ],
   "metadata": {
    "collapsed": false
   }
  },
  {
   "cell_type": "markdown",
   "source": [
    "Finally, let's plot our penguin groups using Plotly. Since we have 5 features for each penguin, we will use PCA to reduce the dimensions to 2. Then we will calculate the centroids and the distance of each penguin to their group's centroid. Lastly, we'll create the plotly visual, include the centroids, and add a hover dialogue box displaying the distance to the centroid."
   ],
   "metadata": {
    "collapsed": false
   }
  },
  {
   "cell_type": "code",
   "execution_count": 37,
   "outputs": [
    {
     "data": {
      "application/vnd.plotly.v1+json": {
       "data": [
        {
         "customdata": [
          [
           1.0868383915141189
          ],
          [
           0.1260346940390256
          ],
          [
           0.10414594750186891
          ],
          [
           0.5852787543480561
          ],
          [
           1.1368312202433977
          ],
          [
           0.3370138202358811
          ],
          [
           0.045524589757612484
          ],
          [
           0.36287289017153734
          ],
          [
           1.2212330537858709
          ],
          [
           0.30859257728579964
          ],
          [
           0.38842258666327745
          ],
          [
           0.49810996340782443
          ],
          [
           0.901072827397026
          ],
          [
           0.8908035781751281
          ],
          [
           0.973900808649546
          ],
          [
           1.3532621275873082
          ],
          [
           0.5557870163137365
          ],
          [
           0.87237120119758
          ],
          [
           1.1039796168737075
          ],
          [
           0.5479024775295994
          ],
          [
           1.0036264626592204
          ],
          [
           0.27989951577719174
          ],
          [
           1.2859211483284116
          ],
          [
           0.8873351810998765
          ],
          [
           0.5347445673557669
          ],
          [
           1.2266367763034502
          ],
          [
           0.22077738070925593
          ],
          [
           0.7299467288521612
          ],
          [
           0.3779093517275325
          ],
          [
           0.7765556716168067
          ],
          [
           0.8278452831198612
          ],
          [
           0.5014921771868919
          ],
          [
           1.0552805460947479
          ],
          [
           0.3351761247779824
          ],
          [
           0.8511603421727205
          ],
          [
           0.4014699500935547
          ],
          [
           0.866269786231003
          ],
          [
           0.32280184593607236
          ],
          [
           0.6915758079441485
          ],
          [
           0.20181084497840523
          ],
          [
           1.1328834783356245
          ],
          [
           0.350388797327952
          ],
          [
           0.8681744677030618
          ],
          [
           0.13877841505636923
          ],
          [
           0.3783728874744303
          ],
          [
           0.4393443723785865
          ],
          [
           0.037587938666407326
          ],
          [
           1.0085390578333333
          ],
          [
           0.5430779744464024
          ],
          [
           0.12669644557556523
          ],
          [
           0.48630231779938243
          ],
          [
           0.9628989209067963
          ],
          [
           0.7696600651090513
          ],
          [
           0.7150060046998526
          ],
          [
           0.6592962989708278
          ],
          [
           0.2966737943797995
          ],
          [
           0.40740323077476737
          ],
          [
           0.8816151961371259
          ],
          [
           0.45649360291802754
          ],
          [
           0.6709377795300865
          ],
          [
           0.4436127066148202
          ],
          [
           0.6511223190055676
          ],
          [
           0.21224480888934105
          ],
          [
           0.6884443944217248
          ],
          [
           0.6076577140530772
          ],
          [
           0.4349639309230052
          ],
          [
           0.3878529097520982
          ],
          [
           0.23640899359674905
          ],
          [
           0.29618045900481665
          ],
          [
           0.5285438655830107
          ],
          [
           1.1231773330360604
          ],
          [
           0.6194042432977118
          ],
          [
           0.1575916622763387
          ],
          [
           0.6510475062161634
          ],
          [
           0.8650267568791582
          ],
          [
           0.4500620696589148
          ],
          [
           0.7506848219307134
          ],
          [
           0.253575201484065
          ],
          [
           0.8196605569938124
          ],
          [
           1.0472411161455717
          ],
          [
           0.4555025765500397
          ],
          [
           0.7679748256480332
          ],
          [
           0.38724607122661087
          ],
          [
           0.1904636621783884
          ],
          [
           0.7318031218675947
          ],
          [
           0.707780065277326
          ],
          [
           0.4598171727875622
          ],
          [
           0.5065038724675651
          ],
          [
           0.5656972717088787
          ],
          [
           0.2930345507548333
          ],
          [
           0.32287416084519105
          ],
          [
           1.3399937020555923
          ],
          [
           0.2020779452724803
          ],
          [
           0.1802393350835306
          ],
          [
           0.46863604769014044
          ],
          [
           0.7301178617952353
          ],
          [
           0.7052619082559282
          ],
          [
           0.5812009953250942
          ],
          [
           1.0775391413737967
          ],
          [
           0.6102259060410979
          ],
          [
           0.9080586096949974
          ],
          [
           0.6128776133769761
          ],
          [
           0.5812903684195039
          ],
          [
           0.8067388673957263
          ],
          [
           0.5494002734143331
          ],
          [
           0.057370104947907556
          ],
          [
           0.09927769229388893
          ],
          [
           1.0365121481029127
          ],
          [
           0.341727400861138
          ],
          [
           0.5145226020018684
          ],
          [
           0.8095728694668185
          ],
          [
           0.4842874851479374
          ],
          [
           0.888568110690777
          ],
          [
           0.6022529483643864
          ],
          [
           0.8600039143034564
          ],
          [
           0.41682162039310056
          ],
          [
           0.3548390374822712
          ],
          [
           0.895171831229068
          ],
          [
           0.19757746806893167
          ],
          [
           0.15636103219436095
          ],
          [
           0.36541962860943467
          ],
          [
           0.3105290455529472
          ],
          [
           0.9408622644938496
          ],
          [
           0.22305548043327653
          ],
          [
           0.34217740088039855
          ],
          [
           0.2780237003246637
          ],
          [
           0.4204365350950976
          ],
          [
           0.2626921848765799
          ],
          [
           0.6430532183323319
          ],
          [
           0.5099981355503966
          ],
          [
           0.3378606027170292
          ],
          [
           0.5192746478389854
          ],
          [
           0.5183379549183739
          ],
          [
           0.3052453216040326
          ],
          [
           0.9583164066123251
          ],
          [
           1.165847025652644
          ],
          [
           0.8448307650984173
          ],
          [
           0.49574292403153974
          ],
          [
           1.0133509614309673
          ],
          [
           0.43453657901631854
          ],
          [
           0.6322393434415415
          ],
          [
           0.17266855058843064
          ],
          [
           0.7998674217056897
          ],
          [
           0.3219780773355079
          ],
          [
           0.3574355323698098
          ],
          [
           0.7178840438270816
          ],
          [
           0.5333171470718849
          ],
          [
           0.3992219766094269
          ],
          [
           0.6161912830479852
          ],
          [
           0.7187001061915081
          ],
          [
           1.132820710994951
          ],
          [
           0.48396007106606986
          ],
          [
           0.7033706346502476
          ],
          [
           1.187840573672135
          ],
          [
           0.6248779765457598
          ],
          [
           0.967731925380315
          ],
          [
           0.7003747648816638
          ],
          [
           0.6783146017262365
          ],
          [
           1.1468340621261122
          ],
          [
           0.7146859625301769
          ],
          [
           0.831841507865688
          ],
          [
           0.453199169191114
          ],
          [
           1.5249279902780062
          ],
          [
           0.6719636175112554
          ],
          [
           0.8933176876384444
          ],
          [
           0.05092460038236333
          ],
          [
           0.4048234251888095
          ],
          [
           0.25417417930608266
          ],
          [
           0.4423619510036446
          ],
          [
           0.7082218218925039
          ],
          [
           0.9234625817880651
          ],
          [
           1.2778789952632166
          ],
          [
           0.5728861471451706
          ],
          [
           0.8097358399344803
          ],
          [
           1.495718130404377
          ],
          [
           0.3128382820560137
          ],
          [
           1.360185148932489
          ],
          [
           0.3091902564053733
          ],
          [
           1.0554224592380408
          ],
          [
           0.31022364898600474
          ],
          [
           1.4887489280334536
          ],
          [
           1.13974839172775
          ],
          [
           1.74074320671655
          ],
          [
           0.4034491288694187
          ],
          [
           1.530174623647397
          ],
          [
           0.9611530939299782
          ],
          [
           0.6308943811874118
          ],
          [
           0.38481842740100264
          ],
          [
           0.8903029508251351
          ],
          [
           1.3762091652886175
          ],
          [
           1.2470711035749982
          ],
          [
           0.9129857937857649
          ],
          [
           1.267424414778963
          ],
          [
           0.1710657764055392
          ],
          [
           1.4113364882483936
          ],
          [
           1.22954164140396
          ],
          [
           0.8840212417084575
          ],
          [
           0.8035437743284587
          ],
          [
           0.915977348309791
          ],
          [
           0.11799975736042485
          ],
          [
           0.481518645921451
          ],
          [
           0.5901890944336846
          ],
          [
           0.7883442693434897
          ],
          [
           0.7391119139024519
          ],
          [
           0.8575155678507548
          ],
          [
           1.0737736227084775
          ],
          [
           0.9152243805039956
          ],
          [
           0.9686579207733419
          ],
          [
           1.4822055140095152
          ],
          [
           0.7259890044930833
          ],
          [
           0.42605871468825923
          ],
          [
           1.2862980508774589
          ],
          [
           1.4231419446333853
          ],
          [
           0.3280301116931758
          ],
          [
           0.46442117659961796
          ],
          [
           0.06680956654915986
          ],
          [
           0.18280839821768197
          ],
          [
           0.5074308250014439
          ],
          [
           0.20401877314536324
          ],
          [
           0.147066460638957
          ],
          [
           0.5159149206818304
          ],
          [
           0.5207399649194673
          ],
          [
           0.6870067441768727
          ],
          [
           0.4381092967922775
          ],
          [
           0.32203666662483893
          ],
          [
           0.22515144720482538
          ],
          [
           0.3296142914495488
          ],
          [
           0.4956586601199796
          ],
          [
           0.06937907270170225
          ],
          [
           0.7500223863951508
          ],
          [
           0.6188842056537169
          ],
          [
           0.15141408571768683
          ],
          [
           0.24456710985453156
          ],
          [
           0.5154551257959461
          ],
          [
           0.24050451408952567
          ],
          [
           0.17739888289555575
          ],
          [
           0.8474238763429891
          ],
          [
           0.5430960543453924
          ],
          [
           0.7672872313787752
          ],
          [
           0.29409566924370006
          ],
          [
           0.1310553861157946
          ],
          [
           0.14623168951300097
          ],
          [
           0.3423854583166555
          ],
          [
           0.3711446262531362
          ],
          [
           0.14403578909780407
          ],
          [
           1.5538972988146067
          ],
          [
           0.8676366491452797
          ],
          [
           0.3514284151452563
          ],
          [
           0.2666436229590404
          ],
          [
           1.0302191981508504
          ],
          [
           0.5064444100525797
          ],
          [
           0.7021539628072633
          ],
          [
           0.8887866929189588
          ],
          [
           0.2644924913440043
          ],
          [
           0.35631267870717914
          ],
          [
           0.6416202563154964
          ],
          [
           0.15247564361796487
          ],
          [
           0.2901537792854328
          ],
          [
           0.4060537448302267
          ],
          [
           0.15190965890388652
          ],
          [
           0.5116811274437775
          ],
          [
           0.7707301153714909
          ],
          [
           0.11387433054258032
          ],
          [
           0.5711734752577097
          ],
          [
           0.3707674312027993
          ],
          [
           0.26990374570306613
          ],
          [
           0.38216535558910963
          ],
          [
           0.7364905514934912
          ],
          [
           0.5657440446192953
          ],
          [
           0.7224302542633563
          ],
          [
           0.5932678099148502
          ],
          [
           0.3178794097207676
          ],
          [
           0.4906186856975955
          ],
          [
           0.481925950116843
          ],
          [
           0.1505318641782036
          ],
          [
           0.9116952984772747
          ],
          [
           0.2972979881790496
          ],
          [
           0.46488787609687604
          ],
          [
           0.45556104589568314
          ],
          [
           0.1896685998665354
          ],
          [
           0.38852583516835776
          ],
          [
           0.3839099980199378
          ],
          [
           0.6180908114453233
          ],
          [
           0.38741800146755656
          ],
          [
           0.5586768427953867
          ],
          [
           0.2745376172450033
          ],
          [
           0.43589564114513896
          ],
          [
           0.07933532692895004
          ],
          [
           0.4381280266540556
          ],
          [
           0.2505951316321638
          ],
          [
           0.14288803923370685
          ],
          [
           0.2792375362691764
          ],
          [
           0.2390943706947191
          ],
          [
           0.2118276590853029
          ],
          [
           0.05723362411675078
          ],
          [
           0.16365143545813146
          ],
          [
           0.5635523265147201
          ],
          [
           0.07835983030733479
          ],
          [
           0.45529852501323415
          ],
          [
           0.31065933976356785
          ],
          [
           0.6024762605404904
          ],
          [
           0.5251365123935137
          ],
          [
           0.5389989918105526
          ],
          [
           0.09868802711500405
          ],
          [
           0.19228879223097806
          ],
          [
           0.11963572967064388
          ],
          [
           0.09917347691480029
          ],
          [
           0.6293459923730527
          ],
          [
           0.5710070126379807
          ],
          [
           0.301198010747433
          ],
          [
           0.2781562683520492
          ],
          [
           0.583275356485815
          ],
          [
           0.8968644470245896
          ],
          [
           0.5234201178486128
          ],
          [
           0.46606881651866366
          ],
          [
           0.5510124377174264
          ],
          [
           0.5033714613804406
          ],
          [
           0.2865365344804689
          ],
          [
           0.4321004336600165
          ],
          [
           0.5314888039832432
          ],
          [
           0.7733317671453757
          ],
          [
           0.618713468787704
          ],
          [
           0.42760412554648913
          ],
          [
           0.4698998046468379
          ],
          [
           0.08185571932325875
          ],
          [
           1.0488738645619873
          ],
          [
           0.2856194550387248
          ],
          [
           0.467078379928926
          ],
          [
           0.308664678059694
          ],
          [
           0.2848984226504646
          ],
          [
           0.29149428844422387
          ],
          [
           0.47298273106962824
          ]
         ],
         "hovertemplate": "distance_to_centroid=%{customdata[0]}<br>Cluster=%{marker.color}<extra></extra>",
         "legendgroup": "",
         "marker": {
          "color": [
           2,
           0,
           0,
           0,
           2,
           0,
           2,
           0,
           2,
           0,
           0,
           2,
           0,
           2,
           0,
           2,
           0,
           2,
           2,
           0,
           2,
           0,
           0,
           2,
           0,
           2,
           0,
           2,
           0,
           2,
           2,
           0,
           0,
           2,
           0,
           2,
           0,
           2,
           0,
           2,
           2,
           0,
           2,
           0,
           2,
           0,
           2,
           0,
           2,
           0,
           2,
           0,
           2,
           0,
           2,
           0,
           2,
           0,
           2,
           0,
           2,
           0,
           2,
           0,
           2,
           0,
           2,
           0,
           2,
           0,
           2,
           0,
           2,
           0,
           2,
           0,
           2,
           0,
           2,
           2,
           0,
           2,
           0,
           0,
           2,
           0,
           2,
           0,
           2,
           0,
           2,
           0,
           2,
           0,
           2,
           0,
           2,
           0,
           2,
           0,
           2,
           0,
           2,
           0,
           2,
           0,
           2,
           0,
           2,
           0,
           2,
           0,
           2,
           0,
           2,
           0,
           2,
           0,
           2,
           0,
           2,
           0,
           2,
           0,
           2,
           0,
           2,
           0,
           2,
           0,
           2,
           0,
           2,
           0,
           2,
           0,
           2,
           0,
           2,
           2,
           0,
           0,
           2,
           0,
           2,
           0,
           2,
           2,
           0,
           2,
           0,
           0,
           2,
           0,
           2,
           0,
           2,
           0,
           2,
           0,
           2,
           2,
           0,
           0,
           2,
           0,
           2,
           0,
           2,
           0,
           2,
           0,
           2,
           0,
           2,
           0,
           2,
           0,
           2,
           2,
           0,
           0,
           2,
           0,
           2,
           2,
           0,
           2,
           0,
           0,
           2,
           0,
           2,
           2,
           0,
           0,
           2,
           0,
           2,
           0,
           2,
           0,
           2,
           2,
           0,
           2,
           0,
           0,
           2,
           0,
           2,
           2,
           0,
           3,
           1,
           3,
           1,
           1,
           3,
           3,
           1,
           3,
           1,
           3,
           1,
           3,
           1,
           3,
           1,
           3,
           1,
           3,
           1,
           1,
           3,
           3,
           1,
           3,
           1,
           1,
           3,
           1,
           1,
           3,
           3,
           1,
           3,
           1,
           3,
           1,
           3,
           1,
           3,
           1,
           3,
           1,
           1,
           3,
           3,
           1,
           3,
           1,
           3,
           1,
           3,
           1,
           3,
           1,
           3,
           1,
           3,
           1,
           3,
           1,
           3,
           1,
           3,
           1,
           1,
           3,
           1,
           3,
           1,
           1,
           3,
           3,
           1,
           3,
           1,
           3,
           1,
           3,
           1,
           3,
           1,
           3,
           1,
           3,
           1,
           3,
           1,
           3,
           1,
           3,
           1,
           3,
           1,
           1,
           3,
           3,
           1,
           3,
           1,
           3,
           1,
           1,
           3,
           1,
           3,
           1,
           3,
           1,
           3,
           1,
           3,
           1,
           1,
           3,
           3,
           1,
           3,
           1
          ],
          "coloraxis": "coloraxis",
          "symbol": "circle"
         },
         "mode": "markers",
         "name": "",
         "orientation": "v",
         "showlegend": false,
         "x": [
          -1.5696844528142364,
          -1.537253238641174,
          -1.587616024947255,
          -2.055548624548147,
          -1.5806530099073977,
          -1.9772828006287653,
          -0.5133593164014059,
          -2.0091688005216075,
          -1.5979286809289162,
          -1.9601424991394607,
          -1.7546420422389517,
          -0.45902298068871583,
          -2.546752033250428,
          -0.6241239603137435,
          -2.5914961824977922,
          -1.8320728302794695,
          -2.0263619515239513,
          -1.246239067229535,
          -1.3475913142852678,
          -2.1070477142366837,
          -1.482750263515994,
          -1.9097833090487066,
          -2.886241607134015,
          -1.387042094726602,
          -2.119406998605425,
          -1.646997287445331,
          -1.8687449332756645,
          -1.2267050320165707,
          -1.6982585670386972,
          -1.088048329550758,
          -1.3151758625013927,
          -1.9071252189641246,
          -2.5648323608048447,
          -0.8373883538843928,
          -2.5017856802393603,
          -0.7085427951995344,
          -2.5023209276157976,
          -0.26333035408380184,
          -2.2562452782438025,
          -0.5969338447433623,
          -1.6341321223041174,
          -1.9991474160591403,
          -1.042692816197528,
          -1.7860307645051077,
          -0.8583672952079859,
          -2.0840663144738314,
          -0.48811465160265555,
          -2.659677054939608,
          -0.9899076090980523,
          -1.7687702771490486,
          -0.9423518322640865,
          -2.512141873085659,
          -1.2420086119297513,
          -2.263338728784173,
          -0.7777509161679605,
          -1.8089785299027272,
          -0.6665902945288988,
          -2.4844766575825763,
          -0.6592201363154064,
          -1.622356240290937,
          -0.9449613405968973,
          -2.063551168362776,
          -0.2931413291582033,
          -2.2939232080262832,
          -1.0029575948853577,
          -1.2651437343329592,
          -0.11582347106957942,
          -1.8018820950580097,
          -0.31455811807577044,
          -1.1848958192141998,
          -1.6253502576641738,
          -1.7298955461871621,
          -0.6475042377798288,
          -2.2121797830049754,
          0.19603946897165697,
          -1.971272196153467,
          -1.235270488964177,
          -1.9005303971306116,
          -1.2682122346254883,
          -1.5463289244236023,
          -2.04671092609082,
          -1.2627236315734764,
          -1.8015830359816516,
          -1.490235106855853,
          0.045077724488754,
          -2.2693104476965686,
          -0.7428147491672761,
          -2.104732798816832,
          0.005091979400950897,
          -1.7668726225089544,
          -0.4177871502274143,
          -2.802589527240585,
          -0.5044940829664188,
          -1.8142793280042995,
          -0.0720214163785212,
          -2.0735515525021766,
          -1.1934925261186289,
          -2.1969764352275205,
          -1.5696436507112306,
          -1.0917254026915493,
          -1.4005609073497827,
          -2.2200087891355063,
          0.076919655244272,
          -1.004511673366919,
          -0.3005555565090206,
          -1.7027354934595647,
          -0.4367816026794239,
          -1.816228915758315,
          -0.36958905532452324,
          -2.0855291058242993,
          -1.2857102613617968,
          -1.9816897567447889,
          -1.3540376766911437,
          -2.19114485591291,
          -1.3631054640609752,
          -2.053297731996651,
          -0.410291753351628,
          -2.1655741842782454,
          -0.5971903159554854,
          -1.7910244876026402,
          -0.35674085960999474,
          -1.8445470825045467,
          0.31112525666768565,
          -1.8729344345213514,
          -0.8434098530916789,
          -1.877510546485909,
          -0.4488733944318116,
          -1.9079698082379268,
          -0.7320695943809472,
          -2.114743313826154,
          -0.7939535892643591,
          -1.9132193906365986,
          -0.5568739459172825,
          -1.4212068592380207,
          -1.1371507688345377,
          -2.2808649235813268,
          -0.8021098225320926,
          -1.9324749324152175,
          -1.486240545111132,
          -0.8381592241009715,
          -2.256629339339379,
          -1.7812543443268278,
          -1.0963350315062539,
          -1.8124688114978655,
          -0.355916401297152,
          -0.9926636723334404,
          -0.07286779082758313,
          -0.204576977836214,
          -1.364773299254738,
          0.025428885971553225,
          -0.5350610140581115,
          -1.812278173608201,
          0.19398424593316038,
          -0.6357731423149946,
          -0.0873626827255193,
          -0.7204796851059345,
          -0.2301040150146069,
          -0.992540654113425,
          0.6377219790672791,
          -0.9372535748335634,
          0.2570077269055035,
          -0.5048410901253997,
          -0.3036812822087981,
          -1.2342142946648957,
          0.38289113008493003,
          -1.6128382075638874,
          -0.4078060018220577,
          -1.667546734192055,
          -0.19449720993306846,
          -0.9928123089910069,
          0.39378463879885717,
          -0.4846943734996117,
          0.0610538590228962,
          -0.8867324809598901,
          0.8899052191881853,
          -1.6562579657483907,
          0.5407074564059502,
          -1.4339756711888056,
          0.5494149689054846,
          -0.19314495471153537,
          -0.16508984819147238,
          -0.6051707778330483,
          1.0769192187654306,
          -1.290077621826338,
          0.9318038025815436,
          0.43945824856035853,
          -1.0482859946781868,
          -0.16992048164079532,
          -0.7647778188805582,
          -0.33769933986655254,
          0.7437327061556596,
          -0.8362246542115684,
          0.7440067334266053,
          -0.6198223567522324,
          -0.2493741617349527,
          -0.44256988462718216,
          0.36590168569546977,
          -0.8501962153642136,
          0.3375040508576586,
          -1.5353100330047014,
          -0.03752534210696764,
          -1.095869787621911,
          0.18483947247179208,
          0.23467681309034413,
          -1.2248081279747476,
          0.5249198448192328,
          -0.7480424480310149,
          -0.6846937240848248,
          0.8800708758140892,
          -0.9480578769226381,
          -0.09396423761575702,
          0.7800586846187764,
          -0.38298603500701317,
          1.2196439619494348,
          3.074022825363633,
          1.2137970470182804,
          2.7773928612615832,
          2.3646062855296153,
          1.1971772439210064,
          1.1303561236195163,
          2.176135180480627,
          0.7988239096119834,
          1.9725010950761395,
          0.9175239129363191,
          2.356769698152455,
          1.308150845643899,
          2.645154091583036,
          0.7109184111045499,
          2.6966046459708477,
          0.539572554658289,
          3.2432646189825385,
          1.1347786980820536,
          2.6036546221718333,
          2.9463781836683647,
          1.4203075467397923,
          1.0455879303535847,
          1.7936179930590455,
          1.4699328144645607,
          1.929291341294228,
          2.469313292697186,
          1.2408605946043638,
          2.737604288132071,
          2.3821226321868147,
          0.8278542127808989,
          1.1331348342519068,
          4.012056768623156,
          2.013621088319,
          2.329542330243345,
          1.2282874727528168,
          1.6774742138734273,
          0.7498545098114604,
          1.9395090283528804,
          0.3471012351731062,
          2.8897184354760412,
          0.8893279162201991,
          2.0425614077371987,
          2.759130980095387,
          1.4057977539063649,
          0.8036661636986875,
          2.776432269554457,
          1.5944582977159312,
          1.8723757338007647,
          1.294047946441386,
          2.640726135143946,
          0.8229881260178682,
          2.6189966065158172,
          1.5676172577957228,
          1.9517836777602073,
          0.6477698434209983,
          2.027365662378574,
          0.5987852599550162,
          2.9323750566416784,
          0.7231698397465327,
          2.350500988654895,
          1.11918797572366,
          3.5462755468490577,
          1.4846189308842996,
          2.972593744167448,
          3.077119045772156,
          1.3295062668164424,
          2.9683171047881016,
          1.4246836543927972,
          2.0426591114218335,
          2.2643805401674295,
          1.706663251382581,
          1.2798553806541224,
          3.074670960090164,
          1.1581056237307965,
          2.9720278255579218,
          1.374854329701927,
          2.5402859656668166,
          1.3811279400439405,
          2.8705677439476336,
          1.288744164035468,
          2.659338312261603,
          1.2287762533197215,
          2.823798324897877,
          1.1379672401986574,
          2.7812083858305674,
          1.50187153309156,
          3.0308279725172134,
          1.6258363024800278,
          2.83872808008544,
          1.1615041702499915,
          2.789702977246414,
          1.192076167401019,
          2.7381520387717933,
          2.010983115931582,
          1.751593855086177,
          0.9767665508829119,
          2.622748129388649,
          1.6820885915814994,
          3.30755188772075,
          1.4125297774843641,
          2.999017172954683,
          2.0953136135546258,
          0.6901989252974253,
          2.8672487331432666,
          0.7778067158086704,
          2.1333939708046215,
          1.800846978346513,
          3.256563013603238,
          0.8447763419888454,
          3.0636663497873666,
          1.2312548582837173,
          3.661077505585234,
          2.874005024078647,
          1.6418983548465422,
          1.495146677251338,
          2.9221520340575196,
          1.3952646720138189,
          2.209293182469152
         ],
         "xaxis": "x",
         "y": [
          1.1959035643306861,
          -0.7132486022490366,
          -0.5785675192860544,
          -0.23691914189584876,
          1.7689719467717513,
          -0.5733223783546437,
          1.4503673439945413,
          -0.5978238385768638,
          1.947514507210474,
          -0.6722296241426472,
          -0.28605697118555456,
          1.9020941432499987,
          -0.5560276647280726,
          2.2885362001064458,
          -0.40488406355587553,
          1.14947784622041,
          -0.25002502567282736,
          0.9486521871492039,
          0.6946171757849234,
          -0.355784049100091,
          1.1868289027629388,
          -0.5521089662947819,
          -0.3005116457475792,
          1.3257644653116003,
          -0.9199663824424432,
          0.9624712044208718,
          -0.619816708390215,
          1.3081702525558374,
          -1.0356478763847021,
          1.9169905299159715,
          1.5679701684623086,
          -0.2289986129382135,
          -0.13152300363936506,
          1.378508379146137,
          -0.6165042225681584,
          1.0608953199746591,
          -0.4963396255308208,
          1.6218233404632396,
          -0.9965930250017544,
          1.227164869943302,
          1.3371831013488797,
          -0.7064391523388772,
          2.08627075325557,
          -0.6254924094800394,
          1.275114390184306,
          -0.7389820243224803,
          1.440326458740762,
          -0.6962737715414313,
          1.1647459198983883,
          -0.7092160019721434,
          1.1967776206917284,
          -1.0929658903089368,
          1.1897587847035787,
          -1.0310354929922532,
          2.0054335719834655,
          -0.9122047605431834,
          1.0326951940914448,
          -0.9501654876938108,
          0.9769054951931193,
          -1.3309017482305967,
          1.3639918658816672,
          -1.1649853736760887,
          1.4353722501734365,
          -0.41242879863734416,
          1.0600860020674574,
          -0.8598943980785102,
          1.3897673806080877,
          -0.8432430613463779,
          1.1777381625632992,
          -0.9083754732995544,
          1.35480902079485,
          -1.2750663166005445,
          1.3423095830218146,
          -0.9919733999176245,
          0.8968993680302446,
          -0.3436335072387146,
          1.239217406511083,
          -0.7097826429896035,
          1.700596803913353,
          1.3117023283367726,
          -0.43366555835960546,
          1.2914204694001095,
          -0.3035162477572251,
          -0.7615211770189259,
          0.9214227705083725,
          -1.0064339748860653,
          1.013425524965246,
          -0.8872580122594957,
          1.1579430354737832,
          -0.39112732611665435,
          1.0946255914081293,
          -1.3470452563372786,
          1.2038847505334125,
          -0.7385611739207123,
          1.5892229717174777,
          -1.2565715555502526,
          1.5511538276550751,
          -0.45925547748385426,
          1.2507711864697493,
          -0.9029456207093901,
          1.5458233567427515,
          -0.8902223040314305,
          1.3713289989838267,
          -1.1421542080618272,
          1.9165667173249974,
          -0.6869476312427149,
          1.479622636284617,
          0.3627728249504184,
          1.0914935394257674,
          -0.9373498327359673,
          1.6140513309177944,
          -1.015131932978813,
          1.1493200308427496,
          -0.9285307567633501,
          1.385783708644835,
          -0.7724784446794304,
          1.0635370000311268,
          -1.393641463454483,
          1.232095523110932,
          -0.7317189256396286,
          1.0712345596826733,
          -0.9040526442035288,
          0.9349275350923809,
          -0.6316346937033572,
          1.3680559121172313,
          -0.4983195974934441,
          0.9890655664126718,
          -0.7186453974201567,
          0.8049607126034841,
          -0.8745077719616173,
          1.5782745298701968,
          -1.1092622324292687,
          0.8903935224300223,
          -0.8606487146273444,
          0.6871742921296755,
          -1.6421574187762316,
          0.6157223593788174,
          -1.0692226201070072,
          1.1594168270537277,
          1.128981143612759,
          -0.4765700807759609,
          -0.7748364725293065,
          0.8691701381985648,
          -0.9396168362523939,
          1.0803415768079268,
          -0.3761130444915551,
          1.72079644204121,
          1.6707610009907696,
          -0.11533355506366236,
          1.8927192550361096,
          -0.47022386975106595,
          -0.20404124361563356,
          1.3139181158730637,
          -0.04520824520939225,
          1.8722606006550837,
          -0.39753927328744504,
          2.050837570925102,
          -0.5008311500915192,
          1.291024905502479,
          -0.6449878297030684,
          1.7433527812621044,
          1.859156067606942,
          0.05217810932626576,
          -0.1341269312997245,
          1.2936473720995374,
          -0.6277802652550741,
          1.0125695117332436,
          -0.9142929690191152,
          1.7226632140217695,
          -0.40108152897727134,
          1.624942665822096,
          -0.14011688507720801,
          1.5042451613924663,
          -0.39529488823305137,
          1.950059914761206,
          -0.9734150434050323,
          2.277780597236433,
          -0.8800737037274146,
          1.480974337948047,
          1.4016193072836947,
          -0.7390887101298126,
          -0.20932305470600845,
          2.1360095709562184,
          -0.8393565380721255,
          1.9368093577046646,
          1.5929087030176705,
          -0.47666271488636386,
          1.5980994914580142,
          -0.7373314997359847,
          -0.2517408709306288,
          1.4065800830199895,
          -0.2502057458994698,
          1.6306706651292,
          1.531238882103701,
          -0.5019900401165078,
          -0.8833434206903685,
          1.5669423154945448,
          -0.6043596067686111,
          1.7692756980645885,
          -0.679616830233402,
          1.5279370429759493,
          -0.8588498783659534,
          1.7905346351188813,
          1.446211077439747,
          0.0830559622130247,
          1.7152733047899282,
          -0.8052269173627935,
          -0.7159620914961269,
          1.9380424625474286,
          -0.48214056221933854,
          1.2878960507854456,
          1.4923017435979973,
          -0.01599800944491562,
          -2.039907728577616,
          0.5081349831296564,
          -1.650234471453673,
          0.22460153411672779,
          -0.08210153746511314,
          -1.9170434862528214,
          -1.579228502970407,
          0.11741108193760505,
          -2.0554558528492524,
          0.17944403254204744,
          -2.0552127074906803,
          0.4988758432958629,
          -1.905515496366106,
          0.01492717231189745,
          -1.5906668482747535,
          0.38372975214968613,
          -2.0844551184141946,
          0.20902759411772862,
          -1.5726085477892886,
          0.10254842889680148,
          -0.06957520172756916,
          -1.6399067623833854,
          -1.6118046674491762,
          0.29156833515413094,
          -2.179233785566673,
          0.05381449687712442,
          0.1045598741569255,
          -1.591823684025952,
          0.2361526109343076,
          0.11856518889230473,
          -1.7887249263393352,
          -1.5813051278143722,
          1.0727605262876905,
          -1.4366314133885436,
          0.510315539329044,
          -1.9771657256872328,
          0.713373143218086,
          -1.961480404903836,
          0.4009712579601449,
          -1.991345367802011,
          0.42987723886397033,
          -1.9023814174487825,
          0.10895988194334921,
          0.43888578391021615,
          -1.9084152574214963,
          -1.8342960622795146,
          0.4100298135571744,
          -2.0280917701994357,
          0.2688766186191428,
          -1.6641963154684107,
          -0.22668088667609648,
          -1.6697814623770326,
          0.07535864628755537,
          -1.6469935340907043,
          0.08063684463801125,
          -1.870381631082945,
          -0.039350723562257155,
          -1.6815872151909104,
          0.2211794867079395,
          -1.8602189790819992,
          -0.04125122916798594,
          -1.845293406785023,
          0.4379938023807895,
          -1.7610719929380487,
          0.6686738033112788,
          0.47069381353592793,
          -1.8429181667552876,
          0.13771147981096674,
          -1.4083509115496016,
          0.18339716646204493,
          0.24721651309132073,
          -1.4976290872516598,
          -1.4532777336576808,
          0.3675887026643959,
          -1.641015605075191,
          0.6296343560375123,
          -1.8836242702416803,
          0.4474270969556709,
          -1.508400733654579,
          0.4054984823265783,
          -1.525071960052246,
          0.3981348572909301,
          -1.8723944270719048,
          0.8770170293243398,
          -1.7706005366711959,
          -0.08815622969643477,
          -1.7144112807597127,
          0.8024781011167182,
          -1.4183702683386468,
          0.8452737381524672,
          -1.6190023514720622,
          0.4644089103068364,
          -1.593479225075443,
          0.3354917949483855,
          0.3789009487248605,
          -1.603455813005385,
          -1.5016121086641998,
          0.6221491446531631,
          -1.398067141668786,
          0.942757239693709,
          -1.23878248632583,
          0.048033954833045414,
          0.4316580046574934,
          -1.6644722591979073,
          0.5182222499824579,
          -1.8388276012474059,
          0.18185435860920385,
          -1.2373064695172014,
          0.388091503972188,
          -1.4624614883433305,
          0.546464936987481,
          -1.784506261991439,
          0.5817384590872104,
          0.5073811350496513,
          -1.8357766270823088,
          -1.6592661034307827,
          0.37929689299809816,
          -1.5049469795555823,
          0.5412938672577774
         ],
         "yaxis": "y",
         "type": "scatter"
        },
        {
         "marker": {
          "color": "red",
          "size": 12,
          "symbol": "x"
         },
         "mode": "markers",
         "name": "Centroid 0",
         "x": [
          -1.6517687985625835
         ],
         "y": [
          -0.6606089723358539
         ],
         "type": "scatter"
        },
        {
         "marker": {
          "color": "red",
          "size": 12,
          "symbol": "x"
         },
         "mode": "markers",
         "name": "Centroid 1",
         "x": [
          2.6393877108783705
         ],
         "y": [
          0.34449102042233104
         ],
         "type": "scatter"
        },
        {
         "marker": {
          "color": "red",
          "size": 12,
          "symbol": "x"
         },
         "mode": "markers",
         "name": "Centroid 2",
         "x": [
          -0.5033382429535707
         ],
         "y": [
          1.4059593902074998
         ],
         "type": "scatter"
        },
        {
         "marker": {
          "color": "red",
          "size": 12,
          "symbol": "x"
         },
         "mode": "markers",
         "name": "Centroid 3",
         "x": [
          1.1912149109602475
         ],
         "y": [
          -1.7131118546175985
         ],
         "type": "scatter"
        }
       ],
       "layout": {
        "template": {
         "data": {
          "histogram2dcontour": [
           {
            "type": "histogram2dcontour",
            "colorbar": {
             "outlinewidth": 0,
             "ticks": ""
            },
            "colorscale": [
             [
              0.0,
              "#0d0887"
             ],
             [
              0.1111111111111111,
              "#46039f"
             ],
             [
              0.2222222222222222,
              "#7201a8"
             ],
             [
              0.3333333333333333,
              "#9c179e"
             ],
             [
              0.4444444444444444,
              "#bd3786"
             ],
             [
              0.5555555555555556,
              "#d8576b"
             ],
             [
              0.6666666666666666,
              "#ed7953"
             ],
             [
              0.7777777777777778,
              "#fb9f3a"
             ],
             [
              0.8888888888888888,
              "#fdca26"
             ],
             [
              1.0,
              "#f0f921"
             ]
            ]
           }
          ],
          "choropleth": [
           {
            "type": "choropleth",
            "colorbar": {
             "outlinewidth": 0,
             "ticks": ""
            }
           }
          ],
          "histogram2d": [
           {
            "type": "histogram2d",
            "colorbar": {
             "outlinewidth": 0,
             "ticks": ""
            },
            "colorscale": [
             [
              0.0,
              "#0d0887"
             ],
             [
              0.1111111111111111,
              "#46039f"
             ],
             [
              0.2222222222222222,
              "#7201a8"
             ],
             [
              0.3333333333333333,
              "#9c179e"
             ],
             [
              0.4444444444444444,
              "#bd3786"
             ],
             [
              0.5555555555555556,
              "#d8576b"
             ],
             [
              0.6666666666666666,
              "#ed7953"
             ],
             [
              0.7777777777777778,
              "#fb9f3a"
             ],
             [
              0.8888888888888888,
              "#fdca26"
             ],
             [
              1.0,
              "#f0f921"
             ]
            ]
           }
          ],
          "heatmap": [
           {
            "type": "heatmap",
            "colorbar": {
             "outlinewidth": 0,
             "ticks": ""
            },
            "colorscale": [
             [
              0.0,
              "#0d0887"
             ],
             [
              0.1111111111111111,
              "#46039f"
             ],
             [
              0.2222222222222222,
              "#7201a8"
             ],
             [
              0.3333333333333333,
              "#9c179e"
             ],
             [
              0.4444444444444444,
              "#bd3786"
             ],
             [
              0.5555555555555556,
              "#d8576b"
             ],
             [
              0.6666666666666666,
              "#ed7953"
             ],
             [
              0.7777777777777778,
              "#fb9f3a"
             ],
             [
              0.8888888888888888,
              "#fdca26"
             ],
             [
              1.0,
              "#f0f921"
             ]
            ]
           }
          ],
          "heatmapgl": [
           {
            "type": "heatmapgl",
            "colorbar": {
             "outlinewidth": 0,
             "ticks": ""
            },
            "colorscale": [
             [
              0.0,
              "#0d0887"
             ],
             [
              0.1111111111111111,
              "#46039f"
             ],
             [
              0.2222222222222222,
              "#7201a8"
             ],
             [
              0.3333333333333333,
              "#9c179e"
             ],
             [
              0.4444444444444444,
              "#bd3786"
             ],
             [
              0.5555555555555556,
              "#d8576b"
             ],
             [
              0.6666666666666666,
              "#ed7953"
             ],
             [
              0.7777777777777778,
              "#fb9f3a"
             ],
             [
              0.8888888888888888,
              "#fdca26"
             ],
             [
              1.0,
              "#f0f921"
             ]
            ]
           }
          ],
          "contourcarpet": [
           {
            "type": "contourcarpet",
            "colorbar": {
             "outlinewidth": 0,
             "ticks": ""
            }
           }
          ],
          "contour": [
           {
            "type": "contour",
            "colorbar": {
             "outlinewidth": 0,
             "ticks": ""
            },
            "colorscale": [
             [
              0.0,
              "#0d0887"
             ],
             [
              0.1111111111111111,
              "#46039f"
             ],
             [
              0.2222222222222222,
              "#7201a8"
             ],
             [
              0.3333333333333333,
              "#9c179e"
             ],
             [
              0.4444444444444444,
              "#bd3786"
             ],
             [
              0.5555555555555556,
              "#d8576b"
             ],
             [
              0.6666666666666666,
              "#ed7953"
             ],
             [
              0.7777777777777778,
              "#fb9f3a"
             ],
             [
              0.8888888888888888,
              "#fdca26"
             ],
             [
              1.0,
              "#f0f921"
             ]
            ]
           }
          ],
          "surface": [
           {
            "type": "surface",
            "colorbar": {
             "outlinewidth": 0,
             "ticks": ""
            },
            "colorscale": [
             [
              0.0,
              "#0d0887"
             ],
             [
              0.1111111111111111,
              "#46039f"
             ],
             [
              0.2222222222222222,
              "#7201a8"
             ],
             [
              0.3333333333333333,
              "#9c179e"
             ],
             [
              0.4444444444444444,
              "#bd3786"
             ],
             [
              0.5555555555555556,
              "#d8576b"
             ],
             [
              0.6666666666666666,
              "#ed7953"
             ],
             [
              0.7777777777777778,
              "#fb9f3a"
             ],
             [
              0.8888888888888888,
              "#fdca26"
             ],
             [
              1.0,
              "#f0f921"
             ]
            ]
           }
          ],
          "mesh3d": [
           {
            "type": "mesh3d",
            "colorbar": {
             "outlinewidth": 0,
             "ticks": ""
            }
           }
          ],
          "scatter": [
           {
            "fillpattern": {
             "fillmode": "overlay",
             "size": 10,
             "solidity": 0.2
            },
            "type": "scatter"
           }
          ],
          "parcoords": [
           {
            "type": "parcoords",
            "line": {
             "colorbar": {
              "outlinewidth": 0,
              "ticks": ""
             }
            }
           }
          ],
          "scatterpolargl": [
           {
            "type": "scatterpolargl",
            "marker": {
             "colorbar": {
              "outlinewidth": 0,
              "ticks": ""
             }
            }
           }
          ],
          "bar": [
           {
            "error_x": {
             "color": "#2a3f5f"
            },
            "error_y": {
             "color": "#2a3f5f"
            },
            "marker": {
             "line": {
              "color": "#E5ECF6",
              "width": 0.5
             },
             "pattern": {
              "fillmode": "overlay",
              "size": 10,
              "solidity": 0.2
             }
            },
            "type": "bar"
           }
          ],
          "scattergeo": [
           {
            "type": "scattergeo",
            "marker": {
             "colorbar": {
              "outlinewidth": 0,
              "ticks": ""
             }
            }
           }
          ],
          "scatterpolar": [
           {
            "type": "scatterpolar",
            "marker": {
             "colorbar": {
              "outlinewidth": 0,
              "ticks": ""
             }
            }
           }
          ],
          "histogram": [
           {
            "marker": {
             "pattern": {
              "fillmode": "overlay",
              "size": 10,
              "solidity": 0.2
             }
            },
            "type": "histogram"
           }
          ],
          "scattergl": [
           {
            "type": "scattergl",
            "marker": {
             "colorbar": {
              "outlinewidth": 0,
              "ticks": ""
             }
            }
           }
          ],
          "scatter3d": [
           {
            "type": "scatter3d",
            "line": {
             "colorbar": {
              "outlinewidth": 0,
              "ticks": ""
             }
            },
            "marker": {
             "colorbar": {
              "outlinewidth": 0,
              "ticks": ""
             }
            }
           }
          ],
          "scattermapbox": [
           {
            "type": "scattermapbox",
            "marker": {
             "colorbar": {
              "outlinewidth": 0,
              "ticks": ""
             }
            }
           }
          ],
          "scatterternary": [
           {
            "type": "scatterternary",
            "marker": {
             "colorbar": {
              "outlinewidth": 0,
              "ticks": ""
             }
            }
           }
          ],
          "scattercarpet": [
           {
            "type": "scattercarpet",
            "marker": {
             "colorbar": {
              "outlinewidth": 0,
              "ticks": ""
             }
            }
           }
          ],
          "carpet": [
           {
            "aaxis": {
             "endlinecolor": "#2a3f5f",
             "gridcolor": "white",
             "linecolor": "white",
             "minorgridcolor": "white",
             "startlinecolor": "#2a3f5f"
            },
            "baxis": {
             "endlinecolor": "#2a3f5f",
             "gridcolor": "white",
             "linecolor": "white",
             "minorgridcolor": "white",
             "startlinecolor": "#2a3f5f"
            },
            "type": "carpet"
           }
          ],
          "table": [
           {
            "cells": {
             "fill": {
              "color": "#EBF0F8"
             },
             "line": {
              "color": "white"
             }
            },
            "header": {
             "fill": {
              "color": "#C8D4E3"
             },
             "line": {
              "color": "white"
             }
            },
            "type": "table"
           }
          ],
          "barpolar": [
           {
            "marker": {
             "line": {
              "color": "#E5ECF6",
              "width": 0.5
             },
             "pattern": {
              "fillmode": "overlay",
              "size": 10,
              "solidity": 0.2
             }
            },
            "type": "barpolar"
           }
          ],
          "pie": [
           {
            "automargin": true,
            "type": "pie"
           }
          ]
         },
         "layout": {
          "autotypenumbers": "strict",
          "colorway": [
           "#636efa",
           "#EF553B",
           "#00cc96",
           "#ab63fa",
           "#FFA15A",
           "#19d3f3",
           "#FF6692",
           "#B6E880",
           "#FF97FF",
           "#FECB52"
          ],
          "font": {
           "color": "#2a3f5f"
          },
          "hovermode": "closest",
          "hoverlabel": {
           "align": "left"
          },
          "paper_bgcolor": "white",
          "plot_bgcolor": "#E5ECF6",
          "polar": {
           "bgcolor": "#E5ECF6",
           "angularaxis": {
            "gridcolor": "white",
            "linecolor": "white",
            "ticks": ""
           },
           "radialaxis": {
            "gridcolor": "white",
            "linecolor": "white",
            "ticks": ""
           }
          },
          "ternary": {
           "bgcolor": "#E5ECF6",
           "aaxis": {
            "gridcolor": "white",
            "linecolor": "white",
            "ticks": ""
           },
           "baxis": {
            "gridcolor": "white",
            "linecolor": "white",
            "ticks": ""
           },
           "caxis": {
            "gridcolor": "white",
            "linecolor": "white",
            "ticks": ""
           }
          },
          "coloraxis": {
           "colorbar": {
            "outlinewidth": 0,
            "ticks": ""
           }
          },
          "colorscale": {
           "sequential": [
            [
             0.0,
             "#0d0887"
            ],
            [
             0.1111111111111111,
             "#46039f"
            ],
            [
             0.2222222222222222,
             "#7201a8"
            ],
            [
             0.3333333333333333,
             "#9c179e"
            ],
            [
             0.4444444444444444,
             "#bd3786"
            ],
            [
             0.5555555555555556,
             "#d8576b"
            ],
            [
             0.6666666666666666,
             "#ed7953"
            ],
            [
             0.7777777777777778,
             "#fb9f3a"
            ],
            [
             0.8888888888888888,
             "#fdca26"
            ],
            [
             1.0,
             "#f0f921"
            ]
           ],
           "sequentialminus": [
            [
             0.0,
             "#0d0887"
            ],
            [
             0.1111111111111111,
             "#46039f"
            ],
            [
             0.2222222222222222,
             "#7201a8"
            ],
            [
             0.3333333333333333,
             "#9c179e"
            ],
            [
             0.4444444444444444,
             "#bd3786"
            ],
            [
             0.5555555555555556,
             "#d8576b"
            ],
            [
             0.6666666666666666,
             "#ed7953"
            ],
            [
             0.7777777777777778,
             "#fb9f3a"
            ],
            [
             0.8888888888888888,
             "#fdca26"
            ],
            [
             1.0,
             "#f0f921"
            ]
           ],
           "diverging": [
            [
             0,
             "#8e0152"
            ],
            [
             0.1,
             "#c51b7d"
            ],
            [
             0.2,
             "#de77ae"
            ],
            [
             0.3,
             "#f1b6da"
            ],
            [
             0.4,
             "#fde0ef"
            ],
            [
             0.5,
             "#f7f7f7"
            ],
            [
             0.6,
             "#e6f5d0"
            ],
            [
             0.7,
             "#b8e186"
            ],
            [
             0.8,
             "#7fbc41"
            ],
            [
             0.9,
             "#4d9221"
            ],
            [
             1,
             "#276419"
            ]
           ]
          },
          "xaxis": {
           "gridcolor": "white",
           "linecolor": "white",
           "ticks": "",
           "title": {
            "standoff": 15
           },
           "zerolinecolor": "white",
           "automargin": true,
           "zerolinewidth": 2
          },
          "yaxis": {
           "gridcolor": "white",
           "linecolor": "white",
           "ticks": "",
           "title": {
            "standoff": 15
           },
           "zerolinecolor": "white",
           "automargin": true,
           "zerolinewidth": 2
          },
          "scene": {
           "xaxis": {
            "backgroundcolor": "#E5ECF6",
            "gridcolor": "white",
            "linecolor": "white",
            "showbackground": true,
            "ticks": "",
            "zerolinecolor": "white",
            "gridwidth": 2
           },
           "yaxis": {
            "backgroundcolor": "#E5ECF6",
            "gridcolor": "white",
            "linecolor": "white",
            "showbackground": true,
            "ticks": "",
            "zerolinecolor": "white",
            "gridwidth": 2
           },
           "zaxis": {
            "backgroundcolor": "#E5ECF6",
            "gridcolor": "white",
            "linecolor": "white",
            "showbackground": true,
            "ticks": "",
            "zerolinecolor": "white",
            "gridwidth": 2
           }
          },
          "shapedefaults": {
           "line": {
            "color": "#2a3f5f"
           }
          },
          "annotationdefaults": {
           "arrowcolor": "#2a3f5f",
           "arrowhead": 0,
           "arrowwidth": 1
          },
          "geo": {
           "bgcolor": "white",
           "landcolor": "#E5ECF6",
           "subunitcolor": "white",
           "showland": true,
           "showlakes": true,
           "lakecolor": "white"
          },
          "title": {
           "x": 0.05
          },
          "mapbox": {
           "style": "light"
          }
         }
        },
        "xaxis": {
         "anchor": "y",
         "domain": [
          0.0,
          1.0
         ],
         "title": {
          "text": "Principal Component 1"
         }
        },
        "yaxis": {
         "anchor": "x",
         "domain": [
          0.0,
          1.0
         ],
         "title": {
          "text": "Principal Component 2"
         }
        },
        "coloraxis": {
         "colorbar": {
          "title": {
           "text": "Cluster"
          }
         },
         "colorscale": [
          [
           0.0,
           "#0d0887"
          ],
          [
           0.1111111111111111,
           "#46039f"
          ],
          [
           0.2222222222222222,
           "#7201a8"
          ],
          [
           0.3333333333333333,
           "#9c179e"
          ],
          [
           0.4444444444444444,
           "#bd3786"
          ],
          [
           0.5555555555555556,
           "#d8576b"
          ],
          [
           0.6666666666666666,
           "#ed7953"
          ],
          [
           0.7777777777777778,
           "#fb9f3a"
          ],
          [
           0.8888888888888888,
           "#fdca26"
          ],
          [
           1.0,
           "#f0f921"
          ]
         ]
        },
        "legend": {
         "tracegroupgap": 0
        },
        "title": {
         "text": "Penguin Clusters (PCA Reduced)"
        }
       },
       "config": {
        "plotlyServerURL": "https://plot.ly"
       }
      },
      "text/html": "<div>                            <div id=\"49efa86c-f47b-4b97-8376-aee200de4e49\" class=\"plotly-graph-div\" style=\"height:525px; width:100%;\"></div>            <script type=\"text/javascript\">                require([\"plotly\"], function(Plotly) {                    window.PLOTLYENV=window.PLOTLYENV || {};                                    if (document.getElementById(\"49efa86c-f47b-4b97-8376-aee200de4e49\")) {                    Plotly.newPlot(                        \"49efa86c-f47b-4b97-8376-aee200de4e49\",                        [{\"customdata\":[[1.0868383915141189],[0.1260346940390256],[0.10414594750186891],[0.5852787543480561],[1.1368312202433977],[0.3370138202358811],[0.045524589757612484],[0.36287289017153734],[1.2212330537858709],[0.30859257728579964],[0.38842258666327745],[0.49810996340782443],[0.901072827397026],[0.8908035781751281],[0.973900808649546],[1.3532621275873082],[0.5557870163137365],[0.87237120119758],[1.1039796168737075],[0.5479024775295994],[1.0036264626592204],[0.27989951577719174],[1.2859211483284116],[0.8873351810998765],[0.5347445673557669],[1.2266367763034502],[0.22077738070925593],[0.7299467288521612],[0.3779093517275325],[0.7765556716168067],[0.8278452831198612],[0.5014921771868919],[1.0552805460947479],[0.3351761247779824],[0.8511603421727205],[0.4014699500935547],[0.866269786231003],[0.32280184593607236],[0.6915758079441485],[0.20181084497840523],[1.1328834783356245],[0.350388797327952],[0.8681744677030618],[0.13877841505636923],[0.3783728874744303],[0.4393443723785865],[0.037587938666407326],[1.0085390578333333],[0.5430779744464024],[0.12669644557556523],[0.48630231779938243],[0.9628989209067963],[0.7696600651090513],[0.7150060046998526],[0.6592962989708278],[0.2966737943797995],[0.40740323077476737],[0.8816151961371259],[0.45649360291802754],[0.6709377795300865],[0.4436127066148202],[0.6511223190055676],[0.21224480888934105],[0.6884443944217248],[0.6076577140530772],[0.4349639309230052],[0.3878529097520982],[0.23640899359674905],[0.29618045900481665],[0.5285438655830107],[1.1231773330360604],[0.6194042432977118],[0.1575916622763387],[0.6510475062161634],[0.8650267568791582],[0.4500620696589148],[0.7506848219307134],[0.253575201484065],[0.8196605569938124],[1.0472411161455717],[0.4555025765500397],[0.7679748256480332],[0.38724607122661087],[0.1904636621783884],[0.7318031218675947],[0.707780065277326],[0.4598171727875622],[0.5065038724675651],[0.5656972717088787],[0.2930345507548333],[0.32287416084519105],[1.3399937020555923],[0.2020779452724803],[0.1802393350835306],[0.46863604769014044],[0.7301178617952353],[0.7052619082559282],[0.5812009953250942],[1.0775391413737967],[0.6102259060410979],[0.9080586096949974],[0.6128776133769761],[0.5812903684195039],[0.8067388673957263],[0.5494002734143331],[0.057370104947907556],[0.09927769229388893],[1.0365121481029127],[0.341727400861138],[0.5145226020018684],[0.8095728694668185],[0.4842874851479374],[0.888568110690777],[0.6022529483643864],[0.8600039143034564],[0.41682162039310056],[0.3548390374822712],[0.895171831229068],[0.19757746806893167],[0.15636103219436095],[0.36541962860943467],[0.3105290455529472],[0.9408622644938496],[0.22305548043327653],[0.34217740088039855],[0.2780237003246637],[0.4204365350950976],[0.2626921848765799],[0.6430532183323319],[0.5099981355503966],[0.3378606027170292],[0.5192746478389854],[0.5183379549183739],[0.3052453216040326],[0.9583164066123251],[1.165847025652644],[0.8448307650984173],[0.49574292403153974],[1.0133509614309673],[0.43453657901631854],[0.6322393434415415],[0.17266855058843064],[0.7998674217056897],[0.3219780773355079],[0.3574355323698098],[0.7178840438270816],[0.5333171470718849],[0.3992219766094269],[0.6161912830479852],[0.7187001061915081],[1.132820710994951],[0.48396007106606986],[0.7033706346502476],[1.187840573672135],[0.6248779765457598],[0.967731925380315],[0.7003747648816638],[0.6783146017262365],[1.1468340621261122],[0.7146859625301769],[0.831841507865688],[0.453199169191114],[1.5249279902780062],[0.6719636175112554],[0.8933176876384444],[0.05092460038236333],[0.4048234251888095],[0.25417417930608266],[0.4423619510036446],[0.7082218218925039],[0.9234625817880651],[1.2778789952632166],[0.5728861471451706],[0.8097358399344803],[1.495718130404377],[0.3128382820560137],[1.360185148932489],[0.3091902564053733],[1.0554224592380408],[0.31022364898600474],[1.4887489280334536],[1.13974839172775],[1.74074320671655],[0.4034491288694187],[1.530174623647397],[0.9611530939299782],[0.6308943811874118],[0.38481842740100264],[0.8903029508251351],[1.3762091652886175],[1.2470711035749982],[0.9129857937857649],[1.267424414778963],[0.1710657764055392],[1.4113364882483936],[1.22954164140396],[0.8840212417084575],[0.8035437743284587],[0.915977348309791],[0.11799975736042485],[0.481518645921451],[0.5901890944336846],[0.7883442693434897],[0.7391119139024519],[0.8575155678507548],[1.0737736227084775],[0.9152243805039956],[0.9686579207733419],[1.4822055140095152],[0.7259890044930833],[0.42605871468825923],[1.2862980508774589],[1.4231419446333853],[0.3280301116931758],[0.46442117659961796],[0.06680956654915986],[0.18280839821768197],[0.5074308250014439],[0.20401877314536324],[0.147066460638957],[0.5159149206818304],[0.5207399649194673],[0.6870067441768727],[0.4381092967922775],[0.32203666662483893],[0.22515144720482538],[0.3296142914495488],[0.4956586601199796],[0.06937907270170225],[0.7500223863951508],[0.6188842056537169],[0.15141408571768683],[0.24456710985453156],[0.5154551257959461],[0.24050451408952567],[0.17739888289555575],[0.8474238763429891],[0.5430960543453924],[0.7672872313787752],[0.29409566924370006],[0.1310553861157946],[0.14623168951300097],[0.3423854583166555],[0.3711446262531362],[0.14403578909780407],[1.5538972988146067],[0.8676366491452797],[0.3514284151452563],[0.2666436229590404],[1.0302191981508504],[0.5064444100525797],[0.7021539628072633],[0.8887866929189588],[0.2644924913440043],[0.35631267870717914],[0.6416202563154964],[0.15247564361796487],[0.2901537792854328],[0.4060537448302267],[0.15190965890388652],[0.5116811274437775],[0.7707301153714909],[0.11387433054258032],[0.5711734752577097],[0.3707674312027993],[0.26990374570306613],[0.38216535558910963],[0.7364905514934912],[0.5657440446192953],[0.7224302542633563],[0.5932678099148502],[0.3178794097207676],[0.4906186856975955],[0.481925950116843],[0.1505318641782036],[0.9116952984772747],[0.2972979881790496],[0.46488787609687604],[0.45556104589568314],[0.1896685998665354],[0.38852583516835776],[0.3839099980199378],[0.6180908114453233],[0.38741800146755656],[0.5586768427953867],[0.2745376172450033],[0.43589564114513896],[0.07933532692895004],[0.4381280266540556],[0.2505951316321638],[0.14288803923370685],[0.2792375362691764],[0.2390943706947191],[0.2118276590853029],[0.05723362411675078],[0.16365143545813146],[0.5635523265147201],[0.07835983030733479],[0.45529852501323415],[0.31065933976356785],[0.6024762605404904],[0.5251365123935137],[0.5389989918105526],[0.09868802711500405],[0.19228879223097806],[0.11963572967064388],[0.09917347691480029],[0.6293459923730527],[0.5710070126379807],[0.301198010747433],[0.2781562683520492],[0.583275356485815],[0.8968644470245896],[0.5234201178486128],[0.46606881651866366],[0.5510124377174264],[0.5033714613804406],[0.2865365344804689],[0.4321004336600165],[0.5314888039832432],[0.7733317671453757],[0.618713468787704],[0.42760412554648913],[0.4698998046468379],[0.08185571932325875],[1.0488738645619873],[0.2856194550387248],[0.467078379928926],[0.308664678059694],[0.2848984226504646],[0.29149428844422387],[0.47298273106962824]],\"hovertemplate\":\"distance_to_centroid=%{customdata[0]}\\u003cbr\\u003eCluster=%{marker.color}\\u003cextra\\u003e\\u003c\\u002fextra\\u003e\",\"legendgroup\":\"\",\"marker\":{\"color\":[2,0,0,0,2,0,2,0,2,0,0,2,0,2,0,2,0,2,2,0,2,0,0,2,0,2,0,2,0,2,2,0,0,2,0,2,0,2,0,2,2,0,2,0,2,0,2,0,2,0,2,0,2,0,2,0,2,0,2,0,2,0,2,0,2,0,2,0,2,0,2,0,2,0,2,0,2,0,2,2,0,2,0,0,2,0,2,0,2,0,2,0,2,0,2,0,2,0,2,0,2,0,2,0,2,0,2,0,2,0,2,0,2,0,2,0,2,0,2,0,2,0,2,0,2,0,2,0,2,0,2,0,2,0,2,0,2,0,2,2,0,0,2,0,2,0,2,2,0,2,0,0,2,0,2,0,2,0,2,0,2,2,0,0,2,0,2,0,2,0,2,0,2,0,2,0,2,0,2,2,0,0,2,0,2,2,0,2,0,0,2,0,2,2,0,0,2,0,2,0,2,0,2,2,0,2,0,0,2,0,2,2,0,3,1,3,1,1,3,3,1,3,1,3,1,3,1,3,1,3,1,3,1,1,3,3,1,3,1,1,3,1,1,3,3,1,3,1,3,1,3,1,3,1,3,1,1,3,3,1,3,1,3,1,3,1,3,1,3,1,3,1,3,1,3,1,3,1,1,3,1,3,1,1,3,3,1,3,1,3,1,3,1,3,1,3,1,3,1,3,1,3,1,3,1,3,1,1,3,3,1,3,1,3,1,1,3,1,3,1,3,1,3,1,3,1,1,3,3,1,3,1],\"coloraxis\":\"coloraxis\",\"symbol\":\"circle\"},\"mode\":\"markers\",\"name\":\"\",\"orientation\":\"v\",\"showlegend\":false,\"x\":[-1.5696844528142364,-1.537253238641174,-1.587616024947255,-2.055548624548147,-1.5806530099073977,-1.9772828006287653,-0.5133593164014059,-2.0091688005216075,-1.5979286809289162,-1.9601424991394607,-1.7546420422389517,-0.45902298068871583,-2.546752033250428,-0.6241239603137435,-2.5914961824977922,-1.8320728302794695,-2.0263619515239513,-1.246239067229535,-1.3475913142852678,-2.1070477142366837,-1.482750263515994,-1.9097833090487066,-2.886241607134015,-1.387042094726602,-2.119406998605425,-1.646997287445331,-1.8687449332756645,-1.2267050320165707,-1.6982585670386972,-1.088048329550758,-1.3151758625013927,-1.9071252189641246,-2.5648323608048447,-0.8373883538843928,-2.5017856802393603,-0.7085427951995344,-2.5023209276157976,-0.26333035408380184,-2.2562452782438025,-0.5969338447433623,-1.6341321223041174,-1.9991474160591403,-1.042692816197528,-1.7860307645051077,-0.8583672952079859,-2.0840663144738314,-0.48811465160265555,-2.659677054939608,-0.9899076090980523,-1.7687702771490486,-0.9423518322640865,-2.512141873085659,-1.2420086119297513,-2.263338728784173,-0.7777509161679605,-1.8089785299027272,-0.6665902945288988,-2.4844766575825763,-0.6592201363154064,-1.622356240290937,-0.9449613405968973,-2.063551168362776,-0.2931413291582033,-2.2939232080262832,-1.0029575948853577,-1.2651437343329592,-0.11582347106957942,-1.8018820950580097,-0.31455811807577044,-1.1848958192141998,-1.6253502576641738,-1.7298955461871621,-0.6475042377798288,-2.2121797830049754,0.19603946897165697,-1.971272196153467,-1.235270488964177,-1.9005303971306116,-1.2682122346254883,-1.5463289244236023,-2.04671092609082,-1.2627236315734764,-1.8015830359816516,-1.490235106855853,0.045077724488754,-2.2693104476965686,-0.7428147491672761,-2.104732798816832,0.005091979400950897,-1.7668726225089544,-0.4177871502274143,-2.802589527240585,-0.5044940829664188,-1.8142793280042995,-0.0720214163785212,-2.0735515525021766,-1.1934925261186289,-2.1969764352275205,-1.5696436507112306,-1.0917254026915493,-1.4005609073497827,-2.2200087891355063,0.076919655244272,-1.004511673366919,-0.3005555565090206,-1.7027354934595647,-0.4367816026794239,-1.816228915758315,-0.36958905532452324,-2.0855291058242993,-1.2857102613617968,-1.9816897567447889,-1.3540376766911437,-2.19114485591291,-1.3631054640609752,-2.053297731996651,-0.410291753351628,-2.1655741842782454,-0.5971903159554854,-1.7910244876026402,-0.35674085960999474,-1.8445470825045467,0.31112525666768565,-1.8729344345213514,-0.8434098530916789,-1.877510546485909,-0.4488733944318116,-1.9079698082379268,-0.7320695943809472,-2.114743313826154,-0.7939535892643591,-1.9132193906365986,-0.5568739459172825,-1.4212068592380207,-1.1371507688345377,-2.2808649235813268,-0.8021098225320926,-1.9324749324152175,-1.486240545111132,-0.8381592241009715,-2.256629339339379,-1.7812543443268278,-1.0963350315062539,-1.8124688114978655,-0.355916401297152,-0.9926636723334404,-0.07286779082758313,-0.204576977836214,-1.364773299254738,0.025428885971553225,-0.5350610140581115,-1.812278173608201,0.19398424593316038,-0.6357731423149946,-0.0873626827255193,-0.7204796851059345,-0.2301040150146069,-0.992540654113425,0.6377219790672791,-0.9372535748335634,0.2570077269055035,-0.5048410901253997,-0.3036812822087981,-1.2342142946648957,0.38289113008493003,-1.6128382075638874,-0.4078060018220577,-1.667546734192055,-0.19449720993306846,-0.9928123089910069,0.39378463879885717,-0.4846943734996117,0.0610538590228962,-0.8867324809598901,0.8899052191881853,-1.6562579657483907,0.5407074564059502,-1.4339756711888056,0.5494149689054846,-0.19314495471153537,-0.16508984819147238,-0.6051707778330483,1.0769192187654306,-1.290077621826338,0.9318038025815436,0.43945824856035853,-1.0482859946781868,-0.16992048164079532,-0.7647778188805582,-0.33769933986655254,0.7437327061556596,-0.8362246542115684,0.7440067334266053,-0.6198223567522324,-0.2493741617349527,-0.44256988462718216,0.36590168569546977,-0.8501962153642136,0.3375040508576586,-1.5353100330047014,-0.03752534210696764,-1.095869787621911,0.18483947247179208,0.23467681309034413,-1.2248081279747476,0.5249198448192328,-0.7480424480310149,-0.6846937240848248,0.8800708758140892,-0.9480578769226381,-0.09396423761575702,0.7800586846187764,-0.38298603500701317,1.2196439619494348,3.074022825363633,1.2137970470182804,2.7773928612615832,2.3646062855296153,1.1971772439210064,1.1303561236195163,2.176135180480627,0.7988239096119834,1.9725010950761395,0.9175239129363191,2.356769698152455,1.308150845643899,2.645154091583036,0.7109184111045499,2.6966046459708477,0.539572554658289,3.2432646189825385,1.1347786980820536,2.6036546221718333,2.9463781836683647,1.4203075467397923,1.0455879303535847,1.7936179930590455,1.4699328144645607,1.929291341294228,2.469313292697186,1.2408605946043638,2.737604288132071,2.3821226321868147,0.8278542127808989,1.1331348342519068,4.012056768623156,2.013621088319,2.329542330243345,1.2282874727528168,1.6774742138734273,0.7498545098114604,1.9395090283528804,0.3471012351731062,2.8897184354760412,0.8893279162201991,2.0425614077371987,2.759130980095387,1.4057977539063649,0.8036661636986875,2.776432269554457,1.5944582977159312,1.8723757338007647,1.294047946441386,2.640726135143946,0.8229881260178682,2.6189966065158172,1.5676172577957228,1.9517836777602073,0.6477698434209983,2.027365662378574,0.5987852599550162,2.9323750566416784,0.7231698397465327,2.350500988654895,1.11918797572366,3.5462755468490577,1.4846189308842996,2.972593744167448,3.077119045772156,1.3295062668164424,2.9683171047881016,1.4246836543927972,2.0426591114218335,2.2643805401674295,1.706663251382581,1.2798553806541224,3.074670960090164,1.1581056237307965,2.9720278255579218,1.374854329701927,2.5402859656668166,1.3811279400439405,2.8705677439476336,1.288744164035468,2.659338312261603,1.2287762533197215,2.823798324897877,1.1379672401986574,2.7812083858305674,1.50187153309156,3.0308279725172134,1.6258363024800278,2.83872808008544,1.1615041702499915,2.789702977246414,1.192076167401019,2.7381520387717933,2.010983115931582,1.751593855086177,0.9767665508829119,2.622748129388649,1.6820885915814994,3.30755188772075,1.4125297774843641,2.999017172954683,2.0953136135546258,0.6901989252974253,2.8672487331432666,0.7778067158086704,2.1333939708046215,1.800846978346513,3.256563013603238,0.8447763419888454,3.0636663497873666,1.2312548582837173,3.661077505585234,2.874005024078647,1.6418983548465422,1.495146677251338,2.9221520340575196,1.3952646720138189,2.209293182469152],\"xaxis\":\"x\",\"y\":[1.1959035643306861,-0.7132486022490366,-0.5785675192860544,-0.23691914189584876,1.7689719467717513,-0.5733223783546437,1.4503673439945413,-0.5978238385768638,1.947514507210474,-0.6722296241426472,-0.28605697118555456,1.9020941432499987,-0.5560276647280726,2.2885362001064458,-0.40488406355587553,1.14947784622041,-0.25002502567282736,0.9486521871492039,0.6946171757849234,-0.355784049100091,1.1868289027629388,-0.5521089662947819,-0.3005116457475792,1.3257644653116003,-0.9199663824424432,0.9624712044208718,-0.619816708390215,1.3081702525558374,-1.0356478763847021,1.9169905299159715,1.5679701684623086,-0.2289986129382135,-0.13152300363936506,1.378508379146137,-0.6165042225681584,1.0608953199746591,-0.4963396255308208,1.6218233404632396,-0.9965930250017544,1.227164869943302,1.3371831013488797,-0.7064391523388772,2.08627075325557,-0.6254924094800394,1.275114390184306,-0.7389820243224803,1.440326458740762,-0.6962737715414313,1.1647459198983883,-0.7092160019721434,1.1967776206917284,-1.0929658903089368,1.1897587847035787,-1.0310354929922532,2.0054335719834655,-0.9122047605431834,1.0326951940914448,-0.9501654876938108,0.9769054951931193,-1.3309017482305967,1.3639918658816672,-1.1649853736760887,1.4353722501734365,-0.41242879863734416,1.0600860020674574,-0.8598943980785102,1.3897673806080877,-0.8432430613463779,1.1777381625632992,-0.9083754732995544,1.35480902079485,-1.2750663166005445,1.3423095830218146,-0.9919733999176245,0.8968993680302446,-0.3436335072387146,1.239217406511083,-0.7097826429896035,1.700596803913353,1.3117023283367726,-0.43366555835960546,1.2914204694001095,-0.3035162477572251,-0.7615211770189259,0.9214227705083725,-1.0064339748860653,1.013425524965246,-0.8872580122594957,1.1579430354737832,-0.39112732611665435,1.0946255914081293,-1.3470452563372786,1.2038847505334125,-0.7385611739207123,1.5892229717174777,-1.2565715555502526,1.5511538276550751,-0.45925547748385426,1.2507711864697493,-0.9029456207093901,1.5458233567427515,-0.8902223040314305,1.3713289989838267,-1.1421542080618272,1.9165667173249974,-0.6869476312427149,1.479622636284617,0.3627728249504184,1.0914935394257674,-0.9373498327359673,1.6140513309177944,-1.015131932978813,1.1493200308427496,-0.9285307567633501,1.385783708644835,-0.7724784446794304,1.0635370000311268,-1.393641463454483,1.232095523110932,-0.7317189256396286,1.0712345596826733,-0.9040526442035288,0.9349275350923809,-0.6316346937033572,1.3680559121172313,-0.4983195974934441,0.9890655664126718,-0.7186453974201567,0.8049607126034841,-0.8745077719616173,1.5782745298701968,-1.1092622324292687,0.8903935224300223,-0.8606487146273444,0.6871742921296755,-1.6421574187762316,0.6157223593788174,-1.0692226201070072,1.1594168270537277,1.128981143612759,-0.4765700807759609,-0.7748364725293065,0.8691701381985648,-0.9396168362523939,1.0803415768079268,-0.3761130444915551,1.72079644204121,1.6707610009907696,-0.11533355506366236,1.8927192550361096,-0.47022386975106595,-0.20404124361563356,1.3139181158730637,-0.04520824520939225,1.8722606006550837,-0.39753927328744504,2.050837570925102,-0.5008311500915192,1.291024905502479,-0.6449878297030684,1.7433527812621044,1.859156067606942,0.05217810932626576,-0.1341269312997245,1.2936473720995374,-0.6277802652550741,1.0125695117332436,-0.9142929690191152,1.7226632140217695,-0.40108152897727134,1.624942665822096,-0.14011688507720801,1.5042451613924663,-0.39529488823305137,1.950059914761206,-0.9734150434050323,2.277780597236433,-0.8800737037274146,1.480974337948047,1.4016193072836947,-0.7390887101298126,-0.20932305470600845,2.1360095709562184,-0.8393565380721255,1.9368093577046646,1.5929087030176705,-0.47666271488636386,1.5980994914580142,-0.7373314997359847,-0.2517408709306288,1.4065800830199895,-0.2502057458994698,1.6306706651292,1.531238882103701,-0.5019900401165078,-0.8833434206903685,1.5669423154945448,-0.6043596067686111,1.7692756980645885,-0.679616830233402,1.5279370429759493,-0.8588498783659534,1.7905346351188813,1.446211077439747,0.0830559622130247,1.7152733047899282,-0.8052269173627935,-0.7159620914961269,1.9380424625474286,-0.48214056221933854,1.2878960507854456,1.4923017435979973,-0.01599800944491562,-2.039907728577616,0.5081349831296564,-1.650234471453673,0.22460153411672779,-0.08210153746511314,-1.9170434862528214,-1.579228502970407,0.11741108193760505,-2.0554558528492524,0.17944403254204744,-2.0552127074906803,0.4988758432958629,-1.905515496366106,0.01492717231189745,-1.5906668482747535,0.38372975214968613,-2.0844551184141946,0.20902759411772862,-1.5726085477892886,0.10254842889680148,-0.06957520172756916,-1.6399067623833854,-1.6118046674491762,0.29156833515413094,-2.179233785566673,0.05381449687712442,0.1045598741569255,-1.591823684025952,0.2361526109343076,0.11856518889230473,-1.7887249263393352,-1.5813051278143722,1.0727605262876905,-1.4366314133885436,0.510315539329044,-1.9771657256872328,0.713373143218086,-1.961480404903836,0.4009712579601449,-1.991345367802011,0.42987723886397033,-1.9023814174487825,0.10895988194334921,0.43888578391021615,-1.9084152574214963,-1.8342960622795146,0.4100298135571744,-2.0280917701994357,0.2688766186191428,-1.6641963154684107,-0.22668088667609648,-1.6697814623770326,0.07535864628755537,-1.6469935340907043,0.08063684463801125,-1.870381631082945,-0.039350723562257155,-1.6815872151909104,0.2211794867079395,-1.8602189790819992,-0.04125122916798594,-1.845293406785023,0.4379938023807895,-1.7610719929380487,0.6686738033112788,0.47069381353592793,-1.8429181667552876,0.13771147981096674,-1.4083509115496016,0.18339716646204493,0.24721651309132073,-1.4976290872516598,-1.4532777336576808,0.3675887026643959,-1.641015605075191,0.6296343560375123,-1.8836242702416803,0.4474270969556709,-1.508400733654579,0.4054984823265783,-1.525071960052246,0.3981348572909301,-1.8723944270719048,0.8770170293243398,-1.7706005366711959,-0.08815622969643477,-1.7144112807597127,0.8024781011167182,-1.4183702683386468,0.8452737381524672,-1.6190023514720622,0.4644089103068364,-1.593479225075443,0.3354917949483855,0.3789009487248605,-1.603455813005385,-1.5016121086641998,0.6221491446531631,-1.398067141668786,0.942757239693709,-1.23878248632583,0.048033954833045414,0.4316580046574934,-1.6644722591979073,0.5182222499824579,-1.8388276012474059,0.18185435860920385,-1.2373064695172014,0.388091503972188,-1.4624614883433305,0.546464936987481,-1.784506261991439,0.5817384590872104,0.5073811350496513,-1.8357766270823088,-1.6592661034307827,0.37929689299809816,-1.5049469795555823,0.5412938672577774],\"yaxis\":\"y\",\"type\":\"scatter\"},{\"marker\":{\"color\":\"red\",\"size\":12,\"symbol\":\"x\"},\"mode\":\"markers\",\"name\":\"Centroid 0\",\"x\":[-1.6517687985625835],\"y\":[-0.6606089723358539],\"type\":\"scatter\"},{\"marker\":{\"color\":\"red\",\"size\":12,\"symbol\":\"x\"},\"mode\":\"markers\",\"name\":\"Centroid 1\",\"x\":[2.6393877108783705],\"y\":[0.34449102042233104],\"type\":\"scatter\"},{\"marker\":{\"color\":\"red\",\"size\":12,\"symbol\":\"x\"},\"mode\":\"markers\",\"name\":\"Centroid 2\",\"x\":[-0.5033382429535707],\"y\":[1.4059593902074998],\"type\":\"scatter\"},{\"marker\":{\"color\":\"red\",\"size\":12,\"symbol\":\"x\"},\"mode\":\"markers\",\"name\":\"Centroid 3\",\"x\":[1.1912149109602475],\"y\":[-1.7131118546175985],\"type\":\"scatter\"}],                        {\"template\":{\"data\":{\"histogram2dcontour\":[{\"type\":\"histogram2dcontour\",\"colorbar\":{\"outlinewidth\":0,\"ticks\":\"\"},\"colorscale\":[[0.0,\"#0d0887\"],[0.1111111111111111,\"#46039f\"],[0.2222222222222222,\"#7201a8\"],[0.3333333333333333,\"#9c179e\"],[0.4444444444444444,\"#bd3786\"],[0.5555555555555556,\"#d8576b\"],[0.6666666666666666,\"#ed7953\"],[0.7777777777777778,\"#fb9f3a\"],[0.8888888888888888,\"#fdca26\"],[1.0,\"#f0f921\"]]}],\"choropleth\":[{\"type\":\"choropleth\",\"colorbar\":{\"outlinewidth\":0,\"ticks\":\"\"}}],\"histogram2d\":[{\"type\":\"histogram2d\",\"colorbar\":{\"outlinewidth\":0,\"ticks\":\"\"},\"colorscale\":[[0.0,\"#0d0887\"],[0.1111111111111111,\"#46039f\"],[0.2222222222222222,\"#7201a8\"],[0.3333333333333333,\"#9c179e\"],[0.4444444444444444,\"#bd3786\"],[0.5555555555555556,\"#d8576b\"],[0.6666666666666666,\"#ed7953\"],[0.7777777777777778,\"#fb9f3a\"],[0.8888888888888888,\"#fdca26\"],[1.0,\"#f0f921\"]]}],\"heatmap\":[{\"type\":\"heatmap\",\"colorbar\":{\"outlinewidth\":0,\"ticks\":\"\"},\"colorscale\":[[0.0,\"#0d0887\"],[0.1111111111111111,\"#46039f\"],[0.2222222222222222,\"#7201a8\"],[0.3333333333333333,\"#9c179e\"],[0.4444444444444444,\"#bd3786\"],[0.5555555555555556,\"#d8576b\"],[0.6666666666666666,\"#ed7953\"],[0.7777777777777778,\"#fb9f3a\"],[0.8888888888888888,\"#fdca26\"],[1.0,\"#f0f921\"]]}],\"heatmapgl\":[{\"type\":\"heatmapgl\",\"colorbar\":{\"outlinewidth\":0,\"ticks\":\"\"},\"colorscale\":[[0.0,\"#0d0887\"],[0.1111111111111111,\"#46039f\"],[0.2222222222222222,\"#7201a8\"],[0.3333333333333333,\"#9c179e\"],[0.4444444444444444,\"#bd3786\"],[0.5555555555555556,\"#d8576b\"],[0.6666666666666666,\"#ed7953\"],[0.7777777777777778,\"#fb9f3a\"],[0.8888888888888888,\"#fdca26\"],[1.0,\"#f0f921\"]]}],\"contourcarpet\":[{\"type\":\"contourcarpet\",\"colorbar\":{\"outlinewidth\":0,\"ticks\":\"\"}}],\"contour\":[{\"type\":\"contour\",\"colorbar\":{\"outlinewidth\":0,\"ticks\":\"\"},\"colorscale\":[[0.0,\"#0d0887\"],[0.1111111111111111,\"#46039f\"],[0.2222222222222222,\"#7201a8\"],[0.3333333333333333,\"#9c179e\"],[0.4444444444444444,\"#bd3786\"],[0.5555555555555556,\"#d8576b\"],[0.6666666666666666,\"#ed7953\"],[0.7777777777777778,\"#fb9f3a\"],[0.8888888888888888,\"#fdca26\"],[1.0,\"#f0f921\"]]}],\"surface\":[{\"type\":\"surface\",\"colorbar\":{\"outlinewidth\":0,\"ticks\":\"\"},\"colorscale\":[[0.0,\"#0d0887\"],[0.1111111111111111,\"#46039f\"],[0.2222222222222222,\"#7201a8\"],[0.3333333333333333,\"#9c179e\"],[0.4444444444444444,\"#bd3786\"],[0.5555555555555556,\"#d8576b\"],[0.6666666666666666,\"#ed7953\"],[0.7777777777777778,\"#fb9f3a\"],[0.8888888888888888,\"#fdca26\"],[1.0,\"#f0f921\"]]}],\"mesh3d\":[{\"type\":\"mesh3d\",\"colorbar\":{\"outlinewidth\":0,\"ticks\":\"\"}}],\"scatter\":[{\"fillpattern\":{\"fillmode\":\"overlay\",\"size\":10,\"solidity\":0.2},\"type\":\"scatter\"}],\"parcoords\":[{\"type\":\"parcoords\",\"line\":{\"colorbar\":{\"outlinewidth\":0,\"ticks\":\"\"}}}],\"scatterpolargl\":[{\"type\":\"scatterpolargl\",\"marker\":{\"colorbar\":{\"outlinewidth\":0,\"ticks\":\"\"}}}],\"bar\":[{\"error_x\":{\"color\":\"#2a3f5f\"},\"error_y\":{\"color\":\"#2a3f5f\"},\"marker\":{\"line\":{\"color\":\"#E5ECF6\",\"width\":0.5},\"pattern\":{\"fillmode\":\"overlay\",\"size\":10,\"solidity\":0.2}},\"type\":\"bar\"}],\"scattergeo\":[{\"type\":\"scattergeo\",\"marker\":{\"colorbar\":{\"outlinewidth\":0,\"ticks\":\"\"}}}],\"scatterpolar\":[{\"type\":\"scatterpolar\",\"marker\":{\"colorbar\":{\"outlinewidth\":0,\"ticks\":\"\"}}}],\"histogram\":[{\"marker\":{\"pattern\":{\"fillmode\":\"overlay\",\"size\":10,\"solidity\":0.2}},\"type\":\"histogram\"}],\"scattergl\":[{\"type\":\"scattergl\",\"marker\":{\"colorbar\":{\"outlinewidth\":0,\"ticks\":\"\"}}}],\"scatter3d\":[{\"type\":\"scatter3d\",\"line\":{\"colorbar\":{\"outlinewidth\":0,\"ticks\":\"\"}},\"marker\":{\"colorbar\":{\"outlinewidth\":0,\"ticks\":\"\"}}}],\"scattermapbox\":[{\"type\":\"scattermapbox\",\"marker\":{\"colorbar\":{\"outlinewidth\":0,\"ticks\":\"\"}}}],\"scatterternary\":[{\"type\":\"scatterternary\",\"marker\":{\"colorbar\":{\"outlinewidth\":0,\"ticks\":\"\"}}}],\"scattercarpet\":[{\"type\":\"scattercarpet\",\"marker\":{\"colorbar\":{\"outlinewidth\":0,\"ticks\":\"\"}}}],\"carpet\":[{\"aaxis\":{\"endlinecolor\":\"#2a3f5f\",\"gridcolor\":\"white\",\"linecolor\":\"white\",\"minorgridcolor\":\"white\",\"startlinecolor\":\"#2a3f5f\"},\"baxis\":{\"endlinecolor\":\"#2a3f5f\",\"gridcolor\":\"white\",\"linecolor\":\"white\",\"minorgridcolor\":\"white\",\"startlinecolor\":\"#2a3f5f\"},\"type\":\"carpet\"}],\"table\":[{\"cells\":{\"fill\":{\"color\":\"#EBF0F8\"},\"line\":{\"color\":\"white\"}},\"header\":{\"fill\":{\"color\":\"#C8D4E3\"},\"line\":{\"color\":\"white\"}},\"type\":\"table\"}],\"barpolar\":[{\"marker\":{\"line\":{\"color\":\"#E5ECF6\",\"width\":0.5},\"pattern\":{\"fillmode\":\"overlay\",\"size\":10,\"solidity\":0.2}},\"type\":\"barpolar\"}],\"pie\":[{\"automargin\":true,\"type\":\"pie\"}]},\"layout\":{\"autotypenumbers\":\"strict\",\"colorway\":[\"#636efa\",\"#EF553B\",\"#00cc96\",\"#ab63fa\",\"#FFA15A\",\"#19d3f3\",\"#FF6692\",\"#B6E880\",\"#FF97FF\",\"#FECB52\"],\"font\":{\"color\":\"#2a3f5f\"},\"hovermode\":\"closest\",\"hoverlabel\":{\"align\":\"left\"},\"paper_bgcolor\":\"white\",\"plot_bgcolor\":\"#E5ECF6\",\"polar\":{\"bgcolor\":\"#E5ECF6\",\"angularaxis\":{\"gridcolor\":\"white\",\"linecolor\":\"white\",\"ticks\":\"\"},\"radialaxis\":{\"gridcolor\":\"white\",\"linecolor\":\"white\",\"ticks\":\"\"}},\"ternary\":{\"bgcolor\":\"#E5ECF6\",\"aaxis\":{\"gridcolor\":\"white\",\"linecolor\":\"white\",\"ticks\":\"\"},\"baxis\":{\"gridcolor\":\"white\",\"linecolor\":\"white\",\"ticks\":\"\"},\"caxis\":{\"gridcolor\":\"white\",\"linecolor\":\"white\",\"ticks\":\"\"}},\"coloraxis\":{\"colorbar\":{\"outlinewidth\":0,\"ticks\":\"\"}},\"colorscale\":{\"sequential\":[[0.0,\"#0d0887\"],[0.1111111111111111,\"#46039f\"],[0.2222222222222222,\"#7201a8\"],[0.3333333333333333,\"#9c179e\"],[0.4444444444444444,\"#bd3786\"],[0.5555555555555556,\"#d8576b\"],[0.6666666666666666,\"#ed7953\"],[0.7777777777777778,\"#fb9f3a\"],[0.8888888888888888,\"#fdca26\"],[1.0,\"#f0f921\"]],\"sequentialminus\":[[0.0,\"#0d0887\"],[0.1111111111111111,\"#46039f\"],[0.2222222222222222,\"#7201a8\"],[0.3333333333333333,\"#9c179e\"],[0.4444444444444444,\"#bd3786\"],[0.5555555555555556,\"#d8576b\"],[0.6666666666666666,\"#ed7953\"],[0.7777777777777778,\"#fb9f3a\"],[0.8888888888888888,\"#fdca26\"],[1.0,\"#f0f921\"]],\"diverging\":[[0,\"#8e0152\"],[0.1,\"#c51b7d\"],[0.2,\"#de77ae\"],[0.3,\"#f1b6da\"],[0.4,\"#fde0ef\"],[0.5,\"#f7f7f7\"],[0.6,\"#e6f5d0\"],[0.7,\"#b8e186\"],[0.8,\"#7fbc41\"],[0.9,\"#4d9221\"],[1,\"#276419\"]]},\"xaxis\":{\"gridcolor\":\"white\",\"linecolor\":\"white\",\"ticks\":\"\",\"title\":{\"standoff\":15},\"zerolinecolor\":\"white\",\"automargin\":true,\"zerolinewidth\":2},\"yaxis\":{\"gridcolor\":\"white\",\"linecolor\":\"white\",\"ticks\":\"\",\"title\":{\"standoff\":15},\"zerolinecolor\":\"white\",\"automargin\":true,\"zerolinewidth\":2},\"scene\":{\"xaxis\":{\"backgroundcolor\":\"#E5ECF6\",\"gridcolor\":\"white\",\"linecolor\":\"white\",\"showbackground\":true,\"ticks\":\"\",\"zerolinecolor\":\"white\",\"gridwidth\":2},\"yaxis\":{\"backgroundcolor\":\"#E5ECF6\",\"gridcolor\":\"white\",\"linecolor\":\"white\",\"showbackground\":true,\"ticks\":\"\",\"zerolinecolor\":\"white\",\"gridwidth\":2},\"zaxis\":{\"backgroundcolor\":\"#E5ECF6\",\"gridcolor\":\"white\",\"linecolor\":\"white\",\"showbackground\":true,\"ticks\":\"\",\"zerolinecolor\":\"white\",\"gridwidth\":2}},\"shapedefaults\":{\"line\":{\"color\":\"#2a3f5f\"}},\"annotationdefaults\":{\"arrowcolor\":\"#2a3f5f\",\"arrowhead\":0,\"arrowwidth\":1},\"geo\":{\"bgcolor\":\"white\",\"landcolor\":\"#E5ECF6\",\"subunitcolor\":\"white\",\"showland\":true,\"showlakes\":true,\"lakecolor\":\"white\"},\"title\":{\"x\":0.05},\"mapbox\":{\"style\":\"light\"}}},\"xaxis\":{\"anchor\":\"y\",\"domain\":[0.0,1.0],\"title\":{\"text\":\"Principal Component 1\"}},\"yaxis\":{\"anchor\":\"x\",\"domain\":[0.0,1.0],\"title\":{\"text\":\"Principal Component 2\"}},\"coloraxis\":{\"colorbar\":{\"title\":{\"text\":\"Cluster\"}},\"colorscale\":[[0.0,\"#0d0887\"],[0.1111111111111111,\"#46039f\"],[0.2222222222222222,\"#7201a8\"],[0.3333333333333333,\"#9c179e\"],[0.4444444444444444,\"#bd3786\"],[0.5555555555555556,\"#d8576b\"],[0.6666666666666666,\"#ed7953\"],[0.7777777777777778,\"#fb9f3a\"],[0.8888888888888888,\"#fdca26\"],[1.0,\"#f0f921\"]]},\"legend\":{\"tracegroupgap\":0},\"title\":{\"text\":\"Penguin Clusters (PCA Reduced)\"}},                        {\"responsive\": true}                    ).then(function(){\n                            \nvar gd = document.getElementById('49efa86c-f47b-4b97-8376-aee200de4e49');\nvar x = new MutationObserver(function (mutations, observer) {{\n        var display = window.getComputedStyle(gd).display;\n        if (!display || display === 'none') {{\n            console.log([gd, 'removed!']);\n            Plotly.purge(gd);\n            observer.disconnect();\n        }}\n}});\n\n// Listen for the removal of the full notebook cells\nvar notebookContainer = gd.closest('#notebook-container');\nif (notebookContainer) {{\n    x.observe(notebookContainer, {childList: true});\n}}\n\n// Listen for the clearing of the current output cell\nvar outputEl = gd.closest('.output');\nif (outputEl) {{\n    x.observe(outputEl, {childList: true});\n}}\n\n                        })                };                });            </script>        </div>"
     },
     "metadata": {},
     "output_type": "display_data"
    }
   ],
   "source": [
    "# Apply PCA to reduce dimensions to 2\n",
    "pca = PCA(n_components=2)\n",
    "pg_pca = pca.fit_transform(pg_scaled)\n",
    "\n",
    "# Calculate the centroids in the PCA space\n",
    "centroids = pca.transform(model.cluster_centers_)\n",
    "\n",
    "# Calculate the distance from each point to its cluster centroid\n",
    "distances = np.linalg.norm(pg_pca - centroids[labels], axis=1)\n",
    "\n",
    "# Create a DataFrame with the PCA results and additional details\n",
    "pg_pca_df = pd.DataFrame(data=pg_pca, columns=['PC1', 'PC2'])\n",
    "pg_pca_df['label'] = labels\n",
    "pg_pca_df['distance_to_centroid'] = distances\n",
    "\n",
    "# Plotting the clusters and centroids using Plotly\n",
    "fig = px.scatter(pg_pca_df, x='PC1', y='PC2', color='label',\n",
    "                 hover_data={'distance_to_centroid': True, 'PC1': False, 'PC2': False},\n",
    "                 title='Penguin Clusters (PCA Reduced)',\n",
    "                 labels={'label': 'Cluster', 'PC1': 'Principal Component 1', 'PC2': 'Principal Component 2'})\n",
    "\n",
    "# Add centroids to the plot\n",
    "for i, centroid in enumerate(centroids):\n",
    "    fig.add_scatter(x=[centroid[0]], y=[centroid[1]], mode='markers', marker=dict(color='red', size=12, symbol='x'),\n",
    "                    name=f'Centroid {i}')\n",
    "\n",
    "# Show plot\n",
    "fig.show()"
   ],
   "metadata": {
    "collapsed": false
   }
  },
  {
   "cell_type": "markdown",
   "source": [
    "## Results\n",
    "We have 4 clusters of penguins. 2 of the clusters are female, and 2 of the clusters are male. The main difference between each sex's 2 groups is the body mass. Group A for each sex is significantly larger than group B. These larger penguins also had longer, thinner culmens and longer flippers. Based on the visual, the groupings appear accurate and logical. The centroids are distant from one another and their bubbles hover near the centroid. Clusters 0 and 2 have a larger variation than clusters 1 and 3, suggesting that there may be a reasoning for a 5th or 6th group."
   ],
   "metadata": {
    "collapsed": false
   }
  }
 ],
 "metadata": {
  "kernelspec": {
   "display_name": "Python 3",
   "language": "python",
   "name": "python3"
  },
  "language_info": {
   "codemirror_mode": {
    "name": "ipython",
    "version": 2
   },
   "file_extension": ".py",
   "mimetype": "text/x-python",
   "name": "python",
   "nbconvert_exporter": "python",
   "pygments_lexer": "ipython2",
   "version": "2.7.6"
  }
 },
 "nbformat": 4,
 "nbformat_minor": 0
}

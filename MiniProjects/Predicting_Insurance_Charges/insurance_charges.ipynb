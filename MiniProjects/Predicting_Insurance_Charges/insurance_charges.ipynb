{
 "cells": [
  {
   "cell_type": "code",
   "execution_count": 58,
   "metadata": {
    "collapsed": true
   },
   "outputs": [],
   "source": [
    "#Import required libraries\n",
    "import pandas as pd\n",
    "import numpy as np\n",
    "from sklearn.preprocessing import StandardScaler\n",
    "from sklearn.model_selection import cross_val_score\n",
    "from sklearn.impute import SimpleImputer\n",
    "from sklearn.linear_model import LinearRegression\n",
    "import seaborn as sns\n",
    "import matplotlib.pyplot as plt"
   ]
  },
  {
   "cell_type": "code",
   "execution_count": 59,
   "outputs": [
    {
     "name": "stdout",
     "output_type": "stream",
     "text": [
      "    age     sex     bmi  children smoker     region       charges\n",
      "0  19.0  female  27.900       0.0    yes  southwest     16884.924\n",
      "1  18.0    male  33.770       1.0     no  Southeast     1725.5523\n",
      "2  28.0    male  33.000       3.0     no  southeast     $4449.462\n",
      "3  33.0    male  22.705       0.0     no  northwest  $21984.47061\n",
      "4  32.0    male  28.880       0.0     no  northwest    $3866.8552\n"
     ]
    }
   ],
   "source": [
    "insurance_data_path = 'insurance.csv'\n",
    "insurance = pd.read_csv(insurance_data_path)\n",
    "print(insurance.head())"
   ],
   "metadata": {
    "collapsed": false
   }
  },
  {
   "cell_type": "markdown",
   "source": [
    "Let's take a look at the insurance dataset."
   ],
   "metadata": {
    "collapsed": false
   }
  },
  {
   "cell_type": "code",
   "execution_count": 60,
   "outputs": [
    {
     "name": "stdout",
     "output_type": "stream",
     "text": [
      "<class 'pandas.core.frame.DataFrame'>\n",
      "RangeIndex: 1338 entries, 0 to 1337\n",
      "Data columns (total 7 columns):\n",
      " #   Column    Non-Null Count  Dtype  \n",
      "---  ------    --------------  -----  \n",
      " 0   age       1272 non-null   float64\n",
      " 1   sex       1272 non-null   object \n",
      " 2   bmi       1272 non-null   float64\n",
      " 3   children  1272 non-null   float64\n",
      " 4   smoker    1272 non-null   object \n",
      " 5   region    1272 non-null   object \n",
      " 6   charges   1284 non-null   object \n",
      "dtypes: float64(3), object(4)\n",
      "memory usage: 73.3+ KB\n",
      "None\n",
      "               age          bmi     children\n",
      "count  1272.000000  1272.000000  1272.000000\n",
      "mean     35.214623    30.560550     0.948899\n",
      "std      22.478251     6.095573     1.303532\n",
      "min     -64.000000    15.960000    -4.000000\n",
      "25%      24.750000    26.180000     0.000000\n",
      "50%      38.000000    30.210000     1.000000\n",
      "75%      51.000000    34.485000     2.000000\n",
      "max      64.000000    53.130000     5.000000\n"
     ]
    }
   ],
   "source": [
    "print(insurance.info())\n",
    "print(insurance.describe())"
   ],
   "metadata": {
    "collapsed": false
   }
  },
  {
   "cell_type": "markdown",
   "source": [
    "Looks like we have a few issues with the data quality:\n",
    "1. Some null values in every column except charges.\n",
    "2. We also have negative values in age and children columns.\n",
    "3. Charges contains a dollar sign and is stored as an object rather than a float.\n",
    "4. It appears that there are some nulls in each column.\n",
    "\n",
    "First, let's explore the value counts of each of the categorical columns."
   ],
   "metadata": {
    "collapsed": false
   }
  },
  {
   "cell_type": "code",
   "execution_count": 61,
   "outputs": [
    {
     "name": "stdout",
     "output_type": "stream",
     "text": [
      "male      517\n",
      "female    503\n",
      "man        64\n",
      "M          64\n",
      "woman      62\n",
      "F          62\n",
      "Name: sex, dtype: int64\n",
      "no     1013\n",
      "yes     259\n",
      "Name: smoker, dtype: int64\n",
      "Southeast    172\n",
      "southeast    170\n",
      "southwest    164\n",
      "Northwest    161\n",
      "Northeast    155\n",
      "northeast    153\n",
      "northwest    149\n",
      "Southwest    148\n",
      "Name: region, dtype: int64\n",
      "$nan            12\n",
      "1639.5631        2\n",
      "16884.924        1\n",
      "13555.0049       1\n",
      "4661.28635       1\n",
      "                ..\n",
      "7345.084         1\n",
      "26109.32905      1\n",
      "$28287.89766     1\n",
      "1149.3959        1\n",
      "29141.3603       1\n",
      "Name: charges, Length: 1272, dtype: int64\n"
     ]
    }
   ],
   "source": [
    "cat_cols = ['sex', 'smoker', 'region', 'charges']\n",
    "\n",
    "for col in cat_cols:\n",
    "    print(insurance[col].value_counts())"
   ],
   "metadata": {
    "collapsed": false
   }
  },
  {
   "cell_type": "markdown",
   "source": [
    "We also see now that we have data entry issues with the sex column and region column. Let's make a few of the necessary cleanings.\n",
    "\n",
    "We will remove any values below 0 in the children column. We can also assume that insurance will not be permitted to anyone under the age of 16, so we will filter age by 16 and over as well. We will fix the sex entries and then lower the capitalization of region.\n",
    "\n",
    "Finally, we will remove the nulls from only the charges column since that will be our target variable. We will impute the nulls for the other columns in an upcoming step."
   ],
   "metadata": {
    "collapsed": false
   }
  },
  {
   "cell_type": "code",
   "execution_count": 62,
   "outputs": [
    {
     "name": "stdout",
     "output_type": "stream",
     "text": [
      "    age     sex     bmi  children smoker     region      charges\n",
      "0  19.0  female  27.900       0.0    yes  southwest  16884.92400\n",
      "1  18.0    male  33.770       1.0     no  southeast   1725.55230\n",
      "2  28.0    male  33.000       3.0     no  southeast   4449.46200\n",
      "3  33.0    male  22.705       0.0     no  northwest  21984.47061\n",
      "4  32.0    male  28.880       0.0     no  northwest   3866.85520\n"
     ]
    },
    {
     "name": "stderr",
     "output_type": "stream",
     "text": [
      "C:\\Users\\Mikey\\AppData\\Local\\Temp\\ipykernel_332072\\2305135424.py:2: FutureWarning: The default value of regex will change from True to False in a future version. In addition, single character regular expressions will *not* be treated as literal strings when regex=True.\n",
      "  insurance['charges'] =  insurance['charges'].str.replace('$', '').astype(float)\n"
     ]
    }
   ],
   "source": [
    "# Remove the dollar sign from charges\n",
    "insurance['charges'] =  insurance['charges'].str.replace('$', '').astype(float)\n",
    "\n",
    "\n",
    "# Remove rows when age is below 16\n",
    "insurance['age'] = insurance['age'].apply(lambda x: x*-1 if x < 16 else x).round()\n",
    "\n",
    "# Remove rows when children are less than 0\n",
    "insurance['children'] = insurance['children'].apply(lambda x: x*-1 if x < 0 else x).round()\n",
    "\n",
    "# Fix sex entries\n",
    "insurance['sex'] = insurance['sex'].str.replace('man', 'male').str.replace('woman', 'female').str.replace('M', 'male').str.replace('F', 'female').str.replace('womale', 'female')\n",
    "\n",
    "# Lowercasing region will coalesce all disparate entries\n",
    "insurance['region'] = insurance['region'].str.lower()\n",
    "\n",
    "insurance = insurance.dropna(subset=['charges'])\n",
    "\n",
    "print(insurance.head())"
   ],
   "metadata": {
    "collapsed": false
   }
  },
  {
   "cell_type": "markdown",
   "source": [
    "Next, we'll create a few count and dist plots to further explore the data and ensure we didn't miss anything."
   ],
   "metadata": {
    "collapsed": false
   }
  },
  {
   "cell_type": "code",
   "execution_count": 63,
   "outputs": [
    {
     "data": {
      "text/plain": "<Figure size 640x480 with 1 Axes>",
      "image/png": "[encoded data removed]"
     },
     "metadata": {},
     "output_type": "display_data"
    }
   ],
   "source": [
    "sns.countplot(data=insurance, x='sex')\n",
    "plt.show()"
   ],
   "metadata": {
    "collapsed": false
   }
  },
  {
   "cell_type": "code",
   "execution_count": 64,
   "outputs": [
    {
     "data": {
      "text/plain": "<Figure size 640x480 with 1 Axes>",
      "image/png": "[encoded data removed]"
     },
     "metadata": {},
     "output_type": "display_data"
    }
   ],
   "source": [
    "sns.countplot(data=insurance, x='smoker')\n",
    "plt.show()"
   ],
   "metadata": {
    "collapsed": false
   }
  },
  {
   "cell_type": "code",
   "execution_count": 65,
   "outputs": [
    {
     "data": {
      "text/plain": "<Figure size 640x480 with 1 Axes>",
      "image/png": "[encoded data removed]"
     },
     "metadata": {},
     "output_type": "display_data"
    }
   ],
   "source": [
    "sns.histplot(data=insurance, x='children', binwidth=1)\n",
    "plt.show()"
   ],
   "metadata": {
    "collapsed": false
   }
  },
  {
   "cell_type": "code",
   "execution_count": 66,
   "outputs": [
    {
     "data": {
      "text/plain": "<Figure size 640x480 with 1 Axes>",
      "image/png": "[encoded data removed]"
     },
     "metadata": {},
     "output_type": "display_data"
    }
   ],
   "source": [
    "sns.histplot(data=insurance, x='region', binwidth=1)\n",
    "plt.show()"
   ],
   "metadata": {
    "collapsed": false
   }
  },
  {
   "cell_type": "code",
   "execution_count": 67,
   "outputs": [
    {
     "data": {
      "text/plain": "<Figure size 640x480 with 1 Axes>",
      "image/png": "[encoded data removed]"
     },
     "metadata": {},
     "output_type": "display_data"
    }
   ],
   "source": [
    "sns.histplot(data=insurance, x='bmi', binwidth=1, kde=True)\n",
    "plt.show()"
   ],
   "metadata": {
    "collapsed": false
   }
  },
  {
   "cell_type": "code",
   "execution_count": 68,
   "outputs": [
    {
     "data": {
      "text/plain": "<Figure size 500x500 with 1 Axes>",
      "image/png": "[encoded data removed]"
     },
     "metadata": {},
     "output_type": "display_data"
    }
   ],
   "source": [
    "sns.displot(data=insurance, x='charges')\n",
    "plt.show()"
   ],
   "metadata": {
    "collapsed": false
   }
  },
  {
   "cell_type": "markdown",
   "source": [
    "Everything looks great, so now we will set up our preprocessing steps, including imputing categorical columns by mode and numerical columns by median."
   ],
   "metadata": {
    "collapsed": false
   }
  },
  {
   "cell_type": "code",
   "execution_count": 69,
   "outputs": [],
   "source": [
    "categorical_columns = ['sex', 'smoker', 'region']\n",
    "imp_cat = SimpleImputer(strategy='most_frequent')\n",
    "for col in categorical_columns:\n",
    "    insurance[col] = imp_cat.fit_transform(insurance[[col]])\n",
    "\n",
    "numerical_columns = ['age', 'bmi', 'children']\n",
    "imp_num = SimpleImputer(strategy='median')\n",
    "for col in numerical_columns:\n",
    "    insurance[col] = imp_num.fit_transform(insurance[[col]])"
   ],
   "metadata": {
    "collapsed": false
   }
  },
  {
   "cell_type": "markdown",
   "source": [
    "Quickly, let's make sure that there are no duplicates."
   ],
   "metadata": {
    "collapsed": false
   }
  },
  {
   "cell_type": "code",
   "execution_count": 70,
   "outputs": [
    {
     "name": "stdout",
     "output_type": "stream",
     "text": [
      "      age   sex    bmi  children smoker     region    charges\n",
      "581  19.0  male  30.59       0.0     no  northwest  1639.5631\n"
     ]
    }
   ],
   "source": [
    "print(insurance[insurance.duplicated() == True])"
   ],
   "metadata": {
    "collapsed": false
   }
  },
  {
   "cell_type": "markdown",
   "source": [
    "Since we have a duplicate row, let's drop it by selecting the first row."
   ],
   "metadata": {
    "collapsed": false
   }
  },
  {
   "cell_type": "code",
   "execution_count": 71,
   "outputs": [],
   "source": [
    "insurance = insurance.drop_duplicates(keep='first')"
   ],
   "metadata": {
    "collapsed": false
   }
  },
  {
   "cell_type": "markdown",
   "source": [
    "Next, let's one-hot encode the categorical columns."
   ],
   "metadata": {
    "collapsed": false
   }
  },
  {
   "cell_type": "code",
   "execution_count": 72,
   "outputs": [
    {
     "name": "stdout",
     "output_type": "stream",
     "text": [
      "Index(['age', 'bmi', 'children', 'charges', 'sex_male', 'smoker_yes',\n",
      "       'region_northwest', 'region_southeast', 'region_southwest'],\n",
      "      dtype='object')\n"
     ]
    }
   ],
   "source": [
    "insurance_dummies = pd.get_dummies(insurance[['sex', 'smoker', 'region']], drop_first=True)\n",
    "insurance_dummies = pd.concat([insurance, insurance_dummies], axis=1)\n",
    "insurance_dummies = insurance_dummies.drop(['sex', 'smoker', 'region'], axis=1)\n",
    "print(insurance_dummies.columns)"
   ],
   "metadata": {
    "collapsed": false
   }
  },
  {
   "cell_type": "markdown",
   "source": [
    "Now we can set up our X and y feature lists with charges as our target variable. We will also scale the numeric columns and instantiate our linear regression model per the instructions. Since we have a separate validation set, we will not need to split this set first."
   ],
   "metadata": {
    "collapsed": false
   }
  },
  {
   "cell_type": "code",
   "execution_count": 73,
   "outputs": [],
   "source": [
    "X = insurance_dummies.drop(columns=['charges'])\n",
    "y = insurance_dummies['charges']\n",
    "\n",
    "scaler = StandardScaler()\n",
    "X[numerical_columns] = scaler.fit_transform(X[numerical_columns])\n",
    "\n",
    "model = LinearRegression()"
   ],
   "metadata": {
    "collapsed": false
   }
  },
  {
   "cell_type": "markdown",
   "source": [
    "We'll use R2 as our scoring method."
   ],
   "metadata": {
    "collapsed": false
   }
  },
  {
   "cell_type": "code",
   "execution_count": 74,
   "outputs": [
    {
     "name": "stdout",
     "output_type": "stream",
     "text": [
      "0.7210333750417799\n"
     ]
    }
   ],
   "source": [
    "model.fit(X, y)\n",
    "y_pred = model.predict(X)\n",
    "cv_results = cross_val_score(model, X, y, cv=5, scoring='r2')\n",
    "\n",
    "r2_score = cv_results.mean()\n",
    "print(r2_score)"
   ],
   "metadata": {
    "collapsed": false
   }
  },
  {
   "cell_type": "markdown",
   "source": [
    "This model explains 72.1% of the variance in predicting insurance charges, exceeding the required 65%. We will continue running this model on our validation set next."
   ],
   "metadata": {
    "collapsed": false
   }
  },
  {
   "cell_type": "code",
   "execution_count": 75,
   "outputs": [
    {
     "name": "stdout",
     "output_type": "stream",
     "text": [
      "    age     sex        bmi  children smoker     region\n",
      "0  18.0  female  24.090000       1.0     no  southeast\n",
      "1  39.0    male  26.410000       0.0    yes  northeast\n",
      "2  27.0    male  29.150000       0.0    yes  southeast\n",
      "3  71.0    male  65.502135      13.0    yes  southeast\n",
      "4  28.0    male  38.060000       0.0     no  southeast\n"
     ]
    }
   ],
   "source": [
    "validation_data = pd.read_csv('validation_dataset.csv')\n",
    "\n",
    "print(validation_data.head())"
   ],
   "metadata": {
    "collapsed": false
   }
  },
  {
   "cell_type": "markdown",
   "source": [
    "Let's ensure that the validation set does not need the same cleaning as the training set by viewing the info, describe, and value_counts methods."
   ],
   "metadata": {
    "collapsed": false
   }
  },
  {
   "cell_type": "code",
   "execution_count": 76,
   "outputs": [
    {
     "name": "stdout",
     "output_type": "stream",
     "text": [
      "<class 'pandas.core.frame.DataFrame'>\n",
      "RangeIndex: 50 entries, 0 to 49\n",
      "Data columns (total 6 columns):\n",
      " #   Column    Non-Null Count  Dtype  \n",
      "---  ------    --------------  -----  \n",
      " 0   age       50 non-null     float64\n",
      " 1   sex       50 non-null     object \n",
      " 2   bmi       50 non-null     float64\n",
      " 3   children  50 non-null     float64\n",
      " 4   smoker    50 non-null     object \n",
      " 5   region    50 non-null     object \n",
      "dtypes: float64(3), object(3)\n",
      "memory usage: 2.5+ KB\n",
      "None\n",
      "             age        bmi   children\n",
      "count  50.000000  50.000000  50.000000\n",
      "mean   46.820000  39.539907   2.780000\n",
      "std    21.681074  17.725844   4.026899\n",
      "min    18.000000  18.715000   0.000000\n",
      "25%    28.000000  27.575000   0.000000\n",
      "50%    44.500000  33.807500   1.000000\n",
      "75%    60.750000  40.208750   2.750000\n",
      "max    92.000000  89.097296  13.000000\n",
      "female    25\n",
      "male      25\n",
      "Name: sex, dtype: int64\n",
      "no     32\n",
      "yes    18\n",
      "Name: smoker, dtype: int64\n",
      "northwest    16\n",
      "southeast    14\n",
      "northeast    11\n",
      "southwest     9\n",
      "Name: region, dtype: int64\n"
     ]
    }
   ],
   "source": [
    "print(validation_data.info())\n",
    "print(validation_data.describe())\n",
    "\n",
    "for col in ['sex', 'smoker', 'region']:\n",
    "    print(validation_data[col].value_counts())"
   ],
   "metadata": {
    "collapsed": false
   }
  },
  {
   "cell_type": "markdown",
   "source": [
    "No null values, age is above 18 in this case, and no misspellings. We are clear to use our model on this set."
   ],
   "metadata": {
    "collapsed": false
   }
  },
  {
   "cell_type": "code",
   "execution_count": 77,
   "outputs": [
    {
     "name": "stdout",
     "output_type": "stream",
     "text": [
      "     age     sex        bmi  children smoker     region  predicted_charges\n",
      "0   18.0  female  24.090000       1.0     no  southeast        1598.216065\n",
      "1   39.0    male  26.410000       0.0    yes  northeast       29625.585584\n",
      "2   27.0    male  29.150000       0.0    yes  southeast       27323.977240\n",
      "3   71.0    male  65.502135      13.0    yes  southeast       40470.464791\n",
      "4   28.0    male  38.060000       0.0     no  southeast        4655.350300\n",
      "5   70.0  female  72.958351      11.0    yes  southeast       40907.946433\n",
      "6   29.0  female  32.110000       2.0     no  northwest        4761.161810\n",
      "7   42.0  female  41.325000       1.0     no  northeast        8133.040753\n",
      "8   48.0  female  36.575000       0.0     no  northwest        8201.773782\n",
      "9   63.0    male  33.660000       3.0     no  southeast       10472.637707\n",
      "10  27.0    male  18.905000       3.0     no  northeast        3340.357745\n",
      "11  51.0  female  36.670000       2.0     no  northwest        8980.429892\n",
      "12  60.0  female  24.530000       0.0     no  southeast        8609.383189\n",
      "13  57.0  female  28.700000       0.0     no  southwest        8340.827286\n",
      "14  20.0  female  28.975000       0.0     no  northwest        2633.359313\n",
      "15  18.0    male  30.400000       3.0     no  northeast        3090.168058\n",
      "16  83.0    male  89.097296       9.0     no  northwest       21047.314441\n",
      "17  92.0  female  69.127267      13.0    yes  southeast       44461.782829\n",
      "18  84.0  female  75.742693       2.0    yes  southwest       42180.688859\n",
      "19  55.0  female  26.980000       0.0     no  northwest        8324.071973\n",
      "20  23.0    male  18.715000       0.0     no  northwest        1962.434970\n",
      "21  49.0  female  33.345000       2.0     no  northeast        8564.489764\n",
      "22  33.0  female  35.530000       0.0    yes  northwest       29374.778117\n",
      "23  47.0  female  36.000000       1.0     no  southwest        7589.093241\n",
      "24  40.0    male  32.300000       2.0     no  northwest        6595.712806\n",
      "25  21.0  female  35.720000       0.0     no  northwest        3547.340100\n",
      "26  74.0  female  65.454749      13.0    yes  northeast       41593.729326\n",
      "27  28.0  female  25.800000       0.0     no  southwest        3122.714162\n",
      "28  57.0  female  25.740000       2.0     no  southeast        8497.878691\n",
      "29  45.0    male  33.700000       1.0     no  southwest        6953.035666\n",
      "30  27.0  female  32.395000       1.0     no  northeast        4613.255147\n",
      "31  19.0  female  33.110000       0.0    yes  southeast       26454.524734\n",
      "32  44.0  female  20.235000       1.0    yes  northeast       29962.858168\n",
      "33  63.0  female  26.220000       0.0     no  northwest        9591.224664\n",
      "34  43.0  female  24.700000       2.0    yes  northwest       30128.812780\n",
      "35  46.0    male  40.375000       2.0     no  northwest        8501.054960\n",
      "36  78.0    male  66.370173      11.0    yes  northwest       41775.564076\n",
      "37  52.0    male  38.600000       2.0     no  southwest        8807.285365\n",
      "38  18.0    male  21.780000       2.0     no  southeast        1429.578930\n",
      "39  70.0    male  60.617535      10.0     no  southeast       15547.983097\n",
      "40  29.0    male  34.400000       0.0    yes  southwest       28019.166230\n",
      "41  35.0    male  39.710000       4.0     no  northeast        7120.455801\n",
      "42  29.0    male  27.200000       0.0     no  southwest        3402.045425\n",
      "43  89.0    male  68.736874       6.0    yes  northwest       43241.033579\n",
      "44  26.0    male  32.490000       1.0     no  northeast        4410.651729\n",
      "45  58.0    male  36.955000       2.0    yes  northwest       33971.688146\n",
      "46  92.0    male  84.973279      11.0    yes  southwest       45683.986893\n",
      "47  19.0    male  44.880000       0.0    yes  southeast       27710.498950\n",
      "48  61.0    male  33.915000       0.0     no  northeast       10348.409334\n",
      "49  44.0  female  38.060000       0.0    yes  southeast       31223.539552\n"
     ]
    }
   ],
   "source": [
    "validation_dummies = pd.get_dummies(validation_data[['sex', 'smoker', 'region']], drop_first=True)\n",
    "validation_dummies = pd.concat([validation_data, validation_dummies], axis=1)\n",
    "validation_dummies = validation_dummies.drop(['sex', 'smoker', 'region'], axis=1)\n",
    "\n",
    "X_test = validation_dummies\n",
    "\n",
    "scaler = StandardScaler()\n",
    "X_test[numerical_columns] = scaler.fit_transform(X_test[numerical_columns])\n",
    "\n",
    "y_pred_test = model.predict(X_test)\n",
    "validation_data['predicted_charges'] = y_pred_test\n",
    "print(validation_data)"
   ],
   "metadata": {
    "collapsed": false
   }
  },
  {
   "cell_type": "markdown",
   "source": [
    "## Results\n",
    "After preprocessing, the regression model explained 72.1% of the variance in predicting insurance charges, which surpassed the required 65%. The model then predicted the charges for each of the 50 records in the validation set. None of those predictions had a negative value or were below the minimum basic charge of 1000."
   ],
   "metadata": {
    "collapsed": false
   }
  }
 ],
 "metadata": {
  "kernelspec": {
   "display_name": "Python 3",
   "language": "python",
   "name": "python3"
  },
  "language_info": {
   "codemirror_mode": {
    "name": "ipython",
    "version": 2
   },
   "file_extension": ".py",
   "mimetype": "text/x-python",
   "name": "python",
   "nbconvert_exporter": "python",
   "pygments_lexer": "ipython2",
   "version": "2.7.6"
  }
 },
 "nbformat": 4,
 "nbformat_minor": 0
}

{
 "cells": [
  {
   "cell_type": "code",
   "execution_count": 107,
   "metadata": {
    "collapsed": true
   },
   "outputs": [],
   "source": [
    "# Import necessary libraries\n",
    "import pandas as pd\n",
    "import numpy as np\n",
    "from sklearn.model_selection import train_test_split, KFold, GridSearchCV\n",
    "from sklearn.preprocessing import RobustScaler, OneHotEncoder\n",
    "from sklearn.linear_model import LogisticRegression\n",
    "from sklearn.metrics import accuracy_score, precision_score, recall_score, f1_score, confusion_matrix\n",
    "from sklearn.impute import SimpleImputer\n",
    "from sklearn.pipeline import Pipeline\n",
    "from sklearn.compose import ColumnTransformer\n",
    "from sklearn.neighbors import KNeighborsClassifier\n",
    "from sklearn.ensemble import GradientBoostingClassifier, RandomForestClassifier\n",
    "from sklearn.tree import DecisionTreeClassifier\n",
    "from scipy import stats\n",
    "import matplotlib.pyplot as plt\n",
    "import seaborn as sns\n",
    "\n",
    "seed = 42"
   ]
  },
  {
   "cell_type": "code",
   "execution_count": 108,
   "outputs": [
    {
     "name": "stdout",
     "output_type": "stream",
     "text": [
      "  0      1      2  3  4  5  6     7  8  9   10 11   12 13\n",
      "0  b  30.83  0.000  u  g  w  v  1.25  t  t   1  g    0  +\n",
      "1  a  58.67  4.460  u  g  q  h  3.04  t  t   6  g  560  +\n",
      "2  a  24.50  0.500  u  g  q  h  1.50  t  f   0  g  824  +\n",
      "3  b  27.83  1.540  u  g  w  v  3.75  t  t   5  g    3  +\n",
      "4  b  20.17  5.625  u  g  w  v  1.71  t  f   0  s    0  +\n"
     ]
    }
   ],
   "source": [
    "# Load the dataset\n",
    "cc_apps = pd.read_csv(\"cc_approvals.data\", header=None)\n",
    "print(cc_apps.head())"
   ],
   "metadata": {
    "collapsed": false
   }
  },
  {
   "cell_type": "markdown",
   "source": [
    "What's interesting with this dataset, being a data file, there are no column headers. However, we can make one critical assumptions: column index 13 contains a + for approval. Let's confirm the types of values that exist in that column, and also explore the dataset's stats."
   ],
   "metadata": {
    "collapsed": false
   }
  },
  {
   "cell_type": "code",
   "execution_count": 109,
   "outputs": [
    {
     "name": "stdout",
     "output_type": "stream",
     "text": [
      "               2           7          10             12\n",
      "count  690.000000  690.000000  690.00000     690.000000\n",
      "mean     4.758725    2.223406    2.40000    1017.385507\n",
      "std      4.978163    3.346513    4.86294    5210.102598\n",
      "min      0.000000    0.000000    0.00000       0.000000\n",
      "25%      1.000000    0.165000    0.00000       0.000000\n",
      "50%      2.750000    1.000000    0.00000       5.000000\n",
      "75%      7.207500    2.625000    3.00000     395.500000\n",
      "max     28.000000   28.500000   67.00000  100000.000000\n",
      "<class 'pandas.core.frame.DataFrame'>\n",
      "RangeIndex: 690 entries, 0 to 689\n",
      "Data columns (total 14 columns):\n",
      " #   Column  Non-Null Count  Dtype  \n",
      "---  ------  --------------  -----  \n",
      " 0   0       690 non-null    object \n",
      " 1   1       690 non-null    object \n",
      " 2   2       690 non-null    float64\n",
      " 3   3       690 non-null    object \n",
      " 4   4       690 non-null    object \n",
      " 5   5       690 non-null    object \n",
      " 6   6       690 non-null    object \n",
      " 7   7       690 non-null    float64\n",
      " 8   8       690 non-null    object \n",
      " 9   9       690 non-null    object \n",
      " 10  10      690 non-null    int64  \n",
      " 11  11      690 non-null    object \n",
      " 12  12      690 non-null    int64  \n",
      " 13  13      690 non-null    object \n",
      "dtypes: float64(2), int64(2), object(10)\n",
      "memory usage: 75.6+ KB\n",
      "None\n"
     ]
    }
   ],
   "source": [
    "print(cc_apps.describe())\n",
    "print(cc_apps.info())"
   ],
   "metadata": {
    "collapsed": false
   }
  },
  {
   "cell_type": "code",
   "execution_count": 110,
   "outputs": [
    {
     "name": "stdout",
     "output_type": "stream",
     "text": [
      "-    383\n",
      "+    307\n",
      "Name: 13, dtype: int64\n"
     ]
    }
   ],
   "source": [
    "print(cc_apps[13].value_counts())"
   ],
   "metadata": {
    "collapsed": false
   }
  },
  {
   "cell_type": "markdown",
   "source": [
    "We see that a minus sign defines a credit card rejection. It's worth noting that the numeric columns may have outliers. There is no missing data, however. Let's examine the outliers."
   ],
   "metadata": {
    "collapsed": false
   }
  },
  {
   "cell_type": "code",
   "execution_count": 111,
   "outputs": [
    {
     "name": "stdout",
     "output_type": "stream",
     "text": [
      "2     10\n",
      "7     22\n",
      "10     8\n",
      "12     6\n",
      "dtype: int64\n"
     ]
    }
   ],
   "source": [
    "numeric_cols = [2, 7, 10, 12]\n",
    "cat_cols = [0, 1, 3, 4, 5, 6, 8, 9, 11]\n",
    "\n",
    "z_scores = np.abs(stats.zscore(cc_apps[numeric_cols]))\n",
    "outliers_mask = z_scores > 3\n",
    "outliers_count = outliers_mask.sum()\n",
    "print(outliers_count)"
   ],
   "metadata": {
    "collapsed": false
   }
  },
  {
   "cell_type": "markdown",
   "source": [
    "It looks like there is a handful of outliers, but based on the context of credit card applications, it is feasible that these columns could have outlier data rather than be due to bad data entry or other errors. We'll leave them in the dataset, but will utilize the Robust Scaler rather than Standard Scaler to help mitigate the impact of outliers on the Logistic Regression and K Neighbors Classifier models."
   ],
   "metadata": {
    "collapsed": false
   }
  },
  {
   "cell_type": "markdown",
   "source": [
    "We will also include Random Forest and Gradient Boosting classifier models, which are more robust to outliers.\n",
    "\n",
    "Let's now explore the value counts for each of the categorical columns."
   ],
   "metadata": {
    "collapsed": false
   }
  },
  {
   "cell_type": "code",
   "execution_count": 112,
   "outputs": [
    {
     "name": "stdout",
     "output_type": "stream",
     "text": [
      "b    468\n",
      "a    210\n",
      "?     12\n",
      "Name: 0, dtype: int64\n",
      "?        12\n",
      "22.67     9\n",
      "20.42     7\n",
      "18.83     6\n",
      "24.50     6\n",
      "         ..\n",
      "48.25     1\n",
      "28.33     1\n",
      "18.75     1\n",
      "18.50     1\n",
      "36.42     1\n",
      "Name: 1, Length: 350, dtype: int64\n",
      "u    519\n",
      "y    163\n",
      "?      6\n",
      "l      2\n",
      "Name: 3, dtype: int64\n",
      "g     519\n",
      "p     163\n",
      "?       6\n",
      "gg      2\n",
      "Name: 4, dtype: int64\n",
      "c     137\n",
      "q      78\n",
      "w      64\n",
      "i      59\n",
      "aa     54\n",
      "ff     53\n",
      "k      51\n",
      "cc     41\n",
      "m      38\n",
      "x      38\n",
      "d      30\n",
      "e      25\n",
      "j      10\n",
      "?       9\n",
      "r       3\n",
      "Name: 5, dtype: int64\n",
      "v     399\n",
      "h     138\n",
      "bb     59\n",
      "ff     57\n",
      "?       9\n",
      "j       8\n",
      "z       8\n",
      "dd      6\n",
      "n       4\n",
      "o       2\n",
      "Name: 6, dtype: int64\n",
      "t    361\n",
      "f    329\n",
      "Name: 8, dtype: int64\n",
      "f    395\n",
      "t    295\n",
      "Name: 9, dtype: int64\n",
      "g    625\n",
      "s     57\n",
      "p      8\n",
      "Name: 11, dtype: int64\n"
     ]
    }
   ],
   "source": [
    "for col in cat_cols:\n",
    "    print(cc_apps[col].value_counts())"
   ],
   "metadata": {
    "collapsed": false
   }
  },
  {
   "cell_type": "markdown",
   "source": [
    "It looks like question marks are representing missing data. These should be nullified and imputed. The imputing will occur within the pipeline.\n",
    "\n",
    "Column 1 appears to contain float values but was registered as an object due to the question mark, so that will be converted nullifying the question marks."
   ],
   "metadata": {
    "collapsed": false
   }
  },
  {
   "cell_type": "code",
   "execution_count": 113,
   "outputs": [
    {
     "name": "stdout",
     "output_type": "stream",
     "text": [
      "  0      1      2  3  4  5  6     7  8  9   10 11   12 13\n",
      "0  b  30.83  0.000  u  g  w  v  1.25  t  t   1  g    0  +\n",
      "1  a  58.67  4.460  u  g  q  h  3.04  t  t   6  g  560  +\n",
      "2  a  24.50  0.500  u  g  q  h  1.50  t  f   0  g  824  +\n",
      "3  b  27.83  1.540  u  g  w  v  3.75  t  t   5  g    3  +\n",
      "4  b  20.17  5.625  u  g  w  v  1.71  t  f   0  s    0  +\n"
     ]
    }
   ],
   "source": [
    "cc_apps = cc_apps.replace('?', np.NaN)\n",
    "cc_apps[1] = cc_apps[1].astype(float)\n",
    "print(cc_apps.head())"
   ],
   "metadata": {
    "collapsed": false
   }
  },
  {
   "cell_type": "markdown",
   "source": [
    "Since column 13 is our target variable, we'll remove it for the X features and set it for our y feature, then split the dataset into training and testing sets."
   ],
   "metadata": {
    "collapsed": false
   }
  },
  {
   "cell_type": "code",
   "execution_count": 114,
   "outputs": [],
   "source": [
    "X = cc_apps.drop(13, axis=1).values\n",
    "y = cc_apps[13]\n",
    "X_train, X_test, y_train, y_test = train_test_split(X, y, test_size=0.3, random_state=seed)"
   ],
   "metadata": {
    "collapsed": false
   }
  },
  {
   "cell_type": "markdown",
   "source": [
    "We will also need to redeclare the numeric and categorical columns after changing column 1 to float."
   ],
   "metadata": {
    "collapsed": false
   }
  },
  {
   "cell_type": "code",
   "execution_count": 115,
   "outputs": [],
   "source": [
    "numeric_features = [1, 2, 7, 10, 12]\n",
    "categorical_features = [0, 3, 4, 5, 6, 8, 9, 11]"
   ],
   "metadata": {
    "collapsed": false
   }
  },
  {
   "cell_type": "markdown",
   "source": [
    "We'll instantiate the preprocessing step, including the imputing strategies (mean for numerical columns and mode for categorical columns), scaling, and one-hot encoding. We'll include the RobustScaler due to the outliers."
   ],
   "metadata": {
    "collapsed": false
   }
  },
  {
   "cell_type": "code",
   "execution_count": 116,
   "outputs": [],
   "source": [
    "preprocessor = ColumnTransformer(\n",
    "    transformers=[\n",
    "        ('num', Pipeline(steps=[\n",
    "            ('imputer', SimpleImputer(strategy='mean')),\n",
    "            ('scaler', RobustScaler())\n",
    "        ]), numeric_features),\n",
    "        ('cat', Pipeline(steps=[\n",
    "            ('imputer', SimpleImputer(strategy='most_frequent')),\n",
    "            ('onehot', OneHotEncoder(handle_unknown='ignore'))\n",
    "        ]), categorical_features)\n",
    "    ]\n",
    ")"
   ],
   "metadata": {
    "collapsed": false
   }
  },
  {
   "cell_type": "markdown",
   "source": [
    "Now we can instantiate the 5 models. There was a convergence issue with the logistic regression model, so I included the max_iter=5000 parameter and added classifier tolerance. We also have each model's parameters for hyperparameter tuning using GridSearchCV."
   ],
   "metadata": {
    "collapsed": false
   }
  },
  {
   "cell_type": "code",
   "execution_count": 117,
   "outputs": [],
   "source": [
    "models = {\n",
    "    'Logistic Regression': (LogisticRegression(random_state=seed, max_iter=5000), [\n",
    "        {\n",
    "            'classifier__C': np.arange(0.001, 1.1, 0.1),\n",
    "            'classifier__solver': ['liblinear', 'lbfgs', 'newton-cg', 'saga'],\n",
    "            'classifier__tol': [1e-4, 1e-3, 1e-2]\n",
    "        }\n",
    "    ]),\n",
    "    'KNN': (KNeighborsClassifier(), [\n",
    "        {\n",
    "            'classifier__n_neighbors': np.arange(1, 25, 3)\n",
    "        }\n",
    "    ]),\n",
    "    'Decision Tree': (DecisionTreeClassifier(random_state=seed), [\n",
    "        {\n",
    "            'classifier__max_depth': [None, 10, 20, 30, 40, 50],\n",
    "            'classifier__min_samples_leaf': [1, 2, 5, 10, 20],\n",
    "            'classifier__max_features': [None, 'sqrt', 'log2']\n",
    "        }\n",
    "    ]),\n",
    "    'Gradient Boosting': (GradientBoostingClassifier(random_state=seed), [\n",
    "        {\n",
    "            'classifier__n_estimators': [50, 100, 150],\n",
    "            'classifier__learning_rate': [0.01, 0.1, 0.2],\n",
    "            'classifier__max_depth': [3, 5, 7]\n",
    "        }\n",
    "    ]),\n",
    "    'Random Forest': (RandomForestClassifier(random_state=seed), [\n",
    "        {\n",
    "            'classifier__n_estimators': [50, 100, 150],\n",
    "            'classifier__max_depth': [None, 10, 20],\n",
    "            'classifier__min_samples_split': [2, 5, 10]\n",
    "        }\n",
    "    ])\n",
    "}"
   ],
   "metadata": {
    "collapsed": false
   }
  },
  {
   "cell_type": "markdown",
   "source": [
    "We'll use KFold to assist with cross validation, using 5 folds. We also instantiate an empty dictionary to store each model's results."
   ],
   "metadata": {
    "collapsed": false
   }
  },
  {
   "cell_type": "code",
   "execution_count": 118,
   "outputs": [],
   "source": [
    "kf = KFold(n_splits=5, shuffle=True, random_state=seed)\n",
    "\n",
    "best_models = {}"
   ],
   "metadata": {
    "collapsed": false
   }
  },
  {
   "cell_type": "markdown",
   "source": [
    "We will use the parameter grid and model names from the models dictionary to declare our pipeline, which will perform the preprocessing steps defined earlier for each model. GridSearchCV will perform the hyperparameter tuning for accuracy."
   ],
   "metadata": {
    "collapsed": false
   }
  },
  {
   "cell_type": "code",
   "execution_count": 119,
   "outputs": [
    {
     "name": "stdout",
     "output_type": "stream",
     "text": [
      "Logistic Regression: Best Parameters: {'classifier__C': 0.7010000000000001, 'classifier__solver': 'liblinear', 'classifier__tol': 0.01}, Best CV Score: 0.8695876288659793\n",
      "KNN: Best Parameters: {'classifier__n_neighbors': 19}, Best CV Score: 0.8404853951890034\n",
      "Decision Tree: Best Parameters: {'classifier__max_depth': None, 'classifier__max_features': None, 'classifier__min_samples_leaf': 5}, Best CV Score: 0.8592568728522336\n",
      "Gradient Boosting: Best Parameters: {'classifier__learning_rate': 0.01, 'classifier__max_depth': 3, 'classifier__n_estimators': 100}, Best CV Score: 0.8613187285223367\n",
      "Random Forest: Best Parameters: {'classifier__max_depth': 10, 'classifier__min_samples_split': 10, 'classifier__n_estimators': 50}, Best CV Score: 0.8757731958762885\n",
      "Logistic Regression: Best Parameters: {'classifier__C': 0.7010000000000001, 'classifier__solver': 'liblinear', 'classifier__tol': 0.01}, Best CV Score: 0.8695876288659793\n",
      "KNN: Best Parameters: {'classifier__n_neighbors': 19}, Best CV Score: 0.8404853951890034\n",
      "Decision Tree: Best Parameters: {'classifier__max_depth': None, 'classifier__max_features': None, 'classifier__min_samples_leaf': 5}, Best CV Score: 0.8592568728522336\n",
      "Gradient Boosting: Best Parameters: {'classifier__learning_rate': 0.01, 'classifier__max_depth': 3, 'classifier__n_estimators': 100}, Best CV Score: 0.8613187285223367\n",
      "Random Forest: Best Parameters: {'classifier__max_depth': 10, 'classifier__min_samples_split': 10, 'classifier__n_estimators': 50}, Best CV Score: 0.8757731958762885\n"
     ]
    }
   ],
   "source": [
    "for model_name, (model, param_grid) in models.items():\n",
    "    steps = [\n",
    "        ('preprocessor', preprocessor),\n",
    "        ('classifier', model)\n",
    "    ]\n",
    "    pipeline = Pipeline(steps)\n",
    "    grid_search = GridSearchCV(pipeline, param_grid, cv=kf, scoring='accuracy')\n",
    "    grid_search.fit(X_train, y_train)\n",
    "\n",
    "    best_models[model_name] = {\n",
    "        'best_estimator': grid_search.best_estimator_,\n",
    "        'best_params': grid_search.best_params_,\n",
    "        'best_score': grid_search.best_score_\n",
    "    }\n",
    "    print(f\"{model_name}: Best Parameters: {grid_search.best_params_}, Best CV Score: {grid_search.best_score_}\")\n"
   ],
   "metadata": {
    "collapsed": false
   }
  },
  {
   "cell_type": "markdown",
   "source": [
    "Now we can print the details and identify our best performing model."
   ],
   "metadata": {
    "collapsed": false
   }
  },
  {
   "cell_type": "code",
   "execution_count": 120,
   "outputs": [
    {
     "name": "stdout",
     "output_type": "stream",
     "text": [
      "Best model: Random Forest\n",
      "Best Parameters: {'classifier__max_depth': 10, 'classifier__min_samples_split': 10, 'classifier__n_estimators': 50}\n",
      "Best Cross-Validation Score: 0.8757731958762885\n",
      "Test Score: 0.8405797101449275\n",
      "Best model: Random Forest\n",
      "Best Parameters: {'classifier__max_depth': 10, 'classifier__min_samples_split': 10, 'classifier__n_estimators': 50}\n",
      "Best Cross-Validation Score: 0.8757731958762885\n",
      "Test Score: 0.8405797101449275\n"
     ]
    }
   ],
   "source": [
    "# Get the best model and its parameters\n",
    "best_model_name = max(best_models, key=lambda k: best_models[k]['best_score'])\n",
    "best_model_info = best_models[best_model_name]\n",
    "best_model_cv_score = best_model_info['best_score']\n",
    "best_model = best_model_info['best_estimator']\n",
    "best_params = grid_search.best_params_\n",
    "best_score = best_model.score(X_test, y_test)\n",
    "\n",
    "print(\"Best model:\", best_model_name)\n",
    "print(\"Best Parameters:\", best_params)\n",
    "print(\"Best Cross-Validation Score:\", best_model_cv_score)\n",
    "print(\"Test Score:\", best_score)"
   ],
   "metadata": {
    "collapsed": false
   }
  },
  {
   "cell_type": "markdown",
   "source": [
    "We see that the Random Forest model performs best. We measured for accuracy, but let's look at the confusion matrix to understand how this model classified the credit card applications."
   ],
   "metadata": {
    "collapsed": false
   }
  },
  {
   "cell_type": "code",
   "execution_count": 123,
   "outputs": [
    {
     "data": {
      "text/plain": "<Figure size 640x480 with 2 Axes>",
      "image/png": "[encoded data removed]"
     },
     "metadata": {},
     "output_type": "display_data"
    }
   ],
   "source": [
    "best_model.fit(X_train, y_train)\n",
    "y_pred = best_model.predict(X_test)\n",
    "\n",
    "conf_matrix = confusion_matrix(y_test, y_pred)\n",
    "\n",
    "sns.heatmap(conf_matrix, annot=True, fmt='d', cmap='Blues', xticklabels=['Predicted False', 'Predicted True'], yticklabels=['Actual False', 'Actual True'])\n",
    "plt.xlabel('Predicted')\n",
    "plt.ylabel('Actual')\n",
    "plt.title('Confusion Matrix')\n",
    "plt.show()"
   ],
   "metadata": {
    "collapsed": false
   }
  },
  {
   "cell_type": "markdown",
   "source": [
    "Looks like the model does a great job at correctly predicting both approved and rejected applications, making this model a strong fit for this business case."
   ],
   "metadata": {
    "collapsed": false
   }
  },
  {
   "cell_type": "code",
   "execution_count": 122,
   "outputs": [
    {
     "name": "stdout",
     "output_type": "stream",
     "text": [
      "Test Accuracy: 0.8405797101449275\n",
      "Test Precision: 0.8418584825234442\n",
      "Test Recall: 0.8405797101449275\n",
      "Test F1 Score: 0.8407287533047781\n",
      "Test Accuracy: 0.8405797101449275\n",
      "Test Precision: 0.8418584825234442\n",
      "Test Recall: 0.8405797101449275\n",
      "Test F1 Score: 0.8407287533047781\n"
     ]
    }
   ],
   "source": [
    "accuracy = accuracy_score(y_test, y_pred)\n",
    "precision = precision_score(y_test, y_pred, average='weighted')\n",
    "recall = recall_score(y_test, y_pred, average='weighted')\n",
    "f1 = f1_score(y_test, y_pred, average='weighted')\n",
    "\n",
    "print(f\"Test Accuracy: {accuracy}\")\n",
    "print(f\"Test Precision: {precision}\")\n",
    "print(f\"Test Recall: {recall}\")\n",
    "print(f\"Test F1 Score: {f1}\")\n"
   ],
   "metadata": {
    "collapsed": false
   }
  },
  {
   "cell_type": "markdown",
   "source": [
    "## Results\n",
    "The Random Forest ensemble mmodel performs best on this data set, producing an accuracy score of 87.58% on the training set and 84.06% on the testing set, well above the required 75% for the project. It performs strongly for correctly predicting approvals and rejections equally. Its accuracy, precision, recall, and f1 score on the test set are all at 84%."
   ],
   "metadata": {
    "collapsed": false
   }
  }
 ],
 "metadata": {
  "kernelspec": {
   "display_name": "Python 3",
   "language": "python",
   "name": "python3"
  },
  "language_info": {
   "codemirror_mode": {
    "name": "ipython",
    "version": 2
   },
   "file_extension": ".py",
   "mimetype": "text/x-python",
   "name": "python",
   "nbconvert_exporter": "python",
   "pygments_lexer": "ipython2",
   "version": "2.7.6"
  }
 },
 "nbformat": 4,
 "nbformat_minor": 0
}
